{
 "cells": [
  {
   "cell_type": "code",
   "execution_count": 5,
   "metadata": {},
   "outputs": [],
   "source": [
    "import matplotlib.pyplot as plt\n",
    "import numpy as np\n",
    "import pandas as pd\n",
    "from dask_ml.preprocessing import Categorizer\n",
    "from glum import GeneralizedLinearRegressor, TweedieDistribution\n",
    "from lightgbm import LGBMRegressor\n",
    "from sklearn.compose import ColumnTransformer\n",
    "from sklearn.metrics import auc\n",
    "from sklearn.model_selection import GridSearchCV\n",
    "from sklearn.pipeline import Pipeline\n",
    "from sklearn.preprocessing import OneHotEncoder, SplineTransformer, StandardScaler\n",
    "#import everything here in the masterfile\n",
    "#kernels sometimes need to be restarted when new lib installed\n",
    "import dalex as dx\n",
    "import nbformat\n",
    "\n",
    "import sys\n",
    "from pathlib import Path\n",
    "\n",
    "# Getting project root\n",
    "project_root = Path.cwd().resolve().parent\n",
    "\n",
    "# Add the project root directory to sys.path\n",
    "if str(project_root) not in sys.path:\n",
    "    sys.path.append(str(project_root))\n",
    "\n",
    "\n",
    "from ps3.data import create_sample_split, load_transform\n",
    "from evaluation.evaluate_predictions import evaluate_predictions\n",
    "#from ps3.data import train_tweedie, model_pipeline, spline_model\n",
    "#only if code reworked modularly, currently not needed"
   ]
  },
  {
   "cell_type": "code",
   "execution_count": 6,
   "metadata": {},
   "outputs": [
    {
     "data": {
      "text/html": [
       "<div>\n",
       "<style scoped>\n",
       "    .dataframe tbody tr th:only-of-type {\n",
       "        vertical-align: middle;\n",
       "    }\n",
       "\n",
       "    .dataframe tbody tr th {\n",
       "        vertical-align: top;\n",
       "    }\n",
       "\n",
       "    .dataframe thead th {\n",
       "        text-align: right;\n",
       "    }\n",
       "</style>\n",
       "<table border=\"1\" class=\"dataframe\">\n",
       "  <thead>\n",
       "    <tr style=\"text-align: right;\">\n",
       "      <th></th>\n",
       "      <th>IDpol</th>\n",
       "      <th>ClaimNb</th>\n",
       "      <th>Exposure</th>\n",
       "      <th>Area</th>\n",
       "      <th>VehPower</th>\n",
       "      <th>VehAge</th>\n",
       "      <th>DrivAge</th>\n",
       "      <th>BonusMalus</th>\n",
       "      <th>VehBrand</th>\n",
       "      <th>VehGas</th>\n",
       "      <th>Density</th>\n",
       "      <th>Region</th>\n",
       "      <th>ClaimAmount</th>\n",
       "      <th>ClaimAmountCut</th>\n",
       "    </tr>\n",
       "  </thead>\n",
       "  <tbody>\n",
       "    <tr>\n",
       "      <th>0</th>\n",
       "      <td>1</td>\n",
       "      <td>0</td>\n",
       "      <td>0.10</td>\n",
       "      <td>D</td>\n",
       "      <td>5</td>\n",
       "      <td>0</td>\n",
       "      <td>5</td>\n",
       "      <td>50</td>\n",
       "      <td>B12</td>\n",
       "      <td>Regular</td>\n",
       "      <td>1217</td>\n",
       "      <td>R82</td>\n",
       "      <td>0.0</td>\n",
       "      <td>0.0</td>\n",
       "    </tr>\n",
       "    <tr>\n",
       "      <th>1</th>\n",
       "      <td>3</td>\n",
       "      <td>0</td>\n",
       "      <td>0.77</td>\n",
       "      <td>D</td>\n",
       "      <td>5</td>\n",
       "      <td>0</td>\n",
       "      <td>5</td>\n",
       "      <td>50</td>\n",
       "      <td>B12</td>\n",
       "      <td>Regular</td>\n",
       "      <td>1217</td>\n",
       "      <td>R82</td>\n",
       "      <td>0.0</td>\n",
       "      <td>0.0</td>\n",
       "    </tr>\n",
       "    <tr>\n",
       "      <th>2</th>\n",
       "      <td>5</td>\n",
       "      <td>0</td>\n",
       "      <td>0.75</td>\n",
       "      <td>B</td>\n",
       "      <td>6</td>\n",
       "      <td>1</td>\n",
       "      <td>5</td>\n",
       "      <td>50</td>\n",
       "      <td>B12</td>\n",
       "      <td>Diesel</td>\n",
       "      <td>54</td>\n",
       "      <td>R22</td>\n",
       "      <td>0.0</td>\n",
       "      <td>0.0</td>\n",
       "    </tr>\n",
       "    <tr>\n",
       "      <th>3</th>\n",
       "      <td>10</td>\n",
       "      <td>0</td>\n",
       "      <td>0.09</td>\n",
       "      <td>B</td>\n",
       "      <td>7</td>\n",
       "      <td>0</td>\n",
       "      <td>4</td>\n",
       "      <td>50</td>\n",
       "      <td>B12</td>\n",
       "      <td>Diesel</td>\n",
       "      <td>76</td>\n",
       "      <td>R72</td>\n",
       "      <td>0.0</td>\n",
       "      <td>0.0</td>\n",
       "    </tr>\n",
       "    <tr>\n",
       "      <th>4</th>\n",
       "      <td>11</td>\n",
       "      <td>0</td>\n",
       "      <td>0.84</td>\n",
       "      <td>B</td>\n",
       "      <td>7</td>\n",
       "      <td>0</td>\n",
       "      <td>4</td>\n",
       "      <td>50</td>\n",
       "      <td>B12</td>\n",
       "      <td>Diesel</td>\n",
       "      <td>76</td>\n",
       "      <td>R72</td>\n",
       "      <td>0.0</td>\n",
       "      <td>0.0</td>\n",
       "    </tr>\n",
       "  </tbody>\n",
       "</table>\n",
       "</div>"
      ],
      "text/plain": [
       "   IDpol  ClaimNb  Exposure Area  VehPower  VehAge  DrivAge  BonusMalus  \\\n",
       "0      1        0      0.10    D         5       0        5          50   \n",
       "1      3        0      0.77    D         5       0        5          50   \n",
       "2      5        0      0.75    B         6       1        5          50   \n",
       "3     10        0      0.09    B         7       0        4          50   \n",
       "4     11        0      0.84    B         7       0        4          50   \n",
       "\n",
       "  VehBrand   VehGas  Density Region  ClaimAmount  ClaimAmountCut  \n",
       "0      B12  Regular     1217    R82          0.0             0.0  \n",
       "1      B12  Regular     1217    R82          0.0             0.0  \n",
       "2      B12   Diesel       54    R22          0.0             0.0  \n",
       "3      B12   Diesel       76    R72          0.0             0.0  \n",
       "4      B12   Diesel       76    R72          0.0             0.0  "
      ]
     },
     "execution_count": 6,
     "metadata": {},
     "output_type": "execute_result"
    }
   ],
   "source": [
    "# load data\n",
    "df = load_transform()\n",
    "df.head()"
   ]
  },
  {
   "cell_type": "code",
   "execution_count": 7,
   "metadata": {},
   "outputs": [
    {
     "data": {
      "text/plain": [
       "True"
      ]
     },
     "execution_count": 7,
     "metadata": {},
     "output_type": "execute_result"
    }
   ],
   "source": [
    "# Checking to ensure IDpol column is unique - we shall carry out split on this\n",
    "len(df[\"IDpol\"].unique()) == len(df)"
   ]
  },
  {
   "cell_type": "code",
   "execution_count": 8,
   "metadata": {},
   "outputs": [
    {
     "name": "stdout",
     "output_type": "stream",
     "text": [
      "training loss t_glm1:  73.69714563112665\n",
      "testing loss t_glm1:  73.69714563112665\n",
      "Total claim amount on train set, observed = 39477864.25, predicted = 10031127.33604094\n"
     ]
    }
   ],
   "source": [
    "# Train benchmark tweedie model. This is entirely based on the glum tutorial.\n",
    "#weight = df[\"Exposure\"].values\n",
    "df[\"PurePremium\"] = df[\"ClaimAmountCut\"] / df[\"Exposure\"]\n",
    "\n",
    "outcome = \"PurePremium\"\n",
    "# TODO: Why do you think, we divide by exposure here to arrive at our outcome variable?\n",
    "'''\n",
    "To get a yearly figure so we can compare claims that have a different time under risk\n",
    "'''\n",
    "\n",
    "\n",
    "# TODO: use your create_sample_split function here\n",
    "df_split = create_sample_split(df,\"IDpol\",0.8)\n",
    "df_train = df_split[0].copy()\n",
    "df_test = df_split[1].copy()\n",
    "\n",
    "\n",
    "categoricals = [\"VehBrand\", \"VehGas\", \"Region\", \"Area\", \"DrivAge\", \"VehAge\", \"VehPower\"]\n",
    "\n",
    "predictors = categoricals + [\"BonusMalus\", \"Density\"]\n",
    "glm_categorizer = Categorizer(columns=categoricals)\n",
    "\n",
    "\n",
    "X_train_t = glm_categorizer.fit_transform(df_train[predictors])\n",
    "X_test_t = glm_categorizer.transform(df_test[predictors])\n",
    "y_train_t, y_test_t = df_train[outcome], df_test[outcome]\n",
    "w_train_t, w_test_t = df_train[\"Exposure\"], df_test[\"Exposure\"]\n",
    "\n",
    "TweedieDist = TweedieDistribution(1.5)\n",
    "t_glm1 = GeneralizedLinearRegressor(family=TweedieDist, l1_ratio=1, fit_intercept=True)\n",
    "t_glm1.fit(X_train_t, y_train_t, sample_weight=w_train_t)\n",
    "\n",
    "\n",
    "pd.DataFrame(\n",
    "    {\"coefficient\": np.concatenate(([t_glm1.intercept_], t_glm1.coef_))},\n",
    "    index=[\"intercept\"] + t_glm1.feature_names_,\n",
    ").T\n",
    "\n",
    "df_test.loc[:,\"pp_t_glm1\"] = t_glm1.predict(X_test_t)\n",
    "df_train.loc[:,\"pp_t_glm1\"] = t_glm1.predict(X_train_t)\n",
    "\n",
    "print(\n",
    "    \"training loss t_glm1:  {}\".format(\n",
    "        TweedieDist.deviance(y_train_t, df_train[\"pp_t_glm1\"], sample_weight=w_train_t)\n",
    "        / np.sum(w_train_t)\n",
    "    )\n",
    ")\n",
    "\n",
    "print(\n",
    "    \"testing loss t_glm1:  {}\".format(\n",
    "        TweedieDist.deviance(y_train_t, df_train[\"pp_t_glm1\"], sample_weight=w_train_t)\n",
    "        / np.sum(w_train_t)\n",
    "    )\n",
    ")\n",
    "\n",
    "print(\n",
    "    \"Total claim amount on train set, observed = {}, predicted = {}\".format(\n",
    "        df_train[\"ClaimAmountCut\"].values.sum(),\n",
    "        np.sum(df_test[\"Exposure\"].values * t_glm1.predict(X_test_t)),\n",
    "    )\n",
    ")"
   ]
  },
  {
   "cell_type": "code",
   "execution_count": 9,
   "metadata": {},
   "outputs": [
    {
     "name": "stdout",
     "output_type": "stream",
     "text": [
      "training loss t_glm2:  73.39339556486237\n",
      "testing loss t_glm2:  73.51750641020485\n",
      "Total claim amount on test set, observed = 9824331.800000003, predicted = 9993494.993666084\n"
     ]
    }
   ],
   "source": [
    "# TODO: Let's add splines for BonusMalus and Density and use a Pipeline.\n",
    "# Steps: \n",
    "# 1. Define a Pipeline which chains a StandardScaler and SplineTransformer. \n",
    "#    Choose knots=\"quantile\" for the SplineTransformer and make sure, we \n",
    "#    are only including one intercept in the final GLM. \n",
    "# 2. Put the transforms together into a ColumnTransformer. Here we use OneHotEncoder for the categoricals.\n",
    "# 3. Chain the transforms together with the GLM in a Pipeline.\n",
    "categoricals = [\"VehBrand\", \"VehGas\", \"Region\", \"Area\", \"DrivAge\", \"VehAge\", \"VehPower\"]\n",
    "# Let's put together a pipeline\n",
    "numeric_cols = [\"BonusMalus\", \"Density\"]\n",
    "preprocessor = ColumnTransformer(\n",
    "    transformers=[\n",
    "        # TODO: Add numeric transforms here\n",
    "        (\"cat\", OneHotEncoder(sparse_output=False, drop=\"first\"), categoricals),\n",
    "        (\"spline\", SplineTransformer(knots=\"quantile\"), numeric_cols),\n",
    "        (\"scale\", StandardScaler(), numeric_cols)\n",
    "    ]\n",
    ")\n",
    "preprocessor.set_output(transform=\"pandas\")\n",
    "model_pipeline = Pipeline(\n",
    "    # TODO: Define pipeline steps here\n",
    "    [\n",
    "        (\"preprocessing\", preprocessor),\n",
    "        (\n",
    "            \"estimate\",\n",
    "            GeneralizedLinearRegressor(\n",
    "                family=TweedieDist, l1_ratio=1, fit_intercept=True\n",
    "            ),\n",
    "        ),\n",
    "    ]\n",
    ")\n",
    "\n",
    "#incorporate this part later\n",
    "# let's have a look at the pipeline\n",
    "model_pipeline\n",
    "\n",
    "# let's check that the transforms worked\n",
    "model_pipeline[:-1].fit_transform(df_train)\n",
    "\n",
    "model_pipeline.fit(df_train, y_train_t, estimate__sample_weight=w_train_t)\n",
    "\n",
    "pd.DataFrame(\n",
    "    {\n",
    "        \"coefficient\": np.concatenate(\n",
    "            ([model_pipeline[-1].intercept_], model_pipeline[-1].coef_)\n",
    "        )\n",
    "    },\n",
    "    index=[\"intercept\"] + model_pipeline[-1].feature_names_,\n",
    ").T\n",
    "\n",
    "df_test.loc[:,\"pp_t_glm2\"] = model_pipeline.predict(df_test)\n",
    "df_train.loc[:,\"pp_t_glm2\"] = model_pipeline.predict(df_train)\n",
    "\n",
    "print(\n",
    "    \"training loss t_glm2:  {}\".format(\n",
    "        TweedieDist.deviance(y_train_t, df_train[\"pp_t_glm2\"], sample_weight=w_train_t)\n",
    "        / np.sum(w_train_t)\n",
    "    )\n",
    ")\n",
    "\n",
    "print(\n",
    "    \"testing loss t_glm2:  {}\".format(\n",
    "        TweedieDist.deviance(y_test_t, df_test[\"pp_t_glm2\"], sample_weight=w_test_t)\n",
    "        / np.sum(w_test_t)\n",
    "    )\n",
    ")\n",
    "# Create Boolean mask for test rows \n",
    "test = df[\"sample\"] == \"test\"\n",
    "print(\n",
    "    \"Total claim amount on test set, observed = {}, predicted = {}\".format(\n",
    "        df[\"ClaimAmountCut\"].values[test].sum(),\n",
    "        np.sum(df[\"Exposure\"].values[test] * df_test[\"pp_t_glm2\"]),\n",
    "    )\n",
    ")\n"
   ]
  },
  {
   "cell_type": "code",
   "execution_count": 10,
   "metadata": {},
   "outputs": [
    {
     "data": {
      "text/html": [
       "<style>#sk-container-id-1 {\n",
       "  /* Definition of color scheme common for light and dark mode */\n",
       "  --sklearn-color-text: black;\n",
       "  --sklearn-color-line: gray;\n",
       "  /* Definition of color scheme for unfitted estimators */\n",
       "  --sklearn-color-unfitted-level-0: #fff5e6;\n",
       "  --sklearn-color-unfitted-level-1: #f6e4d2;\n",
       "  --sklearn-color-unfitted-level-2: #ffe0b3;\n",
       "  --sklearn-color-unfitted-level-3: chocolate;\n",
       "  /* Definition of color scheme for fitted estimators */\n",
       "  --sklearn-color-fitted-level-0: #f0f8ff;\n",
       "  --sklearn-color-fitted-level-1: #d4ebff;\n",
       "  --sklearn-color-fitted-level-2: #b3dbfd;\n",
       "  --sklearn-color-fitted-level-3: cornflowerblue;\n",
       "\n",
       "  /* Specific color for light theme */\n",
       "  --sklearn-color-text-on-default-background: var(--sg-text-color, var(--theme-code-foreground, var(--jp-content-font-color1, black)));\n",
       "  --sklearn-color-background: var(--sg-background-color, var(--theme-background, var(--jp-layout-color0, white)));\n",
       "  --sklearn-color-border-box: var(--sg-text-color, var(--theme-code-foreground, var(--jp-content-font-color1, black)));\n",
       "  --sklearn-color-icon: #696969;\n",
       "\n",
       "  @media (prefers-color-scheme: dark) {\n",
       "    /* Redefinition of color scheme for dark theme */\n",
       "    --sklearn-color-text-on-default-background: var(--sg-text-color, var(--theme-code-foreground, var(--jp-content-font-color1, white)));\n",
       "    --sklearn-color-background: var(--sg-background-color, var(--theme-background, var(--jp-layout-color0, #111)));\n",
       "    --sklearn-color-border-box: var(--sg-text-color, var(--theme-code-foreground, var(--jp-content-font-color1, white)));\n",
       "    --sklearn-color-icon: #878787;\n",
       "  }\n",
       "}\n",
       "\n",
       "#sk-container-id-1 {\n",
       "  color: var(--sklearn-color-text);\n",
       "}\n",
       "\n",
       "#sk-container-id-1 pre {\n",
       "  padding: 0;\n",
       "}\n",
       "\n",
       "#sk-container-id-1 input.sk-hidden--visually {\n",
       "  border: 0;\n",
       "  clip: rect(1px 1px 1px 1px);\n",
       "  clip: rect(1px, 1px, 1px, 1px);\n",
       "  height: 1px;\n",
       "  margin: -1px;\n",
       "  overflow: hidden;\n",
       "  padding: 0;\n",
       "  position: absolute;\n",
       "  width: 1px;\n",
       "}\n",
       "\n",
       "#sk-container-id-1 div.sk-dashed-wrapped {\n",
       "  border: 1px dashed var(--sklearn-color-line);\n",
       "  margin: 0 0.4em 0.5em 0.4em;\n",
       "  box-sizing: border-box;\n",
       "  padding-bottom: 0.4em;\n",
       "  background-color: var(--sklearn-color-background);\n",
       "}\n",
       "\n",
       "#sk-container-id-1 div.sk-container {\n",
       "  /* jupyter's `normalize.less` sets `[hidden] { display: none; }`\n",
       "     but bootstrap.min.css set `[hidden] { display: none !important; }`\n",
       "     so we also need the `!important` here to be able to override the\n",
       "     default hidden behavior on the sphinx rendered scikit-learn.org.\n",
       "     See: https://github.com/scikit-learn/scikit-learn/issues/21755 */\n",
       "  display: inline-block !important;\n",
       "  position: relative;\n",
       "}\n",
       "\n",
       "#sk-container-id-1 div.sk-text-repr-fallback {\n",
       "  display: none;\n",
       "}\n",
       "\n",
       "div.sk-parallel-item,\n",
       "div.sk-serial,\n",
       "div.sk-item {\n",
       "  /* draw centered vertical line to link estimators */\n",
       "  background-image: linear-gradient(var(--sklearn-color-text-on-default-background), var(--sklearn-color-text-on-default-background));\n",
       "  background-size: 2px 100%;\n",
       "  background-repeat: no-repeat;\n",
       "  background-position: center center;\n",
       "}\n",
       "\n",
       "/* Parallel-specific style estimator block */\n",
       "\n",
       "#sk-container-id-1 div.sk-parallel-item::after {\n",
       "  content: \"\";\n",
       "  width: 100%;\n",
       "  border-bottom: 2px solid var(--sklearn-color-text-on-default-background);\n",
       "  flex-grow: 1;\n",
       "}\n",
       "\n",
       "#sk-container-id-1 div.sk-parallel {\n",
       "  display: flex;\n",
       "  align-items: stretch;\n",
       "  justify-content: center;\n",
       "  background-color: var(--sklearn-color-background);\n",
       "  position: relative;\n",
       "}\n",
       "\n",
       "#sk-container-id-1 div.sk-parallel-item {\n",
       "  display: flex;\n",
       "  flex-direction: column;\n",
       "}\n",
       "\n",
       "#sk-container-id-1 div.sk-parallel-item:first-child::after {\n",
       "  align-self: flex-end;\n",
       "  width: 50%;\n",
       "}\n",
       "\n",
       "#sk-container-id-1 div.sk-parallel-item:last-child::after {\n",
       "  align-self: flex-start;\n",
       "  width: 50%;\n",
       "}\n",
       "\n",
       "#sk-container-id-1 div.sk-parallel-item:only-child::after {\n",
       "  width: 0;\n",
       "}\n",
       "\n",
       "/* Serial-specific style estimator block */\n",
       "\n",
       "#sk-container-id-1 div.sk-serial {\n",
       "  display: flex;\n",
       "  flex-direction: column;\n",
       "  align-items: center;\n",
       "  background-color: var(--sklearn-color-background);\n",
       "  padding-right: 1em;\n",
       "  padding-left: 1em;\n",
       "}\n",
       "\n",
       "\n",
       "/* Toggleable style: style used for estimator/Pipeline/ColumnTransformer box that is\n",
       "clickable and can be expanded/collapsed.\n",
       "- Pipeline and ColumnTransformer use this feature and define the default style\n",
       "- Estimators will overwrite some part of the style using the `sk-estimator` class\n",
       "*/\n",
       "\n",
       "/* Pipeline and ColumnTransformer style (default) */\n",
       "\n",
       "#sk-container-id-1 div.sk-toggleable {\n",
       "  /* Default theme specific background. It is overwritten whether we have a\n",
       "  specific estimator or a Pipeline/ColumnTransformer */\n",
       "  background-color: var(--sklearn-color-background);\n",
       "}\n",
       "\n",
       "/* Toggleable label */\n",
       "#sk-container-id-1 label.sk-toggleable__label {\n",
       "  cursor: pointer;\n",
       "  display: block;\n",
       "  width: 100%;\n",
       "  margin-bottom: 0;\n",
       "  padding: 0.5em;\n",
       "  box-sizing: border-box;\n",
       "  text-align: center;\n",
       "}\n",
       "\n",
       "#sk-container-id-1 label.sk-toggleable__label-arrow:before {\n",
       "  /* Arrow on the left of the label */\n",
       "  content: \"▸\";\n",
       "  float: left;\n",
       "  margin-right: 0.25em;\n",
       "  color: var(--sklearn-color-icon);\n",
       "}\n",
       "\n",
       "#sk-container-id-1 label.sk-toggleable__label-arrow:hover:before {\n",
       "  color: var(--sklearn-color-text);\n",
       "}\n",
       "\n",
       "/* Toggleable content - dropdown */\n",
       "\n",
       "#sk-container-id-1 div.sk-toggleable__content {\n",
       "  max-height: 0;\n",
       "  max-width: 0;\n",
       "  overflow: hidden;\n",
       "  text-align: left;\n",
       "  /* unfitted */\n",
       "  background-color: var(--sklearn-color-unfitted-level-0);\n",
       "}\n",
       "\n",
       "#sk-container-id-1 div.sk-toggleable__content.fitted {\n",
       "  /* fitted */\n",
       "  background-color: var(--sklearn-color-fitted-level-0);\n",
       "}\n",
       "\n",
       "#sk-container-id-1 div.sk-toggleable__content pre {\n",
       "  margin: 0.2em;\n",
       "  border-radius: 0.25em;\n",
       "  color: var(--sklearn-color-text);\n",
       "  /* unfitted */\n",
       "  background-color: var(--sklearn-color-unfitted-level-0);\n",
       "}\n",
       "\n",
       "#sk-container-id-1 div.sk-toggleable__content.fitted pre {\n",
       "  /* unfitted */\n",
       "  background-color: var(--sklearn-color-fitted-level-0);\n",
       "}\n",
       "\n",
       "#sk-container-id-1 input.sk-toggleable__control:checked~div.sk-toggleable__content {\n",
       "  /* Expand drop-down */\n",
       "  max-height: 200px;\n",
       "  max-width: 100%;\n",
       "  overflow: auto;\n",
       "}\n",
       "\n",
       "#sk-container-id-1 input.sk-toggleable__control:checked~label.sk-toggleable__label-arrow:before {\n",
       "  content: \"▾\";\n",
       "}\n",
       "\n",
       "/* Pipeline/ColumnTransformer-specific style */\n",
       "\n",
       "#sk-container-id-1 div.sk-label input.sk-toggleable__control:checked~label.sk-toggleable__label {\n",
       "  color: var(--sklearn-color-text);\n",
       "  background-color: var(--sklearn-color-unfitted-level-2);\n",
       "}\n",
       "\n",
       "#sk-container-id-1 div.sk-label.fitted input.sk-toggleable__control:checked~label.sk-toggleable__label {\n",
       "  background-color: var(--sklearn-color-fitted-level-2);\n",
       "}\n",
       "\n",
       "/* Estimator-specific style */\n",
       "\n",
       "/* Colorize estimator box */\n",
       "#sk-container-id-1 div.sk-estimator input.sk-toggleable__control:checked~label.sk-toggleable__label {\n",
       "  /* unfitted */\n",
       "  background-color: var(--sklearn-color-unfitted-level-2);\n",
       "}\n",
       "\n",
       "#sk-container-id-1 div.sk-estimator.fitted input.sk-toggleable__control:checked~label.sk-toggleable__label {\n",
       "  /* fitted */\n",
       "  background-color: var(--sklearn-color-fitted-level-2);\n",
       "}\n",
       "\n",
       "#sk-container-id-1 div.sk-label label.sk-toggleable__label,\n",
       "#sk-container-id-1 div.sk-label label {\n",
       "  /* The background is the default theme color */\n",
       "  color: var(--sklearn-color-text-on-default-background);\n",
       "}\n",
       "\n",
       "/* On hover, darken the color of the background */\n",
       "#sk-container-id-1 div.sk-label:hover label.sk-toggleable__label {\n",
       "  color: var(--sklearn-color-text);\n",
       "  background-color: var(--sklearn-color-unfitted-level-2);\n",
       "}\n",
       "\n",
       "/* Label box, darken color on hover, fitted */\n",
       "#sk-container-id-1 div.sk-label.fitted:hover label.sk-toggleable__label.fitted {\n",
       "  color: var(--sklearn-color-text);\n",
       "  background-color: var(--sklearn-color-fitted-level-2);\n",
       "}\n",
       "\n",
       "/* Estimator label */\n",
       "\n",
       "#sk-container-id-1 div.sk-label label {\n",
       "  font-family: monospace;\n",
       "  font-weight: bold;\n",
       "  display: inline-block;\n",
       "  line-height: 1.2em;\n",
       "}\n",
       "\n",
       "#sk-container-id-1 div.sk-label-container {\n",
       "  text-align: center;\n",
       "}\n",
       "\n",
       "/* Estimator-specific */\n",
       "#sk-container-id-1 div.sk-estimator {\n",
       "  font-family: monospace;\n",
       "  border: 1px dotted var(--sklearn-color-border-box);\n",
       "  border-radius: 0.25em;\n",
       "  box-sizing: border-box;\n",
       "  margin-bottom: 0.5em;\n",
       "  /* unfitted */\n",
       "  background-color: var(--sklearn-color-unfitted-level-0);\n",
       "}\n",
       "\n",
       "#sk-container-id-1 div.sk-estimator.fitted {\n",
       "  /* fitted */\n",
       "  background-color: var(--sklearn-color-fitted-level-0);\n",
       "}\n",
       "\n",
       "/* on hover */\n",
       "#sk-container-id-1 div.sk-estimator:hover {\n",
       "  /* unfitted */\n",
       "  background-color: var(--sklearn-color-unfitted-level-2);\n",
       "}\n",
       "\n",
       "#sk-container-id-1 div.sk-estimator.fitted:hover {\n",
       "  /* fitted */\n",
       "  background-color: var(--sklearn-color-fitted-level-2);\n",
       "}\n",
       "\n",
       "/* Specification for estimator info (e.g. \"i\" and \"?\") */\n",
       "\n",
       "/* Common style for \"i\" and \"?\" */\n",
       "\n",
       ".sk-estimator-doc-link,\n",
       "a:link.sk-estimator-doc-link,\n",
       "a:visited.sk-estimator-doc-link {\n",
       "  float: right;\n",
       "  font-size: smaller;\n",
       "  line-height: 1em;\n",
       "  font-family: monospace;\n",
       "  background-color: var(--sklearn-color-background);\n",
       "  border-radius: 1em;\n",
       "  height: 1em;\n",
       "  width: 1em;\n",
       "  text-decoration: none !important;\n",
       "  margin-left: 1ex;\n",
       "  /* unfitted */\n",
       "  border: var(--sklearn-color-unfitted-level-1) 1pt solid;\n",
       "  color: var(--sklearn-color-unfitted-level-1);\n",
       "}\n",
       "\n",
       ".sk-estimator-doc-link.fitted,\n",
       "a:link.sk-estimator-doc-link.fitted,\n",
       "a:visited.sk-estimator-doc-link.fitted {\n",
       "  /* fitted */\n",
       "  border: var(--sklearn-color-fitted-level-1) 1pt solid;\n",
       "  color: var(--sklearn-color-fitted-level-1);\n",
       "}\n",
       "\n",
       "/* On hover */\n",
       "div.sk-estimator:hover .sk-estimator-doc-link:hover,\n",
       ".sk-estimator-doc-link:hover,\n",
       "div.sk-label-container:hover .sk-estimator-doc-link:hover,\n",
       ".sk-estimator-doc-link:hover {\n",
       "  /* unfitted */\n",
       "  background-color: var(--sklearn-color-unfitted-level-3);\n",
       "  color: var(--sklearn-color-background);\n",
       "  text-decoration: none;\n",
       "}\n",
       "\n",
       "div.sk-estimator.fitted:hover .sk-estimator-doc-link.fitted:hover,\n",
       ".sk-estimator-doc-link.fitted:hover,\n",
       "div.sk-label-container:hover .sk-estimator-doc-link.fitted:hover,\n",
       ".sk-estimator-doc-link.fitted:hover {\n",
       "  /* fitted */\n",
       "  background-color: var(--sklearn-color-fitted-level-3);\n",
       "  color: var(--sklearn-color-background);\n",
       "  text-decoration: none;\n",
       "}\n",
       "\n",
       "/* Span, style for the box shown on hovering the info icon */\n",
       ".sk-estimator-doc-link span {\n",
       "  display: none;\n",
       "  z-index: 9999;\n",
       "  position: relative;\n",
       "  font-weight: normal;\n",
       "  right: .2ex;\n",
       "  padding: .5ex;\n",
       "  margin: .5ex;\n",
       "  width: min-content;\n",
       "  min-width: 20ex;\n",
       "  max-width: 50ex;\n",
       "  color: var(--sklearn-color-text);\n",
       "  box-shadow: 2pt 2pt 4pt #999;\n",
       "  /* unfitted */\n",
       "  background: var(--sklearn-color-unfitted-level-0);\n",
       "  border: .5pt solid var(--sklearn-color-unfitted-level-3);\n",
       "}\n",
       "\n",
       ".sk-estimator-doc-link.fitted span {\n",
       "  /* fitted */\n",
       "  background: var(--sklearn-color-fitted-level-0);\n",
       "  border: var(--sklearn-color-fitted-level-3);\n",
       "}\n",
       "\n",
       ".sk-estimator-doc-link:hover span {\n",
       "  display: block;\n",
       "}\n",
       "\n",
       "/* \"?\"-specific style due to the `<a>` HTML tag */\n",
       "\n",
       "#sk-container-id-1 a.estimator_doc_link {\n",
       "  float: right;\n",
       "  font-size: 1rem;\n",
       "  line-height: 1em;\n",
       "  font-family: monospace;\n",
       "  background-color: var(--sklearn-color-background);\n",
       "  border-radius: 1rem;\n",
       "  height: 1rem;\n",
       "  width: 1rem;\n",
       "  text-decoration: none;\n",
       "  /* unfitted */\n",
       "  color: var(--sklearn-color-unfitted-level-1);\n",
       "  border: var(--sklearn-color-unfitted-level-1) 1pt solid;\n",
       "}\n",
       "\n",
       "#sk-container-id-1 a.estimator_doc_link.fitted {\n",
       "  /* fitted */\n",
       "  border: var(--sklearn-color-fitted-level-1) 1pt solid;\n",
       "  color: var(--sklearn-color-fitted-level-1);\n",
       "}\n",
       "\n",
       "/* On hover */\n",
       "#sk-container-id-1 a.estimator_doc_link:hover {\n",
       "  /* unfitted */\n",
       "  background-color: var(--sklearn-color-unfitted-level-3);\n",
       "  color: var(--sklearn-color-background);\n",
       "  text-decoration: none;\n",
       "}\n",
       "\n",
       "#sk-container-id-1 a.estimator_doc_link.fitted:hover {\n",
       "  /* fitted */\n",
       "  background-color: var(--sklearn-color-fitted-level-3);\n",
       "}\n",
       "</style><div id=\"sk-container-id-1\" class=\"sk-top-container\"><div class=\"sk-text-repr-fallback\"><pre>Pipeline(steps=[(&#x27;preprocessing&#x27;,\n",
       "                 ColumnTransformer(transformers=[(&#x27;cat&#x27;,\n",
       "                                                  OneHotEncoder(drop=&#x27;first&#x27;,\n",
       "                                                                sparse_output=False),\n",
       "                                                  [&#x27;VehBrand&#x27;, &#x27;VehGas&#x27;,\n",
       "                                                   &#x27;Region&#x27;, &#x27;Area&#x27;, &#x27;DrivAge&#x27;,\n",
       "                                                   &#x27;VehAge&#x27;, &#x27;VehPower&#x27;]),\n",
       "                                                 (&#x27;spline&#x27;,\n",
       "                                                  SplineTransformer(knots=&#x27;quantile&#x27;),\n",
       "                                                  [&#x27;BonusMalus&#x27;, &#x27;Density&#x27;]),\n",
       "                                                 (&#x27;scale&#x27;, StandardScaler(),\n",
       "                                                  [&#x27;BonusMalus&#x27;, &#x27;Density&#x27;])])),\n",
       "                (&#x27;estimate&#x27;,\n",
       "                 GeneralizedLinearRegressor(family=&lt;glum._distribution.TweedieDistribution object at 0x2826f2de0&gt;,\n",
       "                                            l1_ratio=1))])</pre><b>In a Jupyter environment, please rerun this cell to show the HTML representation or trust the notebook. <br />On GitHub, the HTML representation is unable to render, please try loading this page with nbviewer.org.</b></div><div class=\"sk-container\" hidden><div class=\"sk-item sk-dashed-wrapped\"><div class=\"sk-label-container\"><div class=\"sk-label fitted sk-toggleable\"><input class=\"sk-toggleable__control sk-hidden--visually\" id=\"sk-estimator-id-1\" type=\"checkbox\" ><label for=\"sk-estimator-id-1\" class=\"sk-toggleable__label fitted sk-toggleable__label-arrow fitted\">&nbsp;&nbsp;Pipeline<a class=\"sk-estimator-doc-link fitted\" rel=\"noreferrer\" target=\"_blank\" href=\"https://scikit-learn.org/1.5/modules/generated/sklearn.pipeline.Pipeline.html\">?<span>Documentation for Pipeline</span></a><span class=\"sk-estimator-doc-link fitted\">i<span>Fitted</span></span></label><div class=\"sk-toggleable__content fitted\"><pre>Pipeline(steps=[(&#x27;preprocessing&#x27;,\n",
       "                 ColumnTransformer(transformers=[(&#x27;cat&#x27;,\n",
       "                                                  OneHotEncoder(drop=&#x27;first&#x27;,\n",
       "                                                                sparse_output=False),\n",
       "                                                  [&#x27;VehBrand&#x27;, &#x27;VehGas&#x27;,\n",
       "                                                   &#x27;Region&#x27;, &#x27;Area&#x27;, &#x27;DrivAge&#x27;,\n",
       "                                                   &#x27;VehAge&#x27;, &#x27;VehPower&#x27;]),\n",
       "                                                 (&#x27;spline&#x27;,\n",
       "                                                  SplineTransformer(knots=&#x27;quantile&#x27;),\n",
       "                                                  [&#x27;BonusMalus&#x27;, &#x27;Density&#x27;]),\n",
       "                                                 (&#x27;scale&#x27;, StandardScaler(),\n",
       "                                                  [&#x27;BonusMalus&#x27;, &#x27;Density&#x27;])])),\n",
       "                (&#x27;estimate&#x27;,\n",
       "                 GeneralizedLinearRegressor(family=&lt;glum._distribution.TweedieDistribution object at 0x2826f2de0&gt;,\n",
       "                                            l1_ratio=1))])</pre></div> </div></div><div class=\"sk-serial\"><div class=\"sk-item sk-dashed-wrapped\"><div class=\"sk-label-container\"><div class=\"sk-label fitted sk-toggleable\"><input class=\"sk-toggleable__control sk-hidden--visually\" id=\"sk-estimator-id-2\" type=\"checkbox\" ><label for=\"sk-estimator-id-2\" class=\"sk-toggleable__label fitted sk-toggleable__label-arrow fitted\">&nbsp;preprocessing: ColumnTransformer<a class=\"sk-estimator-doc-link fitted\" rel=\"noreferrer\" target=\"_blank\" href=\"https://scikit-learn.org/1.5/modules/generated/sklearn.compose.ColumnTransformer.html\">?<span>Documentation for preprocessing: ColumnTransformer</span></a></label><div class=\"sk-toggleable__content fitted\"><pre>ColumnTransformer(transformers=[(&#x27;cat&#x27;,\n",
       "                                 OneHotEncoder(drop=&#x27;first&#x27;,\n",
       "                                               sparse_output=False),\n",
       "                                 [&#x27;VehBrand&#x27;, &#x27;VehGas&#x27;, &#x27;Region&#x27;, &#x27;Area&#x27;,\n",
       "                                  &#x27;DrivAge&#x27;, &#x27;VehAge&#x27;, &#x27;VehPower&#x27;]),\n",
       "                                (&#x27;spline&#x27;, SplineTransformer(knots=&#x27;quantile&#x27;),\n",
       "                                 [&#x27;BonusMalus&#x27;, &#x27;Density&#x27;]),\n",
       "                                (&#x27;scale&#x27;, StandardScaler(),\n",
       "                                 [&#x27;BonusMalus&#x27;, &#x27;Density&#x27;])])</pre></div> </div></div><div class=\"sk-parallel\"><div class=\"sk-parallel-item\"><div class=\"sk-item\"><div class=\"sk-label-container\"><div class=\"sk-label fitted sk-toggleable\"><input class=\"sk-toggleable__control sk-hidden--visually\" id=\"sk-estimator-id-3\" type=\"checkbox\" ><label for=\"sk-estimator-id-3\" class=\"sk-toggleable__label fitted sk-toggleable__label-arrow fitted\">cat</label><div class=\"sk-toggleable__content fitted\"><pre>[&#x27;VehBrand&#x27;, &#x27;VehGas&#x27;, &#x27;Region&#x27;, &#x27;Area&#x27;, &#x27;DrivAge&#x27;, &#x27;VehAge&#x27;, &#x27;VehPower&#x27;]</pre></div> </div></div><div class=\"sk-serial\"><div class=\"sk-item\"><div class=\"sk-estimator fitted sk-toggleable\"><input class=\"sk-toggleable__control sk-hidden--visually\" id=\"sk-estimator-id-4\" type=\"checkbox\" ><label for=\"sk-estimator-id-4\" class=\"sk-toggleable__label fitted sk-toggleable__label-arrow fitted\">&nbsp;OneHotEncoder<a class=\"sk-estimator-doc-link fitted\" rel=\"noreferrer\" target=\"_blank\" href=\"https://scikit-learn.org/1.5/modules/generated/sklearn.preprocessing.OneHotEncoder.html\">?<span>Documentation for OneHotEncoder</span></a></label><div class=\"sk-toggleable__content fitted\"><pre>OneHotEncoder(drop=&#x27;first&#x27;, sparse_output=False)</pre></div> </div></div></div></div></div><div class=\"sk-parallel-item\"><div class=\"sk-item\"><div class=\"sk-label-container\"><div class=\"sk-label fitted sk-toggleable\"><input class=\"sk-toggleable__control sk-hidden--visually\" id=\"sk-estimator-id-5\" type=\"checkbox\" ><label for=\"sk-estimator-id-5\" class=\"sk-toggleable__label fitted sk-toggleable__label-arrow fitted\">spline</label><div class=\"sk-toggleable__content fitted\"><pre>[&#x27;BonusMalus&#x27;, &#x27;Density&#x27;]</pre></div> </div></div><div class=\"sk-serial\"><div class=\"sk-item\"><div class=\"sk-estimator fitted sk-toggleable\"><input class=\"sk-toggleable__control sk-hidden--visually\" id=\"sk-estimator-id-6\" type=\"checkbox\" ><label for=\"sk-estimator-id-6\" class=\"sk-toggleable__label fitted sk-toggleable__label-arrow fitted\">&nbsp;SplineTransformer<a class=\"sk-estimator-doc-link fitted\" rel=\"noreferrer\" target=\"_blank\" href=\"https://scikit-learn.org/1.5/modules/generated/sklearn.preprocessing.SplineTransformer.html\">?<span>Documentation for SplineTransformer</span></a></label><div class=\"sk-toggleable__content fitted\"><pre>SplineTransformer(knots=&#x27;quantile&#x27;)</pre></div> </div></div></div></div></div><div class=\"sk-parallel-item\"><div class=\"sk-item\"><div class=\"sk-label-container\"><div class=\"sk-label fitted sk-toggleable\"><input class=\"sk-toggleable__control sk-hidden--visually\" id=\"sk-estimator-id-7\" type=\"checkbox\" ><label for=\"sk-estimator-id-7\" class=\"sk-toggleable__label fitted sk-toggleable__label-arrow fitted\">scale</label><div class=\"sk-toggleable__content fitted\"><pre>[&#x27;BonusMalus&#x27;, &#x27;Density&#x27;]</pre></div> </div></div><div class=\"sk-serial\"><div class=\"sk-item\"><div class=\"sk-estimator fitted sk-toggleable\"><input class=\"sk-toggleable__control sk-hidden--visually\" id=\"sk-estimator-id-8\" type=\"checkbox\" ><label for=\"sk-estimator-id-8\" class=\"sk-toggleable__label fitted sk-toggleable__label-arrow fitted\">&nbsp;StandardScaler<a class=\"sk-estimator-doc-link fitted\" rel=\"noreferrer\" target=\"_blank\" href=\"https://scikit-learn.org/1.5/modules/generated/sklearn.preprocessing.StandardScaler.html\">?<span>Documentation for StandardScaler</span></a></label><div class=\"sk-toggleable__content fitted\"><pre>StandardScaler()</pre></div> </div></div></div></div></div></div></div><div class=\"sk-item\"><div class=\"sk-estimator fitted sk-toggleable\"><input class=\"sk-toggleable__control sk-hidden--visually\" id=\"sk-estimator-id-9\" type=\"checkbox\" ><label for=\"sk-estimator-id-9\" class=\"sk-toggleable__label fitted sk-toggleable__label-arrow fitted\">GeneralizedLinearRegressor</label><div class=\"sk-toggleable__content fitted\"><pre>GeneralizedLinearRegressor(family=&lt;glum._distribution.TweedieDistribution object at 0x2826f2de0&gt;,\n",
       "                           l1_ratio=1)</pre></div> </div></div></div></div></div></div>"
      ],
      "text/plain": [
       "Pipeline(steps=[('preprocessing',\n",
       "                 ColumnTransformer(transformers=[('cat',\n",
       "                                                  OneHotEncoder(drop='first',\n",
       "                                                                sparse_output=False),\n",
       "                                                  ['VehBrand', 'VehGas',\n",
       "                                                   'Region', 'Area', 'DrivAge',\n",
       "                                                   'VehAge', 'VehPower']),\n",
       "                                                 ('spline',\n",
       "                                                  SplineTransformer(knots='quantile'),\n",
       "                                                  ['BonusMalus', 'Density']),\n",
       "                                                 ('scale', StandardScaler(),\n",
       "                                                  ['BonusMalus', 'Density'])])),\n",
       "                ('estimate',\n",
       "                 GeneralizedLinearRegressor(family=<glum._distribution.TweedieDistribution object at 0x2826f2de0>,\n",
       "                                            l1_ratio=1))])"
      ]
     },
     "execution_count": 10,
     "metadata": {},
     "output_type": "execute_result"
    }
   ],
   "source": [
    "model_pipeline"
   ]
  },
  {
   "cell_type": "code",
   "execution_count": 11,
   "metadata": {},
   "outputs": [
    {
     "name": "stdout",
     "output_type": "stream",
     "text": [
      "[LightGBM] [Info] Auto-choosing row-wise multi-threading, the overhead of testing was 0.006771 seconds.\n",
      "You can set `force_row_wise=true` to remove the overhead.\n",
      "And if memory is not enough, you can set `force_col_wise=true`.\n",
      "[LightGBM] [Info] Total Bins 409\n",
      "[LightGBM] [Info] Number of data points in the train set: 542267, number of used features: 9\n",
      "[LightGBM] [Info] Start training from score 4.925267\n",
      "training loss t_lgbm:  65.11231328262183\n",
      "testing loss t_lgbm:  73.2935475875686\n"
     ]
    }
   ],
   "source": [
    "# TODO: Let's use a GBM instead as an estimator.\n",
    "# Steps\n",
    "# 1: Define the modelling pipeline. Tip: This can simply be a LGBMRegressor based on X_train_t from before.\n",
    "# 2. Make sure we are choosing the correct objective for our estimator.\n",
    "model_pipeline = Pipeline([(\"estimate\", LGBMRegressor(objective=\"tweedie\"))])\n",
    "model_pipeline.fit(X_train_t, y_train_t, estimate__sample_weight=w_train_t)\n",
    "df_test.loc[:,\"pp_t_lgbm\"] = model_pipeline.predict(X_test_t)\n",
    "df_train.loc[:,\"pp_t_lgbm\"] = model_pipeline.predict(X_train_t)\n",
    "print(\n",
    "    \"training loss t_lgbm:  {}\".format(\n",
    "        TweedieDist.deviance(y_train_t, df_train[\"pp_t_lgbm\"], sample_weight=w_train_t)\n",
    "        / np.sum(w_train_t)\n",
    "    )\n",
    ")\n",
    "\n",
    "print(\n",
    "    \"testing loss t_lgbm:  {}\".format(\n",
    "        TweedieDist.deviance(y_test_t, df_test[\"pp_t_lgbm\"], sample_weight=w_test_t)\n",
    "        / np.sum(w_test_t)\n",
    "    )\n",
    ")\n",
    "#substantial difference between losses, might overfit for training"
   ]
  },
  {
   "cell_type": "code",
   "execution_count": 12,
   "metadata": {},
   "outputs": [
    {
     "name": "stdout",
     "output_type": "stream",
     "text": [
      "Fitting 5 folds for each of 24 candidates, totalling 120 fits\n",
      "[LightGBM] [Info] Auto-choosing row-wise multi-threading, the overhead of testing was 0.004354 seconds.\n",
      "You can set `force_row_wise=true` to remove the overhead.\n",
      "And if memory is not enough, you can set `force_col_wise=true`.\n",
      "[LightGBM] [Info] Total Bins 404\n",
      "[LightGBM] [Info] Number of data points in the train set: 433813, number of used features: 9\n",
      "[LightGBM] [Info] Start training from score 4.897331\n",
      "[CV] END estimate__learning_rate=0.01, estimate__n_estimators=50; total time=   1.0s\n",
      "[LightGBM] [Info] Auto-choosing row-wise multi-threading, the overhead of testing was 0.005106 seconds.\n",
      "You can set `force_row_wise=true` to remove the overhead.\n",
      "And if memory is not enough, you can set `force_col_wise=true`.\n",
      "[LightGBM] [Info] Total Bins 406\n",
      "[LightGBM] [Info] Number of data points in the train set: 433813, number of used features: 9\n",
      "[LightGBM] [Info] Start training from score 4.913501\n",
      "[CV] END estimate__learning_rate=0.01, estimate__n_estimators=50; total time=   1.1s\n",
      "[LightGBM] [Info] Auto-choosing row-wise multi-threading, the overhead of testing was 0.009718 seconds.\n",
      "You can set `force_row_wise=true` to remove the overhead.\n",
      "And if memory is not enough, you can set `force_col_wise=true`.\n",
      "[LightGBM] [Info] Total Bins 410\n",
      "[LightGBM] [Info] Number of data points in the train set: 433814, number of used features: 9\n",
      "[LightGBM] [Info] Start training from score 4.928911\n",
      "[CV] END estimate__learning_rate=0.01, estimate__n_estimators=50; total time=   2.1s\n",
      "[LightGBM] [Info] Auto-choosing row-wise multi-threading, the overhead of testing was 0.005764 seconds.\n",
      "You can set `force_row_wise=true` to remove the overhead.\n",
      "And if memory is not enough, you can set `force_col_wise=true`.\n",
      "[LightGBM] [Info] Total Bins 411\n",
      "[LightGBM] [Info] Number of data points in the train set: 433814, number of used features: 9\n",
      "[LightGBM] [Info] Start training from score 4.950963\n",
      "[CV] END estimate__learning_rate=0.01, estimate__n_estimators=50; total time=   1.2s\n",
      "[LightGBM] [Info] Auto-choosing row-wise multi-threading, the overhead of testing was 0.006916 seconds.\n",
      "You can set `force_row_wise=true` to remove the overhead.\n",
      "And if memory is not enough, you can set `force_col_wise=true`.\n",
      "[LightGBM] [Info] Total Bins 412\n",
      "[LightGBM] [Info] Number of data points in the train set: 433814, number of used features: 9\n",
      "[LightGBM] [Info] Start training from score 4.932520\n",
      "[CV] END estimate__learning_rate=0.01, estimate__n_estimators=50; total time=   1.2s\n",
      "[LightGBM] [Info] Auto-choosing row-wise multi-threading, the overhead of testing was 0.005801 seconds.\n",
      "You can set `force_row_wise=true` to remove the overhead.\n",
      "And if memory is not enough, you can set `force_col_wise=true`.\n",
      "[LightGBM] [Info] Total Bins 404\n",
      "[LightGBM] [Info] Number of data points in the train set: 433813, number of used features: 9\n",
      "[LightGBM] [Info] Start training from score 4.897331\n",
      "[CV] END estimate__learning_rate=0.01, estimate__n_estimators=100; total time=   2.1s\n",
      "[LightGBM] [Info] Auto-choosing row-wise multi-threading, the overhead of testing was 0.005141 seconds.\n",
      "You can set `force_row_wise=true` to remove the overhead.\n",
      "And if memory is not enough, you can set `force_col_wise=true`.\n",
      "[LightGBM] [Info] Total Bins 406\n",
      "[LightGBM] [Info] Number of data points in the train set: 433813, number of used features: 9\n",
      "[LightGBM] [Info] Start training from score 4.913501\n",
      "[CV] END estimate__learning_rate=0.01, estimate__n_estimators=100; total time=   1.9s\n",
      "[LightGBM] [Info] Auto-choosing row-wise multi-threading, the overhead of testing was 0.006084 seconds.\n",
      "You can set `force_row_wise=true` to remove the overhead.\n",
      "And if memory is not enough, you can set `force_col_wise=true`.\n",
      "[LightGBM] [Info] Total Bins 410\n",
      "[LightGBM] [Info] Number of data points in the train set: 433814, number of used features: 9\n",
      "[LightGBM] [Info] Start training from score 4.928911\n",
      "[CV] END estimate__learning_rate=0.01, estimate__n_estimators=100; total time=   1.9s\n",
      "[LightGBM] [Info] Auto-choosing row-wise multi-threading, the overhead of testing was 0.005108 seconds.\n",
      "You can set `force_row_wise=true` to remove the overhead.\n",
      "And if memory is not enough, you can set `force_col_wise=true`.\n",
      "[LightGBM] [Info] Total Bins 411\n",
      "[LightGBM] [Info] Number of data points in the train set: 433814, number of used features: 9\n",
      "[LightGBM] [Info] Start training from score 4.950963\n",
      "[CV] END estimate__learning_rate=0.01, estimate__n_estimators=100; total time=   1.7s\n",
      "[LightGBM] [Info] Auto-choosing row-wise multi-threading, the overhead of testing was 0.005105 seconds.\n",
      "You can set `force_row_wise=true` to remove the overhead.\n",
      "And if memory is not enough, you can set `force_col_wise=true`.\n",
      "[LightGBM] [Info] Total Bins 412\n",
      "[LightGBM] [Info] Number of data points in the train set: 433814, number of used features: 9\n",
      "[LightGBM] [Info] Start training from score 4.932520\n",
      "[CV] END estimate__learning_rate=0.01, estimate__n_estimators=100; total time=   1.8s\n",
      "[LightGBM] [Info] Auto-choosing row-wise multi-threading, the overhead of testing was 0.004993 seconds.\n",
      "You can set `force_row_wise=true` to remove the overhead.\n",
      "And if memory is not enough, you can set `force_col_wise=true`.\n",
      "[LightGBM] [Info] Total Bins 404\n",
      "[LightGBM] [Info] Number of data points in the train set: 433813, number of used features: 9\n",
      "[LightGBM] [Info] Start training from score 4.897331\n",
      "[CV] END estimate__learning_rate=0.01, estimate__n_estimators=150; total time=   2.5s\n",
      "[LightGBM] [Info] Auto-choosing row-wise multi-threading, the overhead of testing was 0.004483 seconds.\n",
      "You can set `force_row_wise=true` to remove the overhead.\n",
      "And if memory is not enough, you can set `force_col_wise=true`.\n",
      "[LightGBM] [Info] Total Bins 406\n",
      "[LightGBM] [Info] Number of data points in the train set: 433813, number of used features: 9\n",
      "[LightGBM] [Info] Start training from score 4.913501\n",
      "[CV] END estimate__learning_rate=0.01, estimate__n_estimators=150; total time=   2.6s\n",
      "[LightGBM] [Info] Auto-choosing row-wise multi-threading, the overhead of testing was 0.005826 seconds.\n",
      "You can set `force_row_wise=true` to remove the overhead.\n",
      "And if memory is not enough, you can set `force_col_wise=true`.\n",
      "[LightGBM] [Info] Total Bins 410\n",
      "[LightGBM] [Info] Number of data points in the train set: 433814, number of used features: 9\n",
      "[LightGBM] [Info] Start training from score 4.928911\n",
      "[CV] END estimate__learning_rate=0.01, estimate__n_estimators=150; total time=   2.6s\n",
      "[LightGBM] [Info] Auto-choosing row-wise multi-threading, the overhead of testing was 0.005760 seconds.\n",
      "You can set `force_row_wise=true` to remove the overhead.\n",
      "And if memory is not enough, you can set `force_col_wise=true`.\n",
      "[LightGBM] [Info] Total Bins 411\n",
      "[LightGBM] [Info] Number of data points in the train set: 433814, number of used features: 9\n",
      "[LightGBM] [Info] Start training from score 4.950963\n",
      "[CV] END estimate__learning_rate=0.01, estimate__n_estimators=150; total time=   2.6s\n",
      "[LightGBM] [Info] Auto-choosing row-wise multi-threading, the overhead of testing was 0.005940 seconds.\n",
      "You can set `force_row_wise=true` to remove the overhead.\n",
      "And if memory is not enough, you can set `force_col_wise=true`.\n",
      "[LightGBM] [Info] Total Bins 412\n",
      "[LightGBM] [Info] Number of data points in the train set: 433814, number of used features: 9\n",
      "[LightGBM] [Info] Start training from score 4.932520\n",
      "[CV] END estimate__learning_rate=0.01, estimate__n_estimators=150; total time=   3.0s\n",
      "[LightGBM] [Info] Auto-choosing row-wise multi-threading, the overhead of testing was 0.005444 seconds.\n",
      "You can set `force_row_wise=true` to remove the overhead.\n",
      "And if memory is not enough, you can set `force_col_wise=true`.\n",
      "[LightGBM] [Info] Total Bins 404\n",
      "[LightGBM] [Info] Number of data points in the train set: 433813, number of used features: 9\n",
      "[LightGBM] [Info] Start training from score 4.897331\n",
      "[CV] END estimate__learning_rate=0.01, estimate__n_estimators=200; total time=   3.3s\n",
      "[LightGBM] [Info] Auto-choosing row-wise multi-threading, the overhead of testing was 0.004374 seconds.\n",
      "You can set `force_row_wise=true` to remove the overhead.\n",
      "And if memory is not enough, you can set `force_col_wise=true`.\n",
      "[LightGBM] [Info] Total Bins 406\n",
      "[LightGBM] [Info] Number of data points in the train set: 433813, number of used features: 9\n",
      "[LightGBM] [Info] Start training from score 4.913501\n",
      "[CV] END estimate__learning_rate=0.01, estimate__n_estimators=200; total time=   3.4s\n",
      "[LightGBM] [Info] Auto-choosing row-wise multi-threading, the overhead of testing was 0.005190 seconds.\n",
      "You can set `force_row_wise=true` to remove the overhead.\n",
      "And if memory is not enough, you can set `force_col_wise=true`.\n",
      "[LightGBM] [Info] Total Bins 410\n",
      "[LightGBM] [Info] Number of data points in the train set: 433814, number of used features: 9\n",
      "[LightGBM] [Info] Start training from score 4.928911\n",
      "[CV] END estimate__learning_rate=0.01, estimate__n_estimators=200; total time=   3.3s\n",
      "[LightGBM] [Info] Auto-choosing row-wise multi-threading, the overhead of testing was 0.004953 seconds.\n",
      "You can set `force_row_wise=true` to remove the overhead.\n",
      "And if memory is not enough, you can set `force_col_wise=true`.\n",
      "[LightGBM] [Info] Total Bins 411\n",
      "[LightGBM] [Info] Number of data points in the train set: 433814, number of used features: 9\n",
      "[LightGBM] [Info] Start training from score 4.950963\n",
      "[CV] END estimate__learning_rate=0.01, estimate__n_estimators=200; total time=   3.2s\n",
      "[LightGBM] [Info] Auto-choosing row-wise multi-threading, the overhead of testing was 0.004900 seconds.\n",
      "You can set `force_row_wise=true` to remove the overhead.\n",
      "And if memory is not enough, you can set `force_col_wise=true`.\n",
      "[LightGBM] [Info] Total Bins 412\n",
      "[LightGBM] [Info] Number of data points in the train set: 433814, number of used features: 9\n",
      "[LightGBM] [Info] Start training from score 4.932520\n",
      "[CV] END estimate__learning_rate=0.01, estimate__n_estimators=200; total time=   3.2s\n",
      "[LightGBM] [Info] Auto-choosing row-wise multi-threading, the overhead of testing was 0.004378 seconds.\n",
      "You can set `force_row_wise=true` to remove the overhead.\n",
      "And if memory is not enough, you can set `force_col_wise=true`.\n",
      "[LightGBM] [Info] Total Bins 404\n",
      "[LightGBM] [Info] Number of data points in the train set: 433813, number of used features: 9\n",
      "[LightGBM] [Info] Start training from score 4.897331\n",
      "[CV] END estimate__learning_rate=0.02, estimate__n_estimators=50; total time=   0.9s\n",
      "[LightGBM] [Info] Auto-choosing row-wise multi-threading, the overhead of testing was 0.005497 seconds.\n",
      "You can set `force_row_wise=true` to remove the overhead.\n",
      "And if memory is not enough, you can set `force_col_wise=true`.\n",
      "[LightGBM] [Info] Total Bins 406\n",
      "[LightGBM] [Info] Number of data points in the train set: 433813, number of used features: 9\n",
      "[LightGBM] [Info] Start training from score 4.913501\n",
      "[CV] END estimate__learning_rate=0.02, estimate__n_estimators=50; total time=   0.9s\n",
      "[LightGBM] [Info] Auto-choosing row-wise multi-threading, the overhead of testing was 0.005577 seconds.\n",
      "You can set `force_row_wise=true` to remove the overhead.\n",
      "And if memory is not enough, you can set `force_col_wise=true`.\n",
      "[LightGBM] [Info] Total Bins 410\n",
      "[LightGBM] [Info] Number of data points in the train set: 433814, number of used features: 9\n",
      "[LightGBM] [Info] Start training from score 4.928911\n",
      "[CV] END estimate__learning_rate=0.02, estimate__n_estimators=50; total time=   0.9s\n",
      "[LightGBM] [Info] Auto-choosing row-wise multi-threading, the overhead of testing was 0.005104 seconds.\n",
      "You can set `force_row_wise=true` to remove the overhead.\n",
      "And if memory is not enough, you can set `force_col_wise=true`.\n",
      "[LightGBM] [Info] Total Bins 411\n",
      "[LightGBM] [Info] Number of data points in the train set: 433814, number of used features: 9\n",
      "[LightGBM] [Info] Start training from score 4.950963\n",
      "[CV] END estimate__learning_rate=0.02, estimate__n_estimators=50; total time=   0.9s\n",
      "[LightGBM] [Info] Auto-choosing row-wise multi-threading, the overhead of testing was 0.005472 seconds.\n",
      "You can set `force_row_wise=true` to remove the overhead.\n",
      "And if memory is not enough, you can set `force_col_wise=true`.\n",
      "[LightGBM] [Info] Total Bins 412\n",
      "[LightGBM] [Info] Number of data points in the train set: 433814, number of used features: 9\n",
      "[LightGBM] [Info] Start training from score 4.932520\n",
      "[CV] END estimate__learning_rate=0.02, estimate__n_estimators=50; total time=   0.9s\n",
      "[LightGBM] [Info] Auto-choosing row-wise multi-threading, the overhead of testing was 0.004935 seconds.\n",
      "You can set `force_row_wise=true` to remove the overhead.\n",
      "And if memory is not enough, you can set `force_col_wise=true`.\n",
      "[LightGBM] [Info] Total Bins 404\n",
      "[LightGBM] [Info] Number of data points in the train set: 433813, number of used features: 9\n",
      "[LightGBM] [Info] Start training from score 4.897331\n",
      "[CV] END estimate__learning_rate=0.02, estimate__n_estimators=100; total time=   1.7s\n",
      "[LightGBM] [Info] Auto-choosing row-wise multi-threading, the overhead of testing was 0.005117 seconds.\n",
      "You can set `force_row_wise=true` to remove the overhead.\n",
      "And if memory is not enough, you can set `force_col_wise=true`.\n",
      "[LightGBM] [Info] Total Bins 406\n",
      "[LightGBM] [Info] Number of data points in the train set: 433813, number of used features: 9\n",
      "[LightGBM] [Info] Start training from score 4.913501\n",
      "[CV] END estimate__learning_rate=0.02, estimate__n_estimators=100; total time=   1.8s\n",
      "[LightGBM] [Info] Auto-choosing row-wise multi-threading, the overhead of testing was 0.005549 seconds.\n",
      "You can set `force_row_wise=true` to remove the overhead.\n",
      "And if memory is not enough, you can set `force_col_wise=true`.\n",
      "[LightGBM] [Info] Total Bins 410\n",
      "[LightGBM] [Info] Number of data points in the train set: 433814, number of used features: 9\n",
      "[LightGBM] [Info] Start training from score 4.928911\n",
      "[CV] END estimate__learning_rate=0.02, estimate__n_estimators=100; total time=   1.8s\n",
      "[LightGBM] [Info] Auto-choosing row-wise multi-threading, the overhead of testing was 0.005562 seconds.\n",
      "You can set `force_row_wise=true` to remove the overhead.\n",
      "And if memory is not enough, you can set `force_col_wise=true`.\n",
      "[LightGBM] [Info] Total Bins 411\n",
      "[LightGBM] [Info] Number of data points in the train set: 433814, number of used features: 9\n",
      "[LightGBM] [Info] Start training from score 4.950963\n",
      "[CV] END estimate__learning_rate=0.02, estimate__n_estimators=100; total time=   2.2s\n",
      "[LightGBM] [Info] Auto-choosing row-wise multi-threading, the overhead of testing was 0.005488 seconds.\n",
      "You can set `force_row_wise=true` to remove the overhead.\n",
      "And if memory is not enough, you can set `force_col_wise=true`.\n",
      "[LightGBM] [Info] Total Bins 412\n",
      "[LightGBM] [Info] Number of data points in the train set: 433814, number of used features: 9\n",
      "[LightGBM] [Info] Start training from score 4.932520\n",
      "[CV] END estimate__learning_rate=0.02, estimate__n_estimators=100; total time=   1.9s\n",
      "[LightGBM] [Info] Auto-choosing row-wise multi-threading, the overhead of testing was 0.007046 seconds.\n",
      "You can set `force_row_wise=true` to remove the overhead.\n",
      "And if memory is not enough, you can set `force_col_wise=true`.\n",
      "[LightGBM] [Info] Total Bins 404\n",
      "[LightGBM] [Info] Number of data points in the train set: 433813, number of used features: 9\n",
      "[LightGBM] [Info] Start training from score 4.897331\n",
      "[CV] END estimate__learning_rate=0.02, estimate__n_estimators=150; total time=   3.5s\n",
      "[LightGBM] [Info] Auto-choosing row-wise multi-threading, the overhead of testing was 0.004546 seconds.\n",
      "You can set `force_row_wise=true` to remove the overhead.\n",
      "And if memory is not enough, you can set `force_col_wise=true`.\n",
      "[LightGBM] [Info] Total Bins 406\n",
      "[LightGBM] [Info] Number of data points in the train set: 433813, number of used features: 9\n",
      "[LightGBM] [Info] Start training from score 4.913501\n",
      "[CV] END estimate__learning_rate=0.02, estimate__n_estimators=150; total time=   3.5s\n",
      "[LightGBM] [Info] Auto-choosing row-wise multi-threading, the overhead of testing was 0.005115 seconds.\n",
      "You can set `force_row_wise=true` to remove the overhead.\n",
      "And if memory is not enough, you can set `force_col_wise=true`.\n",
      "[LightGBM] [Info] Total Bins 410\n",
      "[LightGBM] [Info] Number of data points in the train set: 433814, number of used features: 9\n",
      "[LightGBM] [Info] Start training from score 4.928911\n",
      "[CV] END estimate__learning_rate=0.02, estimate__n_estimators=150; total time=   2.5s\n",
      "[LightGBM] [Info] Auto-choosing row-wise multi-threading, the overhead of testing was 0.005057 seconds.\n",
      "You can set `force_row_wise=true` to remove the overhead.\n",
      "And if memory is not enough, you can set `force_col_wise=true`.\n",
      "[LightGBM] [Info] Total Bins 411\n",
      "[LightGBM] [Info] Number of data points in the train set: 433814, number of used features: 9\n",
      "[LightGBM] [Info] Start training from score 4.950963\n",
      "[CV] END estimate__learning_rate=0.02, estimate__n_estimators=150; total time=   2.3s\n",
      "[LightGBM] [Info] Auto-choosing row-wise multi-threading, the overhead of testing was 0.004870 seconds.\n",
      "You can set `force_row_wise=true` to remove the overhead.\n",
      "And if memory is not enough, you can set `force_col_wise=true`.\n",
      "[LightGBM] [Info] Total Bins 412\n",
      "[LightGBM] [Info] Number of data points in the train set: 433814, number of used features: 9\n",
      "[LightGBM] [Info] Start training from score 4.932520\n",
      "[CV] END estimate__learning_rate=0.02, estimate__n_estimators=150; total time=   2.4s\n",
      "[LightGBM] [Info] Auto-choosing row-wise multi-threading, the overhead of testing was 0.004335 seconds.\n",
      "You can set `force_row_wise=true` to remove the overhead.\n",
      "And if memory is not enough, you can set `force_col_wise=true`.\n",
      "[LightGBM] [Info] Total Bins 404\n",
      "[LightGBM] [Info] Number of data points in the train set: 433813, number of used features: 9\n",
      "[LightGBM] [Info] Start training from score 4.897331\n",
      "[CV] END estimate__learning_rate=0.02, estimate__n_estimators=200; total time=   3.1s\n",
      "[LightGBM] [Info] Auto-choosing row-wise multi-threading, the overhead of testing was 0.004393 seconds.\n",
      "You can set `force_row_wise=true` to remove the overhead.\n",
      "And if memory is not enough, you can set `force_col_wise=true`.\n",
      "[LightGBM] [Info] Total Bins 406\n",
      "[LightGBM] [Info] Number of data points in the train set: 433813, number of used features: 9\n",
      "[LightGBM] [Info] Start training from score 4.913501\n",
      "[CV] END estimate__learning_rate=0.02, estimate__n_estimators=200; total time=   3.0s\n",
      "[LightGBM] [Info] Auto-choosing row-wise multi-threading, the overhead of testing was 0.004977 seconds.\n",
      "You can set `force_row_wise=true` to remove the overhead.\n",
      "And if memory is not enough, you can set `force_col_wise=true`.\n",
      "[LightGBM] [Info] Total Bins 410\n",
      "[LightGBM] [Info] Number of data points in the train set: 433814, number of used features: 9\n",
      "[LightGBM] [Info] Start training from score 4.928911\n",
      "[CV] END estimate__learning_rate=0.02, estimate__n_estimators=200; total time=   3.0s\n",
      "[LightGBM] [Info] Auto-choosing row-wise multi-threading, the overhead of testing was 0.005071 seconds.\n",
      "You can set `force_row_wise=true` to remove the overhead.\n",
      "And if memory is not enough, you can set `force_col_wise=true`.\n",
      "[LightGBM] [Info] Total Bins 411\n",
      "[LightGBM] [Info] Number of data points in the train set: 433814, number of used features: 9\n",
      "[LightGBM] [Info] Start training from score 4.950963\n",
      "[CV] END estimate__learning_rate=0.02, estimate__n_estimators=200; total time=   3.0s\n",
      "[LightGBM] [Info] Auto-choosing row-wise multi-threading, the overhead of testing was 0.005178 seconds.\n",
      "You can set `force_row_wise=true` to remove the overhead.\n",
      "And if memory is not enough, you can set `force_col_wise=true`.\n",
      "[LightGBM] [Info] Total Bins 412\n",
      "[LightGBM] [Info] Number of data points in the train set: 433814, number of used features: 9\n",
      "[LightGBM] [Info] Start training from score 4.932520\n",
      "[CV] END estimate__learning_rate=0.02, estimate__n_estimators=200; total time=   3.4s\n",
      "[LightGBM] [Info] Auto-choosing row-wise multi-threading, the overhead of testing was 0.004384 seconds.\n",
      "You can set `force_row_wise=true` to remove the overhead.\n",
      "And if memory is not enough, you can set `force_col_wise=true`.\n",
      "[LightGBM] [Info] Total Bins 404\n",
      "[LightGBM] [Info] Number of data points in the train set: 433813, number of used features: 9\n",
      "[LightGBM] [Info] Start training from score 4.897331\n",
      "[CV] END estimate__learning_rate=0.03, estimate__n_estimators=50; total time=   0.9s\n",
      "[LightGBM] [Info] Auto-choosing row-wise multi-threading, the overhead of testing was 0.004481 seconds.\n",
      "You can set `force_row_wise=true` to remove the overhead.\n",
      "And if memory is not enough, you can set `force_col_wise=true`.\n",
      "[LightGBM] [Info] Total Bins 406\n",
      "[LightGBM] [Info] Number of data points in the train set: 433813, number of used features: 9\n",
      "[LightGBM] [Info] Start training from score 4.913501\n",
      "[CV] END estimate__learning_rate=0.03, estimate__n_estimators=50; total time=   0.9s\n",
      "[LightGBM] [Info] Auto-choosing row-wise multi-threading, the overhead of testing was 0.005573 seconds.\n",
      "You can set `force_row_wise=true` to remove the overhead.\n",
      "And if memory is not enough, you can set `force_col_wise=true`.\n",
      "[LightGBM] [Info] Total Bins 410\n",
      "[LightGBM] [Info] Number of data points in the train set: 433814, number of used features: 9\n",
      "[LightGBM] [Info] Start training from score 4.928911\n",
      "[CV] END estimate__learning_rate=0.03, estimate__n_estimators=50; total time=   0.9s\n",
      "[LightGBM] [Info] Auto-choosing row-wise multi-threading, the overhead of testing was 0.005873 seconds.\n",
      "You can set `force_row_wise=true` to remove the overhead.\n",
      "And if memory is not enough, you can set `force_col_wise=true`.\n",
      "[LightGBM] [Info] Total Bins 411\n",
      "[LightGBM] [Info] Number of data points in the train set: 433814, number of used features: 9\n",
      "[LightGBM] [Info] Start training from score 4.950963\n",
      "[CV] END estimate__learning_rate=0.03, estimate__n_estimators=50; total time=   0.9s\n",
      "[LightGBM] [Info] Auto-choosing row-wise multi-threading, the overhead of testing was 0.005442 seconds.\n",
      "You can set `force_row_wise=true` to remove the overhead.\n",
      "And if memory is not enough, you can set `force_col_wise=true`.\n",
      "[LightGBM] [Info] Total Bins 412\n",
      "[LightGBM] [Info] Number of data points in the train set: 433814, number of used features: 9\n",
      "[LightGBM] [Info] Start training from score 4.932520\n",
      "[CV] END estimate__learning_rate=0.03, estimate__n_estimators=50; total time=   1.5s\n",
      "[LightGBM] [Info] Auto-choosing row-wise multi-threading, the overhead of testing was 0.009359 seconds.\n",
      "You can set `force_row_wise=true` to remove the overhead.\n",
      "And if memory is not enough, you can set `force_col_wise=true`.\n",
      "[LightGBM] [Info] Total Bins 404\n",
      "[LightGBM] [Info] Number of data points in the train set: 433813, number of used features: 9\n",
      "[LightGBM] [Info] Start training from score 4.897331\n",
      "[CV] END estimate__learning_rate=0.03, estimate__n_estimators=100; total time=   2.6s\n",
      "[LightGBM] [Info] Auto-choosing row-wise multi-threading, the overhead of testing was 0.006650 seconds.\n",
      "You can set `force_row_wise=true` to remove the overhead.\n",
      "And if memory is not enough, you can set `force_col_wise=true`.\n",
      "[LightGBM] [Info] Total Bins 406\n",
      "[LightGBM] [Info] Number of data points in the train set: 433813, number of used features: 9\n",
      "[LightGBM] [Info] Start training from score 4.913501\n",
      "[CV] END estimate__learning_rate=0.03, estimate__n_estimators=100; total time=   1.7s\n",
      "[LightGBM] [Info] Auto-choosing row-wise multi-threading, the overhead of testing was 0.005638 seconds.\n",
      "You can set `force_row_wise=true` to remove the overhead.\n",
      "And if memory is not enough, you can set `force_col_wise=true`.\n",
      "[LightGBM] [Info] Total Bins 410\n",
      "[LightGBM] [Info] Number of data points in the train set: 433814, number of used features: 9\n",
      "[LightGBM] [Info] Start training from score 4.928911\n",
      "[CV] END estimate__learning_rate=0.03, estimate__n_estimators=100; total time=   1.7s\n",
      "[LightGBM] [Info] Auto-choosing row-wise multi-threading, the overhead of testing was 0.006280 seconds.\n",
      "You can set `force_row_wise=true` to remove the overhead.\n",
      "And if memory is not enough, you can set `force_col_wise=true`.\n",
      "[LightGBM] [Info] Total Bins 411\n",
      "[LightGBM] [Info] Number of data points in the train set: 433814, number of used features: 9\n",
      "[LightGBM] [Info] Start training from score 4.950963\n",
      "[CV] END estimate__learning_rate=0.03, estimate__n_estimators=100; total time=   2.0s\n",
      "[LightGBM] [Info] Auto-choosing row-wise multi-threading, the overhead of testing was 0.006298 seconds.\n",
      "You can set `force_row_wise=true` to remove the overhead.\n",
      "And if memory is not enough, you can set `force_col_wise=true`.\n",
      "[LightGBM] [Info] Total Bins 412\n",
      "[LightGBM] [Info] Number of data points in the train set: 433814, number of used features: 9\n",
      "[LightGBM] [Info] Start training from score 4.932520\n",
      "[CV] END estimate__learning_rate=0.03, estimate__n_estimators=100; total time=   1.8s\n",
      "[LightGBM] [Info] Auto-choosing row-wise multi-threading, the overhead of testing was 0.007233 seconds.\n",
      "You can set `force_row_wise=true` to remove the overhead.\n",
      "And if memory is not enough, you can set `force_col_wise=true`.\n",
      "[LightGBM] [Info] Total Bins 404\n",
      "[LightGBM] [Info] Number of data points in the train set: 433813, number of used features: 9\n",
      "[LightGBM] [Info] Start training from score 4.897331\n",
      "[CV] END estimate__learning_rate=0.03, estimate__n_estimators=150; total time=   2.7s\n",
      "[LightGBM] [Info] Auto-choosing row-wise multi-threading, the overhead of testing was 0.004409 seconds.\n",
      "You can set `force_row_wise=true` to remove the overhead.\n",
      "And if memory is not enough, you can set `force_col_wise=true`.\n",
      "[LightGBM] [Info] Total Bins 406\n",
      "[LightGBM] [Info] Number of data points in the train set: 433813, number of used features: 9\n",
      "[LightGBM] [Info] Start training from score 4.913501\n",
      "[CV] END estimate__learning_rate=0.03, estimate__n_estimators=150; total time=   2.9s\n",
      "[LightGBM] [Info] Auto-choosing row-wise multi-threading, the overhead of testing was 0.005381 seconds.\n",
      "You can set `force_row_wise=true` to remove the overhead.\n",
      "And if memory is not enough, you can set `force_col_wise=true`.\n",
      "[LightGBM] [Info] Total Bins 410\n",
      "[LightGBM] [Info] Number of data points in the train set: 433814, number of used features: 9\n",
      "[LightGBM] [Info] Start training from score 4.928911\n",
      "[CV] END estimate__learning_rate=0.03, estimate__n_estimators=150; total time=   2.7s\n",
      "[LightGBM] [Info] Auto-choosing row-wise multi-threading, the overhead of testing was 0.005836 seconds.\n",
      "You can set `force_row_wise=true` to remove the overhead.\n",
      "And if memory is not enough, you can set `force_col_wise=true`.\n",
      "[LightGBM] [Info] Total Bins 411\n",
      "[LightGBM] [Info] Number of data points in the train set: 433814, number of used features: 9\n",
      "[LightGBM] [Info] Start training from score 4.950963\n",
      "[CV] END estimate__learning_rate=0.03, estimate__n_estimators=150; total time=   2.4s\n",
      "[LightGBM] [Info] Auto-choosing row-wise multi-threading, the overhead of testing was 0.004999 seconds.\n",
      "You can set `force_row_wise=true` to remove the overhead.\n",
      "And if memory is not enough, you can set `force_col_wise=true`.\n",
      "[LightGBM] [Info] Total Bins 412\n",
      "[LightGBM] [Info] Number of data points in the train set: 433814, number of used features: 9\n",
      "[LightGBM] [Info] Start training from score 4.932520\n",
      "[CV] END estimate__learning_rate=0.03, estimate__n_estimators=150; total time=   2.3s\n",
      "[LightGBM] [Info] Auto-choosing row-wise multi-threading, the overhead of testing was 0.004870 seconds.\n",
      "You can set `force_row_wise=true` to remove the overhead.\n",
      "And if memory is not enough, you can set `force_col_wise=true`.\n",
      "[LightGBM] [Info] Total Bins 404\n",
      "[LightGBM] [Info] Number of data points in the train set: 433813, number of used features: 9\n",
      "[LightGBM] [Info] Start training from score 4.897331\n",
      "[CV] END estimate__learning_rate=0.03, estimate__n_estimators=200; total time=   3.5s\n",
      "[LightGBM] [Info] Auto-choosing row-wise multi-threading, the overhead of testing was 0.004421 seconds.\n",
      "You can set `force_row_wise=true` to remove the overhead.\n",
      "And if memory is not enough, you can set `force_col_wise=true`.\n",
      "[LightGBM] [Info] Total Bins 406\n",
      "[LightGBM] [Info] Number of data points in the train set: 433813, number of used features: 9\n",
      "[LightGBM] [Info] Start training from score 4.913501\n",
      "[CV] END estimate__learning_rate=0.03, estimate__n_estimators=200; total time=   3.0s\n",
      "[LightGBM] [Info] Auto-choosing row-wise multi-threading, the overhead of testing was 0.005010 seconds.\n",
      "You can set `force_row_wise=true` to remove the overhead.\n",
      "And if memory is not enough, you can set `force_col_wise=true`.\n",
      "[LightGBM] [Info] Total Bins 410\n",
      "[LightGBM] [Info] Number of data points in the train set: 433814, number of used features: 9\n",
      "[LightGBM] [Info] Start training from score 4.928911\n",
      "[CV] END estimate__learning_rate=0.03, estimate__n_estimators=200; total time=   3.6s\n",
      "[LightGBM] [Info] Auto-choosing row-wise multi-threading, the overhead of testing was 0.004995 seconds.\n",
      "You can set `force_row_wise=true` to remove the overhead.\n",
      "And if memory is not enough, you can set `force_col_wise=true`.\n",
      "[LightGBM] [Info] Total Bins 411\n",
      "[LightGBM] [Info] Number of data points in the train set: 433814, number of used features: 9\n",
      "[LightGBM] [Info] Start training from score 4.950963\n",
      "[CV] END estimate__learning_rate=0.03, estimate__n_estimators=200; total time=   3.3s\n",
      "[LightGBM] [Info] Auto-choosing row-wise multi-threading, the overhead of testing was 0.004888 seconds.\n",
      "You can set `force_row_wise=true` to remove the overhead.\n",
      "And if memory is not enough, you can set `force_col_wise=true`.\n",
      "[LightGBM] [Info] Total Bins 412\n",
      "[LightGBM] [Info] Number of data points in the train set: 433814, number of used features: 9\n",
      "[LightGBM] [Info] Start training from score 4.932520\n",
      "[CV] END estimate__learning_rate=0.03, estimate__n_estimators=200; total time=   2.9s\n",
      "[LightGBM] [Info] Auto-choosing row-wise multi-threading, the overhead of testing was 0.006516 seconds.\n",
      "You can set `force_row_wise=true` to remove the overhead.\n",
      "And if memory is not enough, you can set `force_col_wise=true`.\n",
      "[LightGBM] [Info] Total Bins 404\n",
      "[LightGBM] [Info] Number of data points in the train set: 433813, number of used features: 9\n",
      "[LightGBM] [Info] Start training from score 4.897331\n",
      "[CV] END estimate__learning_rate=0.04, estimate__n_estimators=50; total time=   1.4s\n",
      "[LightGBM] [Info] Auto-choosing row-wise multi-threading, the overhead of testing was 0.006503 seconds.\n",
      "You can set `force_row_wise=true` to remove the overhead.\n",
      "And if memory is not enough, you can set `force_col_wise=true`.\n",
      "[LightGBM] [Info] Total Bins 406\n",
      "[LightGBM] [Info] Number of data points in the train set: 433813, number of used features: 9\n",
      "[LightGBM] [Info] Start training from score 4.913501\n",
      "[CV] END estimate__learning_rate=0.04, estimate__n_estimators=50; total time=   1.1s\n",
      "[LightGBM] [Info] Auto-choosing row-wise multi-threading, the overhead of testing was 0.005756 seconds.\n",
      "You can set `force_row_wise=true` to remove the overhead.\n",
      "And if memory is not enough, you can set `force_col_wise=true`.\n",
      "[LightGBM] [Info] Total Bins 410\n",
      "[LightGBM] [Info] Number of data points in the train set: 433814, number of used features: 9\n",
      "[LightGBM] [Info] Start training from score 4.928911\n",
      "[CV] END estimate__learning_rate=0.04, estimate__n_estimators=50; total time=   0.9s\n",
      "[LightGBM] [Info] Auto-choosing row-wise multi-threading, the overhead of testing was 0.005548 seconds.\n",
      "You can set `force_row_wise=true` to remove the overhead.\n",
      "And if memory is not enough, you can set `force_col_wise=true`.\n",
      "[LightGBM] [Info] Total Bins 411\n",
      "[LightGBM] [Info] Number of data points in the train set: 433814, number of used features: 9\n",
      "[LightGBM] [Info] Start training from score 4.950963\n",
      "[CV] END estimate__learning_rate=0.04, estimate__n_estimators=50; total time=   0.9s\n",
      "[LightGBM] [Info] Auto-choosing row-wise multi-threading, the overhead of testing was 0.005782 seconds.\n",
      "You can set `force_row_wise=true` to remove the overhead.\n",
      "And if memory is not enough, you can set `force_col_wise=true`.\n",
      "[LightGBM] [Info] Total Bins 412\n",
      "[LightGBM] [Info] Number of data points in the train set: 433814, number of used features: 9\n",
      "[LightGBM] [Info] Start training from score 4.932520\n",
      "[CV] END estimate__learning_rate=0.04, estimate__n_estimators=50; total time=   1.0s\n",
      "[LightGBM] [Info] Auto-choosing row-wise multi-threading, the overhead of testing was 0.009783 seconds.\n",
      "You can set `force_row_wise=true` to remove the overhead.\n",
      "And if memory is not enough, you can set `force_col_wise=true`.\n",
      "[LightGBM] [Info] Total Bins 404\n",
      "[LightGBM] [Info] Number of data points in the train set: 433813, number of used features: 9\n",
      "[LightGBM] [Info] Start training from score 4.897331\n",
      "[CV] END estimate__learning_rate=0.04, estimate__n_estimators=100; total time=   1.9s\n",
      "[LightGBM] [Info] Auto-choosing row-wise multi-threading, the overhead of testing was 0.005248 seconds.\n",
      "You can set `force_row_wise=true` to remove the overhead.\n",
      "And if memory is not enough, you can set `force_col_wise=true`.\n",
      "[LightGBM] [Info] Total Bins 406\n",
      "[LightGBM] [Info] Number of data points in the train set: 433813, number of used features: 9\n",
      "[LightGBM] [Info] Start training from score 4.913501\n",
      "[CV] END estimate__learning_rate=0.04, estimate__n_estimators=100; total time=   1.8s\n",
      "[LightGBM] [Info] Auto-choosing row-wise multi-threading, the overhead of testing was 0.006165 seconds.\n",
      "You can set `force_row_wise=true` to remove the overhead.\n",
      "And if memory is not enough, you can set `force_col_wise=true`.\n",
      "[LightGBM] [Info] Total Bins 410\n",
      "[LightGBM] [Info] Number of data points in the train set: 433814, number of used features: 9\n",
      "[LightGBM] [Info] Start training from score 4.928911\n",
      "[CV] END estimate__learning_rate=0.04, estimate__n_estimators=100; total time=   2.0s\n",
      "[LightGBM] [Info] Auto-choosing row-wise multi-threading, the overhead of testing was 0.006165 seconds.\n",
      "You can set `force_row_wise=true` to remove the overhead.\n",
      "And if memory is not enough, you can set `force_col_wise=true`.\n",
      "[LightGBM] [Info] Total Bins 411\n",
      "[LightGBM] [Info] Number of data points in the train set: 433814, number of used features: 9\n",
      "[LightGBM] [Info] Start training from score 4.950963\n",
      "[CV] END estimate__learning_rate=0.04, estimate__n_estimators=100; total time=   1.8s\n",
      "[LightGBM] [Info] Auto-choosing row-wise multi-threading, the overhead of testing was 0.007430 seconds.\n",
      "You can set `force_row_wise=true` to remove the overhead.\n",
      "And if memory is not enough, you can set `force_col_wise=true`.\n",
      "[LightGBM] [Info] Total Bins 412\n",
      "[LightGBM] [Info] Number of data points in the train set: 433814, number of used features: 9\n",
      "[LightGBM] [Info] Start training from score 4.932520\n",
      "[CV] END estimate__learning_rate=0.04, estimate__n_estimators=100; total time=   2.0s\n",
      "[LightGBM] [Info] Auto-choosing row-wise multi-threading, the overhead of testing was 0.005386 seconds.\n",
      "You can set `force_row_wise=true` to remove the overhead.\n",
      "And if memory is not enough, you can set `force_col_wise=true`.\n",
      "[LightGBM] [Info] Total Bins 404\n",
      "[LightGBM] [Info] Number of data points in the train set: 433813, number of used features: 9\n",
      "[LightGBM] [Info] Start training from score 4.897331\n",
      "[CV] END estimate__learning_rate=0.04, estimate__n_estimators=150; total time=   3.9s\n",
      "[LightGBM] [Info] Auto-choosing row-wise multi-threading, the overhead of testing was 0.012209 seconds.\n",
      "You can set `force_row_wise=true` to remove the overhead.\n",
      "And if memory is not enough, you can set `force_col_wise=true`.\n",
      "[LightGBM] [Info] Total Bins 406\n",
      "[LightGBM] [Info] Number of data points in the train set: 433813, number of used features: 9\n",
      "[LightGBM] [Info] Start training from score 4.913501\n",
      "[CV] END estimate__learning_rate=0.04, estimate__n_estimators=150; total time=   4.3s\n",
      "[LightGBM] [Info] Auto-choosing row-wise multi-threading, the overhead of testing was 0.005218 seconds.\n",
      "You can set `force_row_wise=true` to remove the overhead.\n",
      "And if memory is not enough, you can set `force_col_wise=true`.\n",
      "[LightGBM] [Info] Total Bins 410\n",
      "[LightGBM] [Info] Number of data points in the train set: 433814, number of used features: 9\n",
      "[LightGBM] [Info] Start training from score 4.928911\n",
      "[CV] END estimate__learning_rate=0.04, estimate__n_estimators=150; total time=   3.4s\n",
      "[LightGBM] [Info] Auto-choosing row-wise multi-threading, the overhead of testing was 0.006350 seconds.\n",
      "You can set `force_row_wise=true` to remove the overhead.\n",
      "And if memory is not enough, you can set `force_col_wise=true`.\n",
      "[LightGBM] [Info] Total Bins 411\n",
      "[LightGBM] [Info] Number of data points in the train set: 433814, number of used features: 9\n",
      "[LightGBM] [Info] Start training from score 4.950963\n",
      "[CV] END estimate__learning_rate=0.04, estimate__n_estimators=150; total time=   2.7s\n",
      "[LightGBM] [Info] Auto-choosing row-wise multi-threading, the overhead of testing was 0.004889 seconds.\n",
      "You can set `force_row_wise=true` to remove the overhead.\n",
      "And if memory is not enough, you can set `force_col_wise=true`.\n",
      "[LightGBM] [Info] Total Bins 412\n",
      "[LightGBM] [Info] Number of data points in the train set: 433814, number of used features: 9\n",
      "[LightGBM] [Info] Start training from score 4.932520\n",
      "[CV] END estimate__learning_rate=0.04, estimate__n_estimators=150; total time=   2.3s\n",
      "[LightGBM] [Info] Auto-choosing row-wise multi-threading, the overhead of testing was 0.004360 seconds.\n",
      "You can set `force_row_wise=true` to remove the overhead.\n",
      "And if memory is not enough, you can set `force_col_wise=true`.\n",
      "[LightGBM] [Info] Total Bins 404\n",
      "[LightGBM] [Info] Number of data points in the train set: 433813, number of used features: 9\n",
      "[LightGBM] [Info] Start training from score 4.897331\n",
      "[CV] END estimate__learning_rate=0.04, estimate__n_estimators=200; total time=   2.8s\n",
      "[LightGBM] [Info] Auto-choosing row-wise multi-threading, the overhead of testing was 0.004377 seconds.\n",
      "You can set `force_row_wise=true` to remove the overhead.\n",
      "And if memory is not enough, you can set `force_col_wise=true`.\n",
      "[LightGBM] [Info] Total Bins 406\n",
      "[LightGBM] [Info] Number of data points in the train set: 433813, number of used features: 9\n",
      "[LightGBM] [Info] Start training from score 4.913501\n",
      "[CV] END estimate__learning_rate=0.04, estimate__n_estimators=200; total time=   2.8s\n",
      "[LightGBM] [Info] Auto-choosing row-wise multi-threading, the overhead of testing was 0.004923 seconds.\n",
      "You can set `force_row_wise=true` to remove the overhead.\n",
      "And if memory is not enough, you can set `force_col_wise=true`.\n",
      "[LightGBM] [Info] Total Bins 410\n",
      "[LightGBM] [Info] Number of data points in the train set: 433814, number of used features: 9\n",
      "[LightGBM] [Info] Start training from score 4.928911\n",
      "[CV] END estimate__learning_rate=0.04, estimate__n_estimators=200; total time=   3.2s\n",
      "[LightGBM] [Info] Auto-choosing row-wise multi-threading, the overhead of testing was 0.005679 seconds.\n",
      "You can set `force_row_wise=true` to remove the overhead.\n",
      "And if memory is not enough, you can set `force_col_wise=true`.\n",
      "[LightGBM] [Info] Total Bins 411\n",
      "[LightGBM] [Info] Number of data points in the train set: 433814, number of used features: 9\n",
      "[LightGBM] [Info] Start training from score 4.950963\n",
      "[CV] END estimate__learning_rate=0.04, estimate__n_estimators=200; total time=   4.3s\n",
      "[LightGBM] [Info] Auto-choosing row-wise multi-threading, the overhead of testing was 0.006228 seconds.\n",
      "You can set `force_row_wise=true` to remove the overhead.\n",
      "And if memory is not enough, you can set `force_col_wise=true`.\n",
      "[LightGBM] [Info] Total Bins 412\n",
      "[LightGBM] [Info] Number of data points in the train set: 433814, number of used features: 9\n",
      "[LightGBM] [Info] Start training from score 4.932520\n",
      "[CV] END estimate__learning_rate=0.04, estimate__n_estimators=200; total time=   3.7s\n",
      "[LightGBM] [Info] Auto-choosing row-wise multi-threading, the overhead of testing was 0.005430 seconds.\n",
      "You can set `force_row_wise=true` to remove the overhead.\n",
      "And if memory is not enough, you can set `force_col_wise=true`.\n",
      "[LightGBM] [Info] Total Bins 404\n",
      "[LightGBM] [Info] Number of data points in the train set: 433813, number of used features: 9\n",
      "[LightGBM] [Info] Start training from score 4.897331\n",
      "[CV] END estimate__learning_rate=0.05, estimate__n_estimators=50; total time=   1.3s\n",
      "[LightGBM] [Info] Auto-choosing row-wise multi-threading, the overhead of testing was 0.005035 seconds.\n",
      "You can set `force_row_wise=true` to remove the overhead.\n",
      "And if memory is not enough, you can set `force_col_wise=true`.\n",
      "[LightGBM] [Info] Total Bins 406\n",
      "[LightGBM] [Info] Number of data points in the train set: 433813, number of used features: 9\n",
      "[LightGBM] [Info] Start training from score 4.913501\n",
      "[CV] END estimate__learning_rate=0.05, estimate__n_estimators=50; total time=   1.1s\n",
      "[LightGBM] [Info] Auto-choosing row-wise multi-threading, the overhead of testing was 0.005904 seconds.\n",
      "You can set `force_row_wise=true` to remove the overhead.\n",
      "And if memory is not enough, you can set `force_col_wise=true`.\n",
      "[LightGBM] [Info] Total Bins 410\n",
      "[LightGBM] [Info] Number of data points in the train set: 433814, number of used features: 9\n",
      "[LightGBM] [Info] Start training from score 4.928911\n",
      "[CV] END estimate__learning_rate=0.05, estimate__n_estimators=50; total time=   1.3s\n",
      "[LightGBM] [Info] Auto-choosing row-wise multi-threading, the overhead of testing was 0.005989 seconds.\n",
      "You can set `force_row_wise=true` to remove the overhead.\n",
      "And if memory is not enough, you can set `force_col_wise=true`.\n",
      "[LightGBM] [Info] Total Bins 411\n",
      "[LightGBM] [Info] Number of data points in the train set: 433814, number of used features: 9\n",
      "[LightGBM] [Info] Start training from score 4.950963\n",
      "[CV] END estimate__learning_rate=0.05, estimate__n_estimators=50; total time=   1.1s\n",
      "[LightGBM] [Info] Auto-choosing row-wise multi-threading, the overhead of testing was 0.006519 seconds.\n",
      "You can set `force_row_wise=true` to remove the overhead.\n",
      "And if memory is not enough, you can set `force_col_wise=true`.\n",
      "[LightGBM] [Info] Total Bins 412\n",
      "[LightGBM] [Info] Number of data points in the train set: 433814, number of used features: 9\n",
      "[LightGBM] [Info] Start training from score 4.932520\n",
      "[CV] END estimate__learning_rate=0.05, estimate__n_estimators=50; total time=   1.1s\n",
      "[LightGBM] [Info] Auto-choosing row-wise multi-threading, the overhead of testing was 0.005231 seconds.\n",
      "You can set `force_row_wise=true` to remove the overhead.\n",
      "And if memory is not enough, you can set `force_col_wise=true`.\n",
      "[LightGBM] [Info] Total Bins 404\n",
      "[LightGBM] [Info] Number of data points in the train set: 433813, number of used features: 9\n",
      "[LightGBM] [Info] Start training from score 4.897331\n",
      "[CV] END estimate__learning_rate=0.05, estimate__n_estimators=100; total time=   1.8s\n",
      "[LightGBM] [Info] Auto-choosing row-wise multi-threading, the overhead of testing was 0.004969 seconds.\n",
      "You can set `force_row_wise=true` to remove the overhead.\n",
      "And if memory is not enough, you can set `force_col_wise=true`.\n",
      "[LightGBM] [Info] Total Bins 406\n",
      "[LightGBM] [Info] Number of data points in the train set: 433813, number of used features: 9\n",
      "[LightGBM] [Info] Start training from score 4.913501\n",
      "[CV] END estimate__learning_rate=0.05, estimate__n_estimators=100; total time=   1.6s\n",
      "[LightGBM] [Info] Auto-choosing row-wise multi-threading, the overhead of testing was 0.005573 seconds.\n",
      "You can set `force_row_wise=true` to remove the overhead.\n",
      "And if memory is not enough, you can set `force_col_wise=true`.\n",
      "[LightGBM] [Info] Total Bins 410\n",
      "[LightGBM] [Info] Number of data points in the train set: 433814, number of used features: 9\n",
      "[LightGBM] [Info] Start training from score 4.928911\n",
      "[CV] END estimate__learning_rate=0.05, estimate__n_estimators=100; total time=   1.7s\n",
      "[LightGBM] [Info] Auto-choosing row-wise multi-threading, the overhead of testing was 0.005021 seconds.\n",
      "You can set `force_row_wise=true` to remove the overhead.\n",
      "And if memory is not enough, you can set `force_col_wise=true`.\n",
      "[LightGBM] [Info] Total Bins 411\n",
      "[LightGBM] [Info] Number of data points in the train set: 433814, number of used features: 9\n",
      "[LightGBM] [Info] Start training from score 4.950963\n",
      "[CV] END estimate__learning_rate=0.05, estimate__n_estimators=100; total time=   2.1s\n",
      "[LightGBM] [Info] Auto-choosing row-wise multi-threading, the overhead of testing was 0.005920 seconds.\n",
      "You can set `force_row_wise=true` to remove the overhead.\n",
      "And if memory is not enough, you can set `force_col_wise=true`.\n",
      "[LightGBM] [Info] Total Bins 412\n",
      "[LightGBM] [Info] Number of data points in the train set: 433814, number of used features: 9\n",
      "[LightGBM] [Info] Start training from score 4.932520\n",
      "[CV] END estimate__learning_rate=0.05, estimate__n_estimators=100; total time=   2.0s\n",
      "[LightGBM] [Info] Auto-choosing row-wise multi-threading, the overhead of testing was 0.004848 seconds.\n",
      "You can set `force_row_wise=true` to remove the overhead.\n",
      "And if memory is not enough, you can set `force_col_wise=true`.\n",
      "[LightGBM] [Info] Total Bins 404\n",
      "[LightGBM] [Info] Number of data points in the train set: 433813, number of used features: 9\n",
      "[LightGBM] [Info] Start training from score 4.897331\n",
      "[CV] END estimate__learning_rate=0.05, estimate__n_estimators=150; total time=   2.3s\n",
      "[LightGBM] [Info] Auto-choosing row-wise multi-threading, the overhead of testing was 0.005124 seconds.\n",
      "You can set `force_row_wise=true` to remove the overhead.\n",
      "And if memory is not enough, you can set `force_col_wise=true`.\n",
      "[LightGBM] [Info] Total Bins 406\n",
      "[LightGBM] [Info] Number of data points in the train set: 433813, number of used features: 9\n",
      "[LightGBM] [Info] Start training from score 4.913501\n",
      "[CV] END estimate__learning_rate=0.05, estimate__n_estimators=150; total time=   2.5s\n",
      "[LightGBM] [Info] Auto-choosing row-wise multi-threading, the overhead of testing was 0.005600 seconds.\n",
      "You can set `force_row_wise=true` to remove the overhead.\n",
      "And if memory is not enough, you can set `force_col_wise=true`.\n",
      "[LightGBM] [Info] Total Bins 410\n",
      "[LightGBM] [Info] Number of data points in the train set: 433814, number of used features: 9\n",
      "[LightGBM] [Info] Start training from score 4.928911\n",
      "[CV] END estimate__learning_rate=0.05, estimate__n_estimators=150; total time=   2.4s\n",
      "[LightGBM] [Info] Auto-choosing row-wise multi-threading, the overhead of testing was 0.008210 seconds.\n",
      "You can set `force_row_wise=true` to remove the overhead.\n",
      "And if memory is not enough, you can set `force_col_wise=true`.\n",
      "[LightGBM] [Info] Total Bins 411\n",
      "[LightGBM] [Info] Number of data points in the train set: 433814, number of used features: 9\n",
      "[LightGBM] [Info] Start training from score 4.950963\n",
      "[CV] END estimate__learning_rate=0.05, estimate__n_estimators=150; total time=   2.4s\n",
      "[LightGBM] [Info] Auto-choosing row-wise multi-threading, the overhead of testing was 0.004890 seconds.\n",
      "You can set `force_row_wise=true` to remove the overhead.\n",
      "And if memory is not enough, you can set `force_col_wise=true`.\n",
      "[LightGBM] [Info] Total Bins 412\n",
      "[LightGBM] [Info] Number of data points in the train set: 433814, number of used features: 9\n",
      "[LightGBM] [Info] Start training from score 4.932520\n",
      "[CV] END estimate__learning_rate=0.05, estimate__n_estimators=150; total time=   2.2s\n",
      "[LightGBM] [Info] Auto-choosing row-wise multi-threading, the overhead of testing was 0.004500 seconds.\n",
      "You can set `force_row_wise=true` to remove the overhead.\n",
      "And if memory is not enough, you can set `force_col_wise=true`.\n",
      "[LightGBM] [Info] Total Bins 404\n",
      "[LightGBM] [Info] Number of data points in the train set: 433813, number of used features: 9\n",
      "[LightGBM] [Info] Start training from score 4.897331\n",
      "[CV] END estimate__learning_rate=0.05, estimate__n_estimators=200; total time=   2.8s\n",
      "[LightGBM] [Info] Auto-choosing row-wise multi-threading, the overhead of testing was 0.004932 seconds.\n",
      "You can set `force_row_wise=true` to remove the overhead.\n",
      "And if memory is not enough, you can set `force_col_wise=true`.\n",
      "[LightGBM] [Info] Total Bins 406\n",
      "[LightGBM] [Info] Number of data points in the train set: 433813, number of used features: 9\n",
      "[LightGBM] [Info] Start training from score 4.913501\n",
      "[CV] END estimate__learning_rate=0.05, estimate__n_estimators=200; total time=   2.7s\n",
      "[LightGBM] [Info] Auto-choosing row-wise multi-threading, the overhead of testing was 0.005841 seconds.\n",
      "You can set `force_row_wise=true` to remove the overhead.\n",
      "And if memory is not enough, you can set `force_col_wise=true`.\n",
      "[LightGBM] [Info] Total Bins 410\n",
      "[LightGBM] [Info] Number of data points in the train set: 433814, number of used features: 9\n",
      "[LightGBM] [Info] Start training from score 4.928911\n",
      "[CV] END estimate__learning_rate=0.05, estimate__n_estimators=200; total time=   2.9s\n",
      "[LightGBM] [Info] Auto-choosing row-wise multi-threading, the overhead of testing was 0.005555 seconds.\n",
      "You can set `force_row_wise=true` to remove the overhead.\n",
      "And if memory is not enough, you can set `force_col_wise=true`.\n",
      "[LightGBM] [Info] Total Bins 411\n",
      "[LightGBM] [Info] Number of data points in the train set: 433814, number of used features: 9\n",
      "[LightGBM] [Info] Start training from score 4.950963\n",
      "[CV] END estimate__learning_rate=0.05, estimate__n_estimators=200; total time=   2.9s\n",
      "[LightGBM] [Info] Auto-choosing row-wise multi-threading, the overhead of testing was 0.004914 seconds.\n",
      "You can set `force_row_wise=true` to remove the overhead.\n",
      "And if memory is not enough, you can set `force_col_wise=true`.\n",
      "[LightGBM] [Info] Total Bins 412\n",
      "[LightGBM] [Info] Number of data points in the train set: 433814, number of used features: 9\n",
      "[LightGBM] [Info] Start training from score 4.932520\n",
      "[CV] END estimate__learning_rate=0.05, estimate__n_estimators=200; total time=   3.2s\n",
      "[LightGBM] [Info] Auto-choosing row-wise multi-threading, the overhead of testing was 0.004348 seconds.\n",
      "You can set `force_row_wise=true` to remove the overhead.\n",
      "And if memory is not enough, you can set `force_col_wise=true`.\n",
      "[LightGBM] [Info] Total Bins 404\n",
      "[LightGBM] [Info] Number of data points in the train set: 433813, number of used features: 9\n",
      "[LightGBM] [Info] Start training from score 4.897331\n",
      "[CV] END estimate__learning_rate=0.1, estimate__n_estimators=50; total time=   1.0s\n",
      "[LightGBM] [Info] Auto-choosing row-wise multi-threading, the overhead of testing was 0.005140 seconds.\n",
      "You can set `force_row_wise=true` to remove the overhead.\n",
      "And if memory is not enough, you can set `force_col_wise=true`.\n",
      "[LightGBM] [Info] Total Bins 406\n",
      "[LightGBM] [Info] Number of data points in the train set: 433813, number of used features: 9\n",
      "[LightGBM] [Info] Start training from score 4.913501\n",
      "[CV] END estimate__learning_rate=0.1, estimate__n_estimators=50; total time=   1.0s\n",
      "[LightGBM] [Info] Auto-choosing row-wise multi-threading, the overhead of testing was 0.005787 seconds.\n",
      "You can set `force_row_wise=true` to remove the overhead.\n",
      "And if memory is not enough, you can set `force_col_wise=true`.\n",
      "[LightGBM] [Info] Total Bins 410\n",
      "[LightGBM] [Info] Number of data points in the train set: 433814, number of used features: 9\n",
      "[LightGBM] [Info] Start training from score 4.928911\n",
      "[CV] END estimate__learning_rate=0.1, estimate__n_estimators=50; total time=   1.0s\n",
      "[LightGBM] [Info] Auto-choosing row-wise multi-threading, the overhead of testing was 0.005662 seconds.\n",
      "You can set `force_row_wise=true` to remove the overhead.\n",
      "And if memory is not enough, you can set `force_col_wise=true`.\n",
      "[LightGBM] [Info] Total Bins 411\n",
      "[LightGBM] [Info] Number of data points in the train set: 433814, number of used features: 9\n",
      "[LightGBM] [Info] Start training from score 4.950963\n",
      "[CV] END estimate__learning_rate=0.1, estimate__n_estimators=50; total time=   1.0s\n",
      "[LightGBM] [Info] Auto-choosing col-wise multi-threading, the overhead of testing was 0.025892 seconds.\n",
      "You can set `force_col_wise=true` to remove the overhead.\n",
      "[LightGBM] [Info] Total Bins 412\n",
      "[LightGBM] [Info] Number of data points in the train set: 433814, number of used features: 9\n",
      "[LightGBM] [Info] Start training from score 4.932520\n",
      "[CV] END estimate__learning_rate=0.1, estimate__n_estimators=50; total time=   1.5s\n",
      "[LightGBM] [Info] Auto-choosing row-wise multi-threading, the overhead of testing was 0.004897 seconds.\n",
      "You can set `force_row_wise=true` to remove the overhead.\n",
      "And if memory is not enough, you can set `force_col_wise=true`.\n",
      "[LightGBM] [Info] Total Bins 404\n",
      "[LightGBM] [Info] Number of data points in the train set: 433813, number of used features: 9\n",
      "[LightGBM] [Info] Start training from score 4.897331\n",
      "[CV] END estimate__learning_rate=0.1, estimate__n_estimators=100; total time=   1.7s\n",
      "[LightGBM] [Info] Auto-choosing row-wise multi-threading, the overhead of testing was 0.005501 seconds.\n",
      "You can set `force_row_wise=true` to remove the overhead.\n",
      "And if memory is not enough, you can set `force_col_wise=true`.\n",
      "[LightGBM] [Info] Total Bins 406\n",
      "[LightGBM] [Info] Number of data points in the train set: 433813, number of used features: 9\n",
      "[LightGBM] [Info] Start training from score 4.913501\n",
      "[CV] END estimate__learning_rate=0.1, estimate__n_estimators=100; total time=   1.7s\n",
      "[LightGBM] [Info] Auto-choosing row-wise multi-threading, the overhead of testing was 0.005627 seconds.\n",
      "You can set `force_row_wise=true` to remove the overhead.\n",
      "And if memory is not enough, you can set `force_col_wise=true`.\n",
      "[LightGBM] [Info] Total Bins 410\n",
      "[LightGBM] [Info] Number of data points in the train set: 433814, number of used features: 9\n",
      "[LightGBM] [Info] Start training from score 4.928911\n",
      "[CV] END estimate__learning_rate=0.1, estimate__n_estimators=100; total time=   1.7s\n",
      "[LightGBM] [Info] Auto-choosing row-wise multi-threading, the overhead of testing was 0.005584 seconds.\n",
      "You can set `force_row_wise=true` to remove the overhead.\n",
      "And if memory is not enough, you can set `force_col_wise=true`.\n",
      "[LightGBM] [Info] Total Bins 411\n",
      "[LightGBM] [Info] Number of data points in the train set: 433814, number of used features: 9\n",
      "[LightGBM] [Info] Start training from score 4.950963\n",
      "[CV] END estimate__learning_rate=0.1, estimate__n_estimators=100; total time=   1.7s\n",
      "[LightGBM] [Info] Auto-choosing row-wise multi-threading, the overhead of testing was 0.006680 seconds.\n",
      "You can set `force_row_wise=true` to remove the overhead.\n",
      "And if memory is not enough, you can set `force_col_wise=true`.\n",
      "[LightGBM] [Info] Total Bins 412\n",
      "[LightGBM] [Info] Number of data points in the train set: 433814, number of used features: 9\n",
      "[LightGBM] [Info] Start training from score 4.932520\n",
      "[CV] END estimate__learning_rate=0.1, estimate__n_estimators=100; total time=   1.9s\n",
      "[LightGBM] [Info] Auto-choosing row-wise multi-threading, the overhead of testing was 0.005918 seconds.\n",
      "You can set `force_row_wise=true` to remove the overhead.\n",
      "And if memory is not enough, you can set `force_col_wise=true`.\n",
      "[LightGBM] [Info] Total Bins 404\n",
      "[LightGBM] [Info] Number of data points in the train set: 433813, number of used features: 9\n",
      "[LightGBM] [Info] Start training from score 4.897331\n",
      "[CV] END estimate__learning_rate=0.1, estimate__n_estimators=150; total time=   2.6s\n",
      "[LightGBM] [Info] Auto-choosing row-wise multi-threading, the overhead of testing was 0.005219 seconds.\n",
      "You can set `force_row_wise=true` to remove the overhead.\n",
      "And if memory is not enough, you can set `force_col_wise=true`.\n",
      "[LightGBM] [Info] Total Bins 406\n",
      "[LightGBM] [Info] Number of data points in the train set: 433813, number of used features: 9\n",
      "[LightGBM] [Info] Start training from score 4.913501\n",
      "[CV] END estimate__learning_rate=0.1, estimate__n_estimators=150; total time=   2.4s\n",
      "[LightGBM] [Info] Auto-choosing row-wise multi-threading, the overhead of testing was 0.005584 seconds.\n",
      "You can set `force_row_wise=true` to remove the overhead.\n",
      "And if memory is not enough, you can set `force_col_wise=true`.\n",
      "[LightGBM] [Info] Total Bins 410\n",
      "[LightGBM] [Info] Number of data points in the train set: 433814, number of used features: 9\n",
      "[LightGBM] [Info] Start training from score 4.928911\n",
      "[CV] END estimate__learning_rate=0.1, estimate__n_estimators=150; total time=   2.2s\n",
      "[LightGBM] [Info] Auto-choosing row-wise multi-threading, the overhead of testing was 0.005491 seconds.\n",
      "You can set `force_row_wise=true` to remove the overhead.\n",
      "And if memory is not enough, you can set `force_col_wise=true`.\n",
      "[LightGBM] [Info] Total Bins 411\n",
      "[LightGBM] [Info] Number of data points in the train set: 433814, number of used features: 9\n",
      "[LightGBM] [Info] Start training from score 4.950963\n",
      "[CV] END estimate__learning_rate=0.1, estimate__n_estimators=150; total time=   2.7s\n",
      "[LightGBM] [Info] Auto-choosing row-wise multi-threading, the overhead of testing was 0.011566 seconds.\n",
      "You can set `force_row_wise=true` to remove the overhead.\n",
      "And if memory is not enough, you can set `force_col_wise=true`.\n",
      "[LightGBM] [Info] Total Bins 412\n",
      "[LightGBM] [Info] Number of data points in the train set: 433814, number of used features: 9\n",
      "[LightGBM] [Info] Start training from score 4.932520\n",
      "[CV] END estimate__learning_rate=0.1, estimate__n_estimators=150; total time=   4.5s\n",
      "[LightGBM] [Info] Auto-choosing row-wise multi-threading, the overhead of testing was 0.004880 seconds.\n",
      "You can set `force_row_wise=true` to remove the overhead.\n",
      "And if memory is not enough, you can set `force_col_wise=true`.\n",
      "[LightGBM] [Info] Total Bins 404\n",
      "[LightGBM] [Info] Number of data points in the train set: 433813, number of used features: 9\n",
      "[LightGBM] [Info] Start training from score 4.897331\n",
      "[CV] END estimate__learning_rate=0.1, estimate__n_estimators=200; total time=   3.5s\n",
      "[LightGBM] [Info] Auto-choosing row-wise multi-threading, the overhead of testing was 0.004993 seconds.\n",
      "You can set `force_row_wise=true` to remove the overhead.\n",
      "And if memory is not enough, you can set `force_col_wise=true`.\n",
      "[LightGBM] [Info] Total Bins 406\n",
      "[LightGBM] [Info] Number of data points in the train set: 433813, number of used features: 9\n",
      "[LightGBM] [Info] Start training from score 4.913501\n",
      "[CV] END estimate__learning_rate=0.1, estimate__n_estimators=200; total time=   3.6s\n",
      "[LightGBM] [Info] Auto-choosing row-wise multi-threading, the overhead of testing was 0.007612 seconds.\n",
      "You can set `force_row_wise=true` to remove the overhead.\n",
      "And if memory is not enough, you can set `force_col_wise=true`.\n",
      "[LightGBM] [Info] Total Bins 410\n",
      "[LightGBM] [Info] Number of data points in the train set: 433814, number of used features: 9\n",
      "[LightGBM] [Info] Start training from score 4.928911\n",
      "[CV] END estimate__learning_rate=0.1, estimate__n_estimators=200; total time=   3.5s\n",
      "[LightGBM] [Info] Auto-choosing row-wise multi-threading, the overhead of testing was 0.005546 seconds.\n",
      "You can set `force_row_wise=true` to remove the overhead.\n",
      "And if memory is not enough, you can set `force_col_wise=true`.\n",
      "[LightGBM] [Info] Total Bins 411\n",
      "[LightGBM] [Info] Number of data points in the train set: 433814, number of used features: 9\n",
      "[LightGBM] [Info] Start training from score 4.950963\n",
      "[CV] END estimate__learning_rate=0.1, estimate__n_estimators=200; total time=   3.3s\n",
      "[LightGBM] [Info] Auto-choosing row-wise multi-threading, the overhead of testing was 0.005015 seconds.\n",
      "You can set `force_row_wise=true` to remove the overhead.\n",
      "And if memory is not enough, you can set `force_col_wise=true`.\n",
      "[LightGBM] [Info] Total Bins 412\n",
      "[LightGBM] [Info] Number of data points in the train set: 433814, number of used features: 9\n",
      "[LightGBM] [Info] Start training from score 4.932520\n",
      "[CV] END estimate__learning_rate=0.1, estimate__n_estimators=200; total time=   3.1s\n",
      "[LightGBM] [Info] Auto-choosing row-wise multi-threading, the overhead of testing was 0.005843 seconds.\n",
      "You can set `force_row_wise=true` to remove the overhead.\n",
      "And if memory is not enough, you can set `force_col_wise=true`.\n",
      "[LightGBM] [Info] Total Bins 409\n",
      "[LightGBM] [Info] Number of data points in the train set: 542267, number of used features: 9\n",
      "[LightGBM] [Info] Start training from score 4.925267\n",
      "training loss t_lgbm:  66.06939756906495\n",
      "testing loss t_lgbm:  73.25056895959608\n",
      "Total claim amount on test set, observed = 9824331.800000003, predicted = 8547907.402340181\n"
     ]
    }
   ],
   "source": [
    "# TODO: Let's tune the LGBM to reduce overfitting.\n",
    "# Steps:\n",
    "# 1. Define a `GridSearchCV` object with our lgbm pipeline/estimator. Tip: Parameters for a specific step of the pipeline\n",
    "# can be passed by <step_name>__param. \n",
    "\n",
    "# Note: Typically we tune many more parameters and larger grids,\n",
    "# but to save compute time here, we focus on getting the learning rate\n",
    "# and the number of estimators somewhat aligned -> tune learning_rate and n_estimators\n",
    "cv_u_lgbm = GridSearchCV(\n",
    "    model_pipeline,\n",
    "    {\n",
    "        \"estimate__learning_rate\": [0.01, 0.02, 0.03, 0.04, 0.05, 0.1],\n",
    "        \"estimate__n_estimators\": [50, 100, 150, 200],\n",
    "    },\n",
    "    verbose=2,\n",
    ")\n",
    "cv_u_lgbm.fit(X_train_t, y_train_t, estimate__sample_weight=w_train_t)\n",
    "\n",
    "df_test.loc[:,\"pp_t_lgbm\"] = cv_u_lgbm.best_estimator_.predict(X_test_t)\n",
    "df_train.loc[:,\"pp_t_lgbm\"] = cv_u_lgbm.best_estimator_.predict(X_train_t)\n",
    "\n",
    "print(\n",
    "    \"training loss t_lgbm:  {}\".format(\n",
    "        TweedieDist.deviance(y_train_t, df_train[\"pp_t_lgbm\"], sample_weight=w_train_t)\n",
    "        / np.sum(w_train_t)\n",
    "    )\n",
    ")\n",
    "\n",
    "print(\n",
    "    \"testing loss t_lgbm:  {}\".format(\n",
    "        TweedieDist.deviance(y_test_t, df_test[\"pp_t_lgbm\"], sample_weight=w_test_t)\n",
    "        / np.sum(w_test_t)\n",
    "    )\n",
    ")\n",
    "\n",
    "print(\n",
    "    \"Total claim amount on test set, observed = {}, predicted = {}\".format(\n",
    "        df[\"ClaimAmountCut\"].values[test].sum(),\n",
    "        np.sum(df[\"Exposure\"].values[test] * df_test[\"pp_t_lgbm\"]),\n",
    "    )\n",
    ")\n",
    "#[CV] END estimate__learning_rate=0.1, estimate__n_estimators=200; total time=   2.1s"
   ]
  },
  {
   "cell_type": "code",
   "execution_count": 13,
   "metadata": {},
   "outputs": [],
   "source": [
    "# Saving best unconstrained lgbm model\n",
    "\n",
    "best_unconstrained_lgbm = cv_u_lgbm.best_estimator_\n"
   ]
  },
  {
   "cell_type": "code",
   "execution_count": 14,
   "metadata": {},
   "outputs": [
    {
     "data": {
      "text/plain": [
       "[]"
      ]
     },
     "execution_count": 14,
     "metadata": {},
     "output_type": "execute_result"
    },
    {
     "data": {
      "image/png": "[encoded data removed]",
      "text/plain": [
       "<Figure size 800x800 with 1 Axes>"
      ]
     },
     "metadata": {},
     "output_type": "display_data"
    }
   ],
   "source": [
    "# Let's compare the sorting of the pure premium predictions\n",
    "# Source: https://scikit-learn.org/stable/auto_examples/linear_model/plot_tweedie_regression_insurance_claims.html\n",
    "def lorenz_curve(y_true, y_pred, exposure):\n",
    "    y_true, y_pred = np.asarray(y_true), np.asarray(y_pred)\n",
    "    exposure = np.asarray(exposure)\n",
    "\n",
    "    # order samples by increasing predicted risk:\n",
    "    ranking = np.argsort(y_pred)\n",
    "    ranked_exposure = exposure[ranking]\n",
    "    ranked_pure_premium = y_true[ranking]\n",
    "    cumulated_claim_amount = np.cumsum(ranked_pure_premium * ranked_exposure)\n",
    "    cumulated_claim_amount /= cumulated_claim_amount[-1]\n",
    "    cumulated_samples = np.linspace(0, 1, len(cumulated_claim_amount))\n",
    "    return cumulated_samples, cumulated_claim_amount\n",
    "\n",
    "\n",
    "fig, ax = plt.subplots(figsize=(8, 8))\n",
    "\n",
    "for label, y_pred in [\n",
    "    (\"LGBM\", df_test[\"pp_t_lgbm\"]),\n",
    "    (\"GLM Benchmark\", df_test[\"pp_t_glm1\"]),\n",
    "    (\"GLM Splines\", df_test[\"pp_t_glm2\"]),\n",
    "]:\n",
    "    ordered_samples, cum_claims = lorenz_curve(\n",
    "        df_test[\"PurePremium\"], y_pred, df_test[\"Exposure\"]\n",
    "    )\n",
    "    gini = 1 - 2 * auc(ordered_samples, cum_claims)\n",
    "    label += f\" (Gini index: {gini: .3f})\"\n",
    "    ax.plot(ordered_samples, cum_claims, linestyle=\"-\", label=label)\n",
    "\n",
    "# Oracle model: y_pred == y_test\n",
    "ordered_samples, cum_claims = lorenz_curve(\n",
    "    df_test[\"PurePremium\"], df_test[\"PurePremium\"], df_test[\"Exposure\"]\n",
    ")\n",
    "gini = 1 - 2 * auc(ordered_samples, cum_claims)\n",
    "label = f\"Oracle (Gini index: {gini: .3f})\"\n",
    "ax.plot(ordered_samples, cum_claims, linestyle=\"-.\", color=\"gray\", label=label)\n",
    "\n",
    "# Random baseline\n",
    "ax.plot([0, 1], [0, 1], linestyle=\"--\", color=\"black\", label=\"Random baseline\")\n",
    "ax.set(\n",
    "    title=\"Lorenz Curves\",\n",
    "    xlabel=\"Fraction of policyholders\\n(ordered by model from safest to riskiest)\",\n",
    "    ylabel=\"Fraction of total claim amount\",\n",
    ")\n",
    "ax.legend(loc=\"upper left\")\n",
    "plt.plot()"
   ]
  },
  {
   "cell_type": "code",
   "execution_count": 15,
   "metadata": {},
   "outputs": [
    {
     "name": "stderr",
     "output_type": "stream",
     "text": [
      "/var/folders/sj/rpr9y2fx5c99hjkqtppxm2zm0000gn/T/ipykernel_26573/1327824370.py:9: FutureWarning: The default of observed=False is deprecated and will be changed to True in a future version of pandas. Pass observed=False to retain current behavior or observed=True to adopt the future default and silence this warning.\n",
      "  aggregated = df.groupby(\"BonusMalusBin\").apply(\n",
      "/opt/anaconda3/envs/ps3_2/lib/python3.12/site-packages/numpy/lib/_function_base_impl.py:557: RuntimeWarning: Mean of empty slice.\n",
      "  avg = a.mean(axis, **keepdims_kw)\n",
      "/opt/anaconda3/envs/ps3_2/lib/python3.12/site-packages/numpy/_core/_methods.py:138: RuntimeWarning: invalid value encountered in scalar divide\n",
      "  ret = ret.dtype.type(ret / rcount)\n",
      "/var/folders/sj/rpr9y2fx5c99hjkqtppxm2zm0000gn/T/ipykernel_26573/1327824370.py:9: DeprecationWarning: DataFrameGroupBy.apply operated on the grouping columns. This behavior is deprecated, and in a future version of pandas the grouping columns will be excluded from the operation. Either pass `include_groups=False` to exclude the groupings or explicitly select the grouping columns after groupby to silence this warning.\n",
      "  aggregated = df.groupby(\"BonusMalusBin\").apply(\n"
     ]
    },
    {
     "data": {
      "image/png": "[encoded data removed]",
      "text/plain": [
       "<Figure size 1000x600 with 1 Axes>"
      ]
     },
     "metadata": {},
     "output_type": "display_data"
    }
   ],
   "source": [
    "#START OF PROBLEM SET 4\n",
    "#EX1 MONOTONOCITY CONSTRAINTS\n",
    "#EX1.1 Plotting average claims\n",
    "import pandas as pd\n",
    "import numpy as np\n",
    "import matplotlib.pyplot as plt\n",
    "bin_edges = list(range(50, 260, 10))\n",
    "df['BonusMalusBin'] = pd.cut(df['BonusMalus'], bins=bin_edges, include_lowest=True) #need to specify true, otherwise 50 exluded as first interval open\n",
    "aggregated = df.groupby(\"BonusMalusBin\").apply(\n",
    "    lambda x: np.average(x[\"PurePremium\"])\n",
    ").reset_index(name='WeightedAvgClaim')\n",
    "\n",
    "aggregated['BinMidpoint'] = aggregated['BonusMalusBin'].apply(lambda b: (b.left + b.right) / 2)\n",
    "\n",
    "plt.figure(figsize=(10, 6))\n",
    "plt.plot(aggregated['BinMidpoint'], aggregated['WeightedAvgClaim'], marker='o', linestyle='-', linewidth=2)\n",
    "#custom xaxis for interpretability\n",
    "plt.xlim(40, 230)  \n",
    "plt.xticks(range(50, 230, 10))\n",
    "plt.xticks(fontsize=10)\n",
    "\n",
    "#generating titles\n",
    "plt.title('Weighted Average Claim Amount by BonusMalus', fontsize=14, weight='bold')\n",
    "plt.xlabel('BonusMalus (Binned)', fontsize=12)\n",
    "plt.ylabel('Weighted Average Claim', fontsize=12)\n",
    "plt.grid(visible=True, linestyle='--', alpha=0.6)\n",
    "plt.yticks(fontsize=10)\n",
    "\n",
    "# Show the plot\n",
    "plt.tight_layout()\n",
    "plt.show()\n",
    "\n",
    "#What will/could happen if we do not include a monotonicity constraint?\n",
    "#here breaks are observed and claim amount is generally linearly increasing, but there are notable breaks\n",
    "#130-140 is the first peak and as we move to groups with less and less representation the average claim becomes more volatile\n",
    "#last 7 bins dont include much more than 50 people total and last 3 bins include 4 people overall\n",
    "#except for peak at 130/140 results for well represented values as expected"
   ]
  },
  {
   "cell_type": "code",
   "execution_count": 16,
   "metadata": {},
   "outputs": [
    {
     "name": "stdout",
     "output_type": "stream",
     "text": [
      "BonusMalus\n",
      "(49.999, 60.0]    478602\n",
      "(60.0, 70.0]       56929\n",
      "(70.0, 80.0]       61826\n",
      "(80.0, 90.0]       35725\n",
      "(90.0, 100.0]      37137\n",
      "(100.0, 110.0]      1989\n",
      "(110.0, 120.0]      3565\n",
      "(120.0, 130.0]      1458\n",
      "(130.0, 140.0]       374\n",
      "(140.0, 150.0]       199\n",
      "(150.0, 160.0]       144\n",
      "(160.0, 170.0]        16\n",
      "(170.0, 180.0]        17\n",
      "(180.0, 190.0]        17\n",
      "(190.0, 200.0]        11\n",
      "(200.0, 210.0]         1\n",
      "(210.0, 220.0]         1\n",
      "(220.0, 230.0]         2\n",
      "(230.0, 240.0]         0\n",
      "(240.0, 250.0]         0\n",
      "Name: count, dtype: int64\n"
     ]
    }
   ],
   "source": [
    "#providing numbers of people in each bin\n",
    "binned_data = pd.cut(df[\"BonusMalus\"], bins=bin_edges, include_lowest=True)\n",
    "bin_counts = binned_data.value_counts().sort_index()\n",
    "print(bin_counts)"
   ]
  },
  {
   "cell_type": "code",
   "execution_count": 17,
   "metadata": {},
   "outputs": [
    {
     "name": "stdout",
     "output_type": "stream",
     "text": [
      "[LightGBM] [Info] Auto-choosing row-wise multi-threading, the overhead of testing was 0.006519 seconds.\n",
      "You can set `force_row_wise=true` to remove the overhead.\n",
      "And if memory is not enough, you can set `force_col_wise=true`.\n",
      "[LightGBM] [Info] Total Bins 409\n",
      "[LightGBM] [Info] Number of data points in the train set: 542267, number of used features: 9\n",
      "[LightGBM] [Info] Start training from score 4.925267\n",
      "training loss t_lgbm:  65.85198945351796\n",
      "testing loss t_lgbm:  73.90055621262542\n"
     ]
    }
   ],
   "source": [
    "#creating placeholder array for monotonic constraints \n",
    "num_features = X_train_t.shape[1]\n",
    "monotonic_constraints = [0] * num_features\n",
    "monotonic_constraints[7] = 1 #(9 predictors in total and listed from 0 so bonus malus index 7)\n",
    "\n",
    "numeric_cols = [\"BonusMalus\", \"Density\"]\n",
    "\n",
    "constrained_lgbm = Pipeline(\n",
    "    [\n",
    "        (\"preprocessing\", preprocessor),\n",
    "        (\n",
    "            \"estimate\",\n",
    "            GeneralizedLinearRegressor(\n",
    "                family=TweedieDist, l1_ratio=1, fit_intercept=True\n",
    "            ),\n",
    "        ),\n",
    "    ]\n",
    ")\n",
    "#renamed pipeline\n",
    "constrained_lgbm = Pipeline([(\"estimate\", LGBMRegressor(objective=\"tweedie\", monotone_constraints=monotonic_constraints))])\n",
    "constrained_lgbm.fit(X_train_t, y_train_t, estimate__sample_weight=w_train_t)\n",
    "df_test.loc[:,\"pp_t_lgbm\"] = constrained_lgbm.predict(X_test_t)\n",
    "df_train.loc[:,\"pp_t_lgbm\"] = constrained_lgbm.predict(X_train_t)\n",
    "print(\n",
    "    \"training loss t_lgbm:  {}\".format(\n",
    "        TweedieDist.deviance(y_train_t, df_train[\"pp_t_lgbm\"], sample_weight=w_train_t)\n",
    "        / np.sum(w_train_t)\n",
    "    )\n",
    ")\n",
    "\n",
    "print(\n",
    "    \"testing loss t_lgbm:  {}\".format(\n",
    "        TweedieDist.deviance(y_test_t, df_test[\"pp_t_lgbm\"], sample_weight=w_test_t)\n",
    "        / np.sum(w_test_t)\n",
    "    )\n",
    ")\n",
    "#different results than the regular lgbm, which is encouraging\n",
    "#greater loss for both expected, as we have introduced further constraints on our model"
   ]
  },
  {
   "cell_type": "code",
   "execution_count": 18,
   "metadata": {},
   "outputs": [
    {
     "name": "stdout",
     "output_type": "stream",
     "text": [
      "[LightGBM] [Info] Auto-choosing row-wise multi-threading, the overhead of testing was 0.004422 seconds.\n",
      "You can set `force_row_wise=true` to remove the overhead.\n",
      "And if memory is not enough, you can set `force_col_wise=true`.\n",
      "[LightGBM] [Info] Total Bins 404\n",
      "[LightGBM] [Info] Number of data points in the train set: 433813, number of used features: 9\n",
      "[LightGBM] [Info] Start training from score 4.897331\n",
      "[LightGBM] [Info] Auto-choosing row-wise multi-threading, the overhead of testing was 0.005254 seconds.\n",
      "You can set `force_row_wise=true` to remove the overhead.\n",
      "And if memory is not enough, you can set `force_col_wise=true`.\n",
      "[LightGBM] [Info] Total Bins 406\n",
      "[LightGBM] [Info] Number of data points in the train set: 433813, number of used features: 9\n",
      "[LightGBM] [Info] Start training from score 4.913501\n",
      "[LightGBM] [Info] Auto-choosing row-wise multi-threading, the overhead of testing was 0.005375 seconds.\n",
      "You can set `force_row_wise=true` to remove the overhead.\n",
      "And if memory is not enough, you can set `force_col_wise=true`.\n",
      "[LightGBM] [Info] Total Bins 410\n",
      "[LightGBM] [Info] Number of data points in the train set: 433814, number of used features: 9\n",
      "[LightGBM] [Info] Start training from score 4.928911\n",
      "[LightGBM] [Info] Auto-choosing row-wise multi-threading, the overhead of testing was 0.005529 seconds.\n",
      "You can set `force_row_wise=true` to remove the overhead.\n",
      "And if memory is not enough, you can set `force_col_wise=true`.\n",
      "[LightGBM] [Info] Total Bins 411\n",
      "[LightGBM] [Info] Number of data points in the train set: 433814, number of used features: 9\n",
      "[LightGBM] [Info] Start training from score 4.950963\n",
      "[LightGBM] [Info] Auto-choosing row-wise multi-threading, the overhead of testing was 0.005479 seconds.\n",
      "You can set `force_row_wise=true` to remove the overhead.\n",
      "And if memory is not enough, you can set `force_col_wise=true`.\n",
      "[LightGBM] [Info] Total Bins 412\n",
      "[LightGBM] [Info] Number of data points in the train set: 433814, number of used features: 9\n",
      "[LightGBM] [Info] Start training from score 4.932520\n",
      "[LightGBM] [Info] Auto-choosing row-wise multi-threading, the overhead of testing was 0.004880 seconds.\n",
      "You can set `force_row_wise=true` to remove the overhead.\n",
      "And if memory is not enough, you can set `force_col_wise=true`.\n",
      "[LightGBM] [Info] Total Bins 404\n",
      "[LightGBM] [Info] Number of data points in the train set: 433813, number of used features: 9\n",
      "[LightGBM] [Info] Start training from score 4.897331\n",
      "[LightGBM] [Info] Auto-choosing row-wise multi-threading, the overhead of testing was 0.004950 seconds.\n",
      "You can set `force_row_wise=true` to remove the overhead.\n",
      "And if memory is not enough, you can set `force_col_wise=true`.\n",
      "[LightGBM] [Info] Total Bins 406\n",
      "[LightGBM] [Info] Number of data points in the train set: 433813, number of used features: 9\n",
      "[LightGBM] [Info] Start training from score 4.913501\n",
      "[LightGBM] [Info] Auto-choosing row-wise multi-threading, the overhead of testing was 0.005230 seconds.\n",
      "You can set `force_row_wise=true` to remove the overhead.\n",
      "And if memory is not enough, you can set `force_col_wise=true`.\n",
      "[LightGBM] [Info] Total Bins 410\n",
      "[LightGBM] [Info] Number of data points in the train set: 433814, number of used features: 9\n",
      "[LightGBM] [Info] Start training from score 4.928911\n",
      "[LightGBM] [Info] Auto-choosing row-wise multi-threading, the overhead of testing was 0.005528 seconds.\n",
      "You can set `force_row_wise=true` to remove the overhead.\n",
      "And if memory is not enough, you can set `force_col_wise=true`.\n",
      "[LightGBM] [Info] Total Bins 411\n",
      "[LightGBM] [Info] Number of data points in the train set: 433814, number of used features: 9\n",
      "[LightGBM] [Info] Start training from score 4.950963\n",
      "[LightGBM] [Info] Auto-choosing row-wise multi-threading, the overhead of testing was 0.005654 seconds.\n",
      "You can set `force_row_wise=true` to remove the overhead.\n",
      "And if memory is not enough, you can set `force_col_wise=true`.\n",
      "[LightGBM] [Info] Total Bins 412\n",
      "[LightGBM] [Info] Number of data points in the train set: 433814, number of used features: 9\n",
      "[LightGBM] [Info] Start training from score 4.932520\n",
      "[LightGBM] [Info] Auto-choosing row-wise multi-threading, the overhead of testing was 0.006543 seconds.\n",
      "You can set `force_row_wise=true` to remove the overhead.\n",
      "And if memory is not enough, you can set `force_col_wise=true`.\n",
      "[LightGBM] [Info] Total Bins 404\n",
      "[LightGBM] [Info] Number of data points in the train set: 433813, number of used features: 9\n",
      "[LightGBM] [Info] Start training from score 4.897331\n",
      "[LightGBM] [Info] Auto-choosing row-wise multi-threading, the overhead of testing was 0.006806 seconds.\n",
      "You can set `force_row_wise=true` to remove the overhead.\n",
      "And if memory is not enough, you can set `force_col_wise=true`.\n",
      "[LightGBM] [Info] Total Bins 406\n",
      "[LightGBM] [Info] Number of data points in the train set: 433813, number of used features: 9\n",
      "[LightGBM] [Info] Start training from score 4.913501\n",
      "[LightGBM] [Info] Auto-choosing row-wise multi-threading, the overhead of testing was 0.006336 seconds.\n",
      "You can set `force_row_wise=true` to remove the overhead.\n",
      "And if memory is not enough, you can set `force_col_wise=true`.\n",
      "[LightGBM] [Info] Total Bins 410\n",
      "[LightGBM] [Info] Number of data points in the train set: 433814, number of used features: 9\n",
      "[LightGBM] [Info] Start training from score 4.928911\n",
      "[LightGBM] [Info] Auto-choosing row-wise multi-threading, the overhead of testing was 0.006373 seconds.\n",
      "You can set `force_row_wise=true` to remove the overhead.\n",
      "And if memory is not enough, you can set `force_col_wise=true`.\n",
      "[LightGBM] [Info] Total Bins 411\n",
      "[LightGBM] [Info] Number of data points in the train set: 433814, number of used features: 9\n",
      "[LightGBM] [Info] Start training from score 4.950963\n",
      "[LightGBM] [Info] Auto-choosing row-wise multi-threading, the overhead of testing was 0.005559 seconds.\n",
      "You can set `force_row_wise=true` to remove the overhead.\n",
      "And if memory is not enough, you can set `force_col_wise=true`.\n",
      "[LightGBM] [Info] Total Bins 412\n",
      "[LightGBM] [Info] Number of data points in the train set: 433814, number of used features: 9\n",
      "[LightGBM] [Info] Start training from score 4.932520\n",
      "[LightGBM] [Info] Auto-choosing row-wise multi-threading, the overhead of testing was 0.005359 seconds.\n",
      "You can set `force_row_wise=true` to remove the overhead.\n",
      "And if memory is not enough, you can set `force_col_wise=true`.\n",
      "[LightGBM] [Info] Total Bins 404\n",
      "[LightGBM] [Info] Number of data points in the train set: 433813, number of used features: 9\n",
      "[LightGBM] [Info] Start training from score 4.897331\n",
      "[LightGBM] [Info] Auto-choosing row-wise multi-threading, the overhead of testing was 0.007832 seconds.\n",
      "You can set `force_row_wise=true` to remove the overhead.\n",
      "And if memory is not enough, you can set `force_col_wise=true`.\n",
      "[LightGBM] [Info] Total Bins 406\n",
      "[LightGBM] [Info] Number of data points in the train set: 433813, number of used features: 9\n",
      "[LightGBM] [Info] Start training from score 4.913501\n",
      "[LightGBM] [Info] Auto-choosing row-wise multi-threading, the overhead of testing was 0.005065 seconds.\n",
      "You can set `force_row_wise=true` to remove the overhead.\n",
      "And if memory is not enough, you can set `force_col_wise=true`.\n",
      "[LightGBM] [Info] Total Bins 410\n",
      "[LightGBM] [Info] Number of data points in the train set: 433814, number of used features: 9\n",
      "[LightGBM] [Info] Start training from score 4.928911\n",
      "[LightGBM] [Info] Auto-choosing row-wise multi-threading, the overhead of testing was 0.004900 seconds.\n",
      "You can set `force_row_wise=true` to remove the overhead.\n",
      "And if memory is not enough, you can set `force_col_wise=true`.\n",
      "[LightGBM] [Info] Total Bins 411\n",
      "[LightGBM] [Info] Number of data points in the train set: 433814, number of used features: 9\n",
      "[LightGBM] [Info] Start training from score 4.950963\n",
      "[LightGBM] [Info] Auto-choosing row-wise multi-threading, the overhead of testing was 0.005651 seconds.\n",
      "You can set `force_row_wise=true` to remove the overhead.\n",
      "And if memory is not enough, you can set `force_col_wise=true`.\n",
      "[LightGBM] [Info] Total Bins 412\n",
      "[LightGBM] [Info] Number of data points in the train set: 433814, number of used features: 9\n",
      "[LightGBM] [Info] Start training from score 4.932520\n",
      "[LightGBM] [Info] Auto-choosing row-wise multi-threading, the overhead of testing was 0.004316 seconds.\n",
      "You can set `force_row_wise=true` to remove the overhead.\n",
      "And if memory is not enough, you can set `force_col_wise=true`.\n",
      "[LightGBM] [Info] Total Bins 404\n",
      "[LightGBM] [Info] Number of data points in the train set: 433813, number of used features: 9\n",
      "[LightGBM] [Info] Start training from score 4.897331\n",
      "[LightGBM] [Info] Auto-choosing row-wise multi-threading, the overhead of testing was 0.004393 seconds.\n",
      "You can set `force_row_wise=true` to remove the overhead.\n",
      "And if memory is not enough, you can set `force_col_wise=true`.\n",
      "[LightGBM] [Info] Total Bins 406\n",
      "[LightGBM] [Info] Number of data points in the train set: 433813, number of used features: 9\n",
      "[LightGBM] [Info] Start training from score 4.913501\n",
      "[LightGBM] [Info] Auto-choosing row-wise multi-threading, the overhead of testing was 0.005168 seconds.\n",
      "You can set `force_row_wise=true` to remove the overhead.\n",
      "And if memory is not enough, you can set `force_col_wise=true`.\n",
      "[LightGBM] [Info] Total Bins 410\n",
      "[LightGBM] [Info] Number of data points in the train set: 433814, number of used features: 9\n",
      "[LightGBM] [Info] Start training from score 4.928911\n",
      "[LightGBM] [Info] Auto-choosing row-wise multi-threading, the overhead of testing was 0.004905 seconds.\n",
      "You can set `force_row_wise=true` to remove the overhead.\n",
      "And if memory is not enough, you can set `force_col_wise=true`.\n",
      "[LightGBM] [Info] Total Bins 411\n",
      "[LightGBM] [Info] Number of data points in the train set: 433814, number of used features: 9\n",
      "[LightGBM] [Info] Start training from score 4.950963\n",
      "[LightGBM] [Info] Auto-choosing row-wise multi-threading, the overhead of testing was 0.005487 seconds.\n",
      "You can set `force_row_wise=true` to remove the overhead.\n",
      "And if memory is not enough, you can set `force_col_wise=true`.\n",
      "[LightGBM] [Info] Total Bins 412\n",
      "[LightGBM] [Info] Number of data points in the train set: 433814, number of used features: 9\n",
      "[LightGBM] [Info] Start training from score 4.932520\n",
      "[LightGBM] [Info] Auto-choosing row-wise multi-threading, the overhead of testing was 0.004332 seconds.\n",
      "You can set `force_row_wise=true` to remove the overhead.\n",
      "And if memory is not enough, you can set `force_col_wise=true`.\n",
      "[LightGBM] [Info] Total Bins 404\n",
      "[LightGBM] [Info] Number of data points in the train set: 433813, number of used features: 9\n",
      "[LightGBM] [Info] Start training from score 4.897331\n",
      "[LightGBM] [Info] Auto-choosing row-wise multi-threading, the overhead of testing was 0.004932 seconds.\n",
      "You can set `force_row_wise=true` to remove the overhead.\n",
      "And if memory is not enough, you can set `force_col_wise=true`.\n",
      "[LightGBM] [Info] Total Bins 406\n",
      "[LightGBM] [Info] Number of data points in the train set: 433813, number of used features: 9\n",
      "[LightGBM] [Info] Start training from score 4.913501\n",
      "[LightGBM] [Info] Auto-choosing row-wise multi-threading, the overhead of testing was 0.005282 seconds.\n",
      "You can set `force_row_wise=true` to remove the overhead.\n",
      "And if memory is not enough, you can set `force_col_wise=true`.\n",
      "[LightGBM] [Info] Total Bins 410\n",
      "[LightGBM] [Info] Number of data points in the train set: 433814, number of used features: 9\n",
      "[LightGBM] [Info] Start training from score 4.928911\n",
      "[LightGBM] [Info] Auto-choosing row-wise multi-threading, the overhead of testing was 0.005525 seconds.\n",
      "You can set `force_row_wise=true` to remove the overhead.\n",
      "And if memory is not enough, you can set `force_col_wise=true`.\n",
      "[LightGBM] [Info] Total Bins 411\n",
      "[LightGBM] [Info] Number of data points in the train set: 433814, number of used features: 9\n",
      "[LightGBM] [Info] Start training from score 4.950963\n",
      "[LightGBM] [Info] Auto-choosing row-wise multi-threading, the overhead of testing was 0.005790 seconds.\n",
      "You can set `force_row_wise=true` to remove the overhead.\n",
      "And if memory is not enough, you can set `force_col_wise=true`.\n",
      "[LightGBM] [Info] Total Bins 412\n",
      "[LightGBM] [Info] Number of data points in the train set: 433814, number of used features: 9\n",
      "[LightGBM] [Info] Start training from score 4.932520\n",
      "[LightGBM] [Info] Auto-choosing row-wise multi-threading, the overhead of testing was 0.004339 seconds.\n",
      "You can set `force_row_wise=true` to remove the overhead.\n",
      "And if memory is not enough, you can set `force_col_wise=true`.\n",
      "[LightGBM] [Info] Total Bins 404\n",
      "[LightGBM] [Info] Number of data points in the train set: 433813, number of used features: 9\n",
      "[LightGBM] [Info] Start training from score 4.897331\n",
      "[LightGBM] [Info] Auto-choosing row-wise multi-threading, the overhead of testing was 0.004369 seconds.\n",
      "You can set `force_row_wise=true` to remove the overhead.\n",
      "And if memory is not enough, you can set `force_col_wise=true`.\n",
      "[LightGBM] [Info] Total Bins 406\n",
      "[LightGBM] [Info] Number of data points in the train set: 433813, number of used features: 9\n",
      "[LightGBM] [Info] Start training from score 4.913501\n",
      "[LightGBM] [Info] Auto-choosing row-wise multi-threading, the overhead of testing was 0.004950 seconds.\n",
      "You can set `force_row_wise=true` to remove the overhead.\n",
      "And if memory is not enough, you can set `force_col_wise=true`.\n",
      "[LightGBM] [Info] Total Bins 410\n",
      "[LightGBM] [Info] Number of data points in the train set: 433814, number of used features: 9\n",
      "[LightGBM] [Info] Start training from score 4.928911\n",
      "[LightGBM] [Info] Auto-choosing row-wise multi-threading, the overhead of testing was 0.004981 seconds.\n",
      "You can set `force_row_wise=true` to remove the overhead.\n",
      "And if memory is not enough, you can set `force_col_wise=true`.\n",
      "[LightGBM] [Info] Total Bins 411\n",
      "[LightGBM] [Info] Number of data points in the train set: 433814, number of used features: 9\n",
      "[LightGBM] [Info] Start training from score 4.950963\n",
      "[LightGBM] [Info] Auto-choosing row-wise multi-threading, the overhead of testing was 0.004877 seconds.\n",
      "You can set `force_row_wise=true` to remove the overhead.\n",
      "And if memory is not enough, you can set `force_col_wise=true`.\n",
      "[LightGBM] [Info] Total Bins 412\n",
      "[LightGBM] [Info] Number of data points in the train set: 433814, number of used features: 9\n",
      "[LightGBM] [Info] Start training from score 4.932520\n",
      "[LightGBM] [Info] Auto-choosing row-wise multi-threading, the overhead of testing was 0.005152 seconds.\n",
      "You can set `force_row_wise=true` to remove the overhead.\n",
      "And if memory is not enough, you can set `force_col_wise=true`.\n",
      "[LightGBM] [Info] Total Bins 404\n",
      "[LightGBM] [Info] Number of data points in the train set: 433813, number of used features: 9\n",
      "[LightGBM] [Info] Start training from score 4.897331\n",
      "[LightGBM] [Info] Auto-choosing row-wise multi-threading, the overhead of testing was 0.004389 seconds.\n",
      "You can set `force_row_wise=true` to remove the overhead.\n",
      "And if memory is not enough, you can set `force_col_wise=true`.\n",
      "[LightGBM] [Info] Total Bins 406\n",
      "[LightGBM] [Info] Number of data points in the train set: 433813, number of used features: 9\n",
      "[LightGBM] [Info] Start training from score 4.913501\n",
      "[LightGBM] [Info] Auto-choosing row-wise multi-threading, the overhead of testing was 0.004944 seconds.\n",
      "You can set `force_row_wise=true` to remove the overhead.\n",
      "And if memory is not enough, you can set `force_col_wise=true`.\n",
      "[LightGBM] [Info] Total Bins 410\n",
      "[LightGBM] [Info] Number of data points in the train set: 433814, number of used features: 9\n",
      "[LightGBM] [Info] Start training from score 4.928911\n",
      "[LightGBM] [Info] Auto-choosing row-wise multi-threading, the overhead of testing was 0.004924 seconds.\n",
      "You can set `force_row_wise=true` to remove the overhead.\n",
      "And if memory is not enough, you can set `force_col_wise=true`.\n",
      "[LightGBM] [Info] Total Bins 411\n",
      "[LightGBM] [Info] Number of data points in the train set: 433814, number of used features: 9\n",
      "[LightGBM] [Info] Start training from score 4.950963\n",
      "[LightGBM] [Info] Auto-choosing row-wise multi-threading, the overhead of testing was 0.004895 seconds.\n",
      "You can set `force_row_wise=true` to remove the overhead.\n",
      "And if memory is not enough, you can set `force_col_wise=true`.\n",
      "[LightGBM] [Info] Total Bins 412\n",
      "[LightGBM] [Info] Number of data points in the train set: 433814, number of used features: 9\n",
      "[LightGBM] [Info] Start training from score 4.932520\n",
      "[LightGBM] [Info] Auto-choosing row-wise multi-threading, the overhead of testing was 0.004341 seconds.\n",
      "You can set `force_row_wise=true` to remove the overhead.\n",
      "And if memory is not enough, you can set `force_col_wise=true`.\n",
      "[LightGBM] [Info] Total Bins 404\n",
      "[LightGBM] [Info] Number of data points in the train set: 433813, number of used features: 9\n",
      "[LightGBM] [Info] Start training from score 4.897331\n",
      "[LightGBM] [Info] Auto-choosing row-wise multi-threading, the overhead of testing was 0.005194 seconds.\n",
      "You can set `force_row_wise=true` to remove the overhead.\n",
      "And if memory is not enough, you can set `force_col_wise=true`.\n",
      "[LightGBM] [Info] Total Bins 406\n",
      "[LightGBM] [Info] Number of data points in the train set: 433813, number of used features: 9\n",
      "[LightGBM] [Info] Start training from score 4.913501\n",
      "[LightGBM] [Info] Auto-choosing row-wise multi-threading, the overhead of testing was 0.005650 seconds.\n",
      "You can set `force_row_wise=true` to remove the overhead.\n",
      "And if memory is not enough, you can set `force_col_wise=true`.\n",
      "[LightGBM] [Info] Total Bins 410\n",
      "[LightGBM] [Info] Number of data points in the train set: 433814, number of used features: 9\n",
      "[LightGBM] [Info] Start training from score 4.928911\n",
      "[LightGBM] [Info] Auto-choosing row-wise multi-threading, the overhead of testing was 0.005116 seconds.\n",
      "You can set `force_row_wise=true` to remove the overhead.\n",
      "And if memory is not enough, you can set `force_col_wise=true`.\n",
      "[LightGBM] [Info] Total Bins 411\n",
      "[LightGBM] [Info] Number of data points in the train set: 433814, number of used features: 9\n",
      "[LightGBM] [Info] Start training from score 4.950963\n",
      "[LightGBM] [Info] Auto-choosing row-wise multi-threading, the overhead of testing was 0.005514 seconds.\n",
      "You can set `force_row_wise=true` to remove the overhead.\n",
      "And if memory is not enough, you can set `force_col_wise=true`.\n",
      "[LightGBM] [Info] Total Bins 412\n",
      "[LightGBM] [Info] Number of data points in the train set: 433814, number of used features: 9\n",
      "[LightGBM] [Info] Start training from score 4.932520\n",
      "[LightGBM] [Info] Auto-choosing row-wise multi-threading, the overhead of testing was 0.005167 seconds.\n",
      "You can set `force_row_wise=true` to remove the overhead.\n",
      "And if memory is not enough, you can set `force_col_wise=true`.\n",
      "[LightGBM] [Info] Total Bins 404\n",
      "[LightGBM] [Info] Number of data points in the train set: 433813, number of used features: 9\n",
      "[LightGBM] [Info] Start training from score 4.897331\n",
      "[LightGBM] [Info] Auto-choosing row-wise multi-threading, the overhead of testing was 0.004704 seconds.\n",
      "You can set `force_row_wise=true` to remove the overhead.\n",
      "And if memory is not enough, you can set `force_col_wise=true`.\n",
      "[LightGBM] [Info] Total Bins 406\n",
      "[LightGBM] [Info] Number of data points in the train set: 433813, number of used features: 9\n",
      "[LightGBM] [Info] Start training from score 4.913501\n",
      "[LightGBM] [Info] Auto-choosing row-wise multi-threading, the overhead of testing was 0.006711 seconds.\n",
      "You can set `force_row_wise=true` to remove the overhead.\n",
      "And if memory is not enough, you can set `force_col_wise=true`.\n",
      "[LightGBM] [Info] Total Bins 410\n",
      "[LightGBM] [Info] Number of data points in the train set: 433814, number of used features: 9\n",
      "[LightGBM] [Info] Start training from score 4.928911\n",
      "[LightGBM] [Info] Auto-choosing row-wise multi-threading, the overhead of testing was 0.005656 seconds.\n",
      "You can set `force_row_wise=true` to remove the overhead.\n",
      "And if memory is not enough, you can set `force_col_wise=true`.\n",
      "[LightGBM] [Info] Total Bins 411\n",
      "[LightGBM] [Info] Number of data points in the train set: 433814, number of used features: 9\n",
      "[LightGBM] [Info] Start training from score 4.950963\n",
      "[LightGBM] [Info] Auto-choosing row-wise multi-threading, the overhead of testing was 0.006483 seconds.\n",
      "You can set `force_row_wise=true` to remove the overhead.\n",
      "And if memory is not enough, you can set `force_col_wise=true`.\n",
      "[LightGBM] [Info] Total Bins 412\n",
      "[LightGBM] [Info] Number of data points in the train set: 433814, number of used features: 9\n",
      "[LightGBM] [Info] Start training from score 4.932520\n",
      "[LightGBM] [Info] Auto-choosing row-wise multi-threading, the overhead of testing was 0.004510 seconds.\n",
      "You can set `force_row_wise=true` to remove the overhead.\n",
      "And if memory is not enough, you can set `force_col_wise=true`.\n",
      "[LightGBM] [Info] Total Bins 404\n",
      "[LightGBM] [Info] Number of data points in the train set: 433813, number of used features: 9\n",
      "[LightGBM] [Info] Start training from score 4.897331\n",
      "[LightGBM] [Info] Auto-choosing row-wise multi-threading, the overhead of testing was 0.004388 seconds.\n",
      "You can set `force_row_wise=true` to remove the overhead.\n",
      "And if memory is not enough, you can set `force_col_wise=true`.\n",
      "[LightGBM] [Info] Total Bins 406\n",
      "[LightGBM] [Info] Number of data points in the train set: 433813, number of used features: 9\n",
      "[LightGBM] [Info] Start training from score 4.913501\n",
      "[LightGBM] [Info] Auto-choosing row-wise multi-threading, the overhead of testing was 0.005166 seconds.\n",
      "You can set `force_row_wise=true` to remove the overhead.\n",
      "And if memory is not enough, you can set `force_col_wise=true`.\n",
      "[LightGBM] [Info] Total Bins 410\n",
      "[LightGBM] [Info] Number of data points in the train set: 433814, number of used features: 9\n",
      "[LightGBM] [Info] Start training from score 4.928911\n",
      "[LightGBM] [Info] Auto-choosing row-wise multi-threading, the overhead of testing was 0.004922 seconds.\n",
      "You can set `force_row_wise=true` to remove the overhead.\n",
      "And if memory is not enough, you can set `force_col_wise=true`.\n",
      "[LightGBM] [Info] Total Bins 411\n",
      "[LightGBM] [Info] Number of data points in the train set: 433814, number of used features: 9\n",
      "[LightGBM] [Info] Start training from score 4.950963\n",
      "[LightGBM] [Info] Auto-choosing row-wise multi-threading, the overhead of testing was 0.005096 seconds.\n",
      "You can set `force_row_wise=true` to remove the overhead.\n",
      "And if memory is not enough, you can set `force_col_wise=true`.\n",
      "[LightGBM] [Info] Total Bins 412\n",
      "[LightGBM] [Info] Number of data points in the train set: 433814, number of used features: 9\n",
      "[LightGBM] [Info] Start training from score 4.932520\n",
      "[LightGBM] [Info] Auto-choosing row-wise multi-threading, the overhead of testing was 0.005120 seconds.\n",
      "You can set `force_row_wise=true` to remove the overhead.\n",
      "And if memory is not enough, you can set `force_col_wise=true`.\n",
      "[LightGBM] [Info] Total Bins 404\n",
      "[LightGBM] [Info] Number of data points in the train set: 433813, number of used features: 9\n",
      "[LightGBM] [Info] Start training from score 4.897331\n",
      "[LightGBM] [Info] Auto-choosing row-wise multi-threading, the overhead of testing was 0.004558 seconds.\n",
      "You can set `force_row_wise=true` to remove the overhead.\n",
      "And if memory is not enough, you can set `force_col_wise=true`.\n",
      "[LightGBM] [Info] Total Bins 406\n",
      "[LightGBM] [Info] Number of data points in the train set: 433813, number of used features: 9\n",
      "[LightGBM] [Info] Start training from score 4.913501\n",
      "[LightGBM] [Info] Auto-choosing row-wise multi-threading, the overhead of testing was 0.004985 seconds.\n",
      "You can set `force_row_wise=true` to remove the overhead.\n",
      "And if memory is not enough, you can set `force_col_wise=true`.\n",
      "[LightGBM] [Info] Total Bins 410\n",
      "[LightGBM] [Info] Number of data points in the train set: 433814, number of used features: 9\n",
      "[LightGBM] [Info] Start training from score 4.928911\n",
      "[LightGBM] [Info] Auto-choosing row-wise multi-threading, the overhead of testing was 0.005175 seconds.\n",
      "You can set `force_row_wise=true` to remove the overhead.\n",
      "And if memory is not enough, you can set `force_col_wise=true`.\n",
      "[LightGBM] [Info] Total Bins 411\n",
      "[LightGBM] [Info] Number of data points in the train set: 433814, number of used features: 9\n",
      "[LightGBM] [Info] Start training from score 4.950963\n",
      "[LightGBM] [Info] Auto-choosing row-wise multi-threading, the overhead of testing was 0.005776 seconds.\n",
      "You can set `force_row_wise=true` to remove the overhead.\n",
      "And if memory is not enough, you can set `force_col_wise=true`.\n",
      "[LightGBM] [Info] Total Bins 412\n",
      "[LightGBM] [Info] Number of data points in the train set: 433814, number of used features: 9\n",
      "[LightGBM] [Info] Start training from score 4.932520\n",
      "[LightGBM] [Info] Auto-choosing row-wise multi-threading, the overhead of testing was 0.004362 seconds.\n",
      "You can set `force_row_wise=true` to remove the overhead.\n",
      "And if memory is not enough, you can set `force_col_wise=true`.\n",
      "[LightGBM] [Info] Total Bins 404\n",
      "[LightGBM] [Info] Number of data points in the train set: 433813, number of used features: 9\n",
      "[LightGBM] [Info] Start training from score 4.897331\n",
      "[LightGBM] [Info] Auto-choosing row-wise multi-threading, the overhead of testing was 0.004910 seconds.\n",
      "You can set `force_row_wise=true` to remove the overhead.\n",
      "And if memory is not enough, you can set `force_col_wise=true`.\n",
      "[LightGBM] [Info] Total Bins 406\n",
      "[LightGBM] [Info] Number of data points in the train set: 433813, number of used features: 9\n",
      "[LightGBM] [Info] Start training from score 4.913501\n",
      "[LightGBM] [Info] Auto-choosing row-wise multi-threading, the overhead of testing was 0.005537 seconds.\n",
      "You can set `force_row_wise=true` to remove the overhead.\n",
      "And if memory is not enough, you can set `force_col_wise=true`.\n",
      "[LightGBM] [Info] Total Bins 410\n",
      "[LightGBM] [Info] Number of data points in the train set: 433814, number of used features: 9\n",
      "[LightGBM] [Info] Start training from score 4.928911\n",
      "[LightGBM] [Info] Auto-choosing row-wise multi-threading, the overhead of testing was 0.005795 seconds.\n",
      "You can set `force_row_wise=true` to remove the overhead.\n",
      "And if memory is not enough, you can set `force_col_wise=true`.\n",
      "[LightGBM] [Info] Total Bins 411\n",
      "[LightGBM] [Info] Number of data points in the train set: 433814, number of used features: 9\n",
      "[LightGBM] [Info] Start training from score 4.950963\n",
      "[LightGBM] [Info] Auto-choosing row-wise multi-threading, the overhead of testing was 0.005483 seconds.\n",
      "You can set `force_row_wise=true` to remove the overhead.\n",
      "And if memory is not enough, you can set `force_col_wise=true`.\n",
      "[LightGBM] [Info] Total Bins 412\n",
      "[LightGBM] [Info] Number of data points in the train set: 433814, number of used features: 9\n",
      "[LightGBM] [Info] Start training from score 4.932520\n",
      "[LightGBM] [Info] Auto-choosing row-wise multi-threading, the overhead of testing was 0.004353 seconds.\n",
      "You can set `force_row_wise=true` to remove the overhead.\n",
      "And if memory is not enough, you can set `force_col_wise=true`.\n",
      "[LightGBM] [Info] Total Bins 404\n",
      "[LightGBM] [Info] Number of data points in the train set: 433813, number of used features: 9\n",
      "[LightGBM] [Info] Start training from score 4.897331\n",
      "[LightGBM] [Info] Auto-choosing row-wise multi-threading, the overhead of testing was 0.004981 seconds.\n",
      "You can set `force_row_wise=true` to remove the overhead.\n",
      "And if memory is not enough, you can set `force_col_wise=true`.\n",
      "[LightGBM] [Info] Total Bins 406\n",
      "[LightGBM] [Info] Number of data points in the train set: 433813, number of used features: 9\n",
      "[LightGBM] [Info] Start training from score 4.913501\n",
      "[LightGBM] [Info] Auto-choosing row-wise multi-threading, the overhead of testing was 0.005609 seconds.\n",
      "You can set `force_row_wise=true` to remove the overhead.\n",
      "And if memory is not enough, you can set `force_col_wise=true`.\n",
      "[LightGBM] [Info] Total Bins 410\n",
      "[LightGBM] [Info] Number of data points in the train set: 433814, number of used features: 9\n",
      "[LightGBM] [Info] Start training from score 4.928911\n",
      "[LightGBM] [Info] Auto-choosing row-wise multi-threading, the overhead of testing was 0.005723 seconds.\n",
      "You can set `force_row_wise=true` to remove the overhead.\n",
      "And if memory is not enough, you can set `force_col_wise=true`.\n",
      "[LightGBM] [Info] Total Bins 411\n",
      "[LightGBM] [Info] Number of data points in the train set: 433814, number of used features: 9\n",
      "[LightGBM] [Info] Start training from score 4.950963\n",
      "[LightGBM] [Info] Auto-choosing row-wise multi-threading, the overhead of testing was 0.005476 seconds.\n",
      "You can set `force_row_wise=true` to remove the overhead.\n",
      "And if memory is not enough, you can set `force_col_wise=true`.\n",
      "[LightGBM] [Info] Total Bins 412\n",
      "[LightGBM] [Info] Number of data points in the train set: 433814, number of used features: 9\n",
      "[LightGBM] [Info] Start training from score 4.932520\n",
      "[LightGBM] [Info] Auto-choosing row-wise multi-threading, the overhead of testing was 0.004878 seconds.\n",
      "You can set `force_row_wise=true` to remove the overhead.\n",
      "And if memory is not enough, you can set `force_col_wise=true`.\n",
      "[LightGBM] [Info] Total Bins 404\n",
      "[LightGBM] [Info] Number of data points in the train set: 433813, number of used features: 9\n",
      "[LightGBM] [Info] Start training from score 4.897331\n",
      "[LightGBM] [Info] Auto-choosing row-wise multi-threading, the overhead of testing was 0.004928 seconds.\n",
      "You can set `force_row_wise=true` to remove the overhead.\n",
      "And if memory is not enough, you can set `force_col_wise=true`.\n",
      "[LightGBM] [Info] Total Bins 406\n",
      "[LightGBM] [Info] Number of data points in the train set: 433813, number of used features: 9\n",
      "[LightGBM] [Info] Start training from score 4.913501\n",
      "[LightGBM] [Info] Auto-choosing row-wise multi-threading, the overhead of testing was 0.005549 seconds.\n",
      "You can set `force_row_wise=true` to remove the overhead.\n",
      "And if memory is not enough, you can set `force_col_wise=true`.\n",
      "[LightGBM] [Info] Total Bins 410\n",
      "[LightGBM] [Info] Number of data points in the train set: 433814, number of used features: 9\n",
      "[LightGBM] [Info] Start training from score 4.928911\n",
      "[LightGBM] [Info] Auto-choosing row-wise multi-threading, the overhead of testing was 0.005142 seconds.\n",
      "You can set `force_row_wise=true` to remove the overhead.\n",
      "And if memory is not enough, you can set `force_col_wise=true`.\n",
      "[LightGBM] [Info] Total Bins 411\n",
      "[LightGBM] [Info] Number of data points in the train set: 433814, number of used features: 9\n",
      "[LightGBM] [Info] Start training from score 4.950963\n",
      "[LightGBM] [Info] Auto-choosing row-wise multi-threading, the overhead of testing was 0.005468 seconds.\n",
      "You can set `force_row_wise=true` to remove the overhead.\n",
      "And if memory is not enough, you can set `force_col_wise=true`.\n",
      "[LightGBM] [Info] Total Bins 412\n",
      "[LightGBM] [Info] Number of data points in the train set: 433814, number of used features: 9\n",
      "[LightGBM] [Info] Start training from score 4.932520\n",
      "[LightGBM] [Info] Auto-choosing row-wise multi-threading, the overhead of testing was 0.004678 seconds.\n",
      "You can set `force_row_wise=true` to remove the overhead.\n",
      "And if memory is not enough, you can set `force_col_wise=true`.\n",
      "[LightGBM] [Info] Total Bins 404\n",
      "[LightGBM] [Info] Number of data points in the train set: 433813, number of used features: 9\n",
      "[LightGBM] [Info] Start training from score 4.897331\n",
      "[LightGBM] [Info] Auto-choosing row-wise multi-threading, the overhead of testing was 0.004386 seconds.\n",
      "You can set `force_row_wise=true` to remove the overhead.\n",
      "And if memory is not enough, you can set `force_col_wise=true`.\n",
      "[LightGBM] [Info] Total Bins 406\n",
      "[LightGBM] [Info] Number of data points in the train set: 433813, number of used features: 9\n",
      "[LightGBM] [Info] Start training from score 4.913501\n",
      "[LightGBM] [Info] Auto-choosing row-wise multi-threading, the overhead of testing was 0.004971 seconds.\n",
      "You can set `force_row_wise=true` to remove the overhead.\n",
      "And if memory is not enough, you can set `force_col_wise=true`.\n",
      "[LightGBM] [Info] Total Bins 410\n",
      "[LightGBM] [Info] Number of data points in the train set: 433814, number of used features: 9\n",
      "[LightGBM] [Info] Start training from score 4.928911\n",
      "[LightGBM] [Info] Auto-choosing row-wise multi-threading, the overhead of testing was 0.005361 seconds.\n",
      "You can set `force_row_wise=true` to remove the overhead.\n",
      "And if memory is not enough, you can set `force_col_wise=true`.\n",
      "[LightGBM] [Info] Total Bins 411\n",
      "[LightGBM] [Info] Number of data points in the train set: 433814, number of used features: 9\n",
      "[LightGBM] [Info] Start training from score 4.950963\n",
      "[LightGBM] [Info] Auto-choosing row-wise multi-threading, the overhead of testing was 0.004885 seconds.\n",
      "You can set `force_row_wise=true` to remove the overhead.\n",
      "And if memory is not enough, you can set `force_col_wise=true`.\n",
      "[LightGBM] [Info] Total Bins 412\n",
      "[LightGBM] [Info] Number of data points in the train set: 433814, number of used features: 9\n",
      "[LightGBM] [Info] Start training from score 4.932520\n",
      "[LightGBM] [Info] Auto-choosing row-wise multi-threading, the overhead of testing was 0.004494 seconds.\n",
      "You can set `force_row_wise=true` to remove the overhead.\n",
      "And if memory is not enough, you can set `force_col_wise=true`.\n",
      "[LightGBM] [Info] Total Bins 404\n",
      "[LightGBM] [Info] Number of data points in the train set: 433813, number of used features: 9\n",
      "[LightGBM] [Info] Start training from score 4.897331\n",
      "[LightGBM] [Info] Auto-choosing row-wise multi-threading, the overhead of testing was 0.004904 seconds.\n",
      "You can set `force_row_wise=true` to remove the overhead.\n",
      "And if memory is not enough, you can set `force_col_wise=true`.\n",
      "[LightGBM] [Info] Total Bins 406\n",
      "[LightGBM] [Info] Number of data points in the train set: 433813, number of used features: 9\n",
      "[LightGBM] [Info] Start training from score 4.913501\n",
      "[LightGBM] [Info] Auto-choosing row-wise multi-threading, the overhead of testing was 0.005555 seconds.\n",
      "You can set `force_row_wise=true` to remove the overhead.\n",
      "And if memory is not enough, you can set `force_col_wise=true`.\n",
      "[LightGBM] [Info] Total Bins 410\n",
      "[LightGBM] [Info] Number of data points in the train set: 433814, number of used features: 9\n",
      "[LightGBM] [Info] Start training from score 4.928911\n",
      "[LightGBM] [Info] Auto-choosing row-wise multi-threading, the overhead of testing was 0.005513 seconds.\n",
      "You can set `force_row_wise=true` to remove the overhead.\n",
      "And if memory is not enough, you can set `force_col_wise=true`.\n",
      "[LightGBM] [Info] Total Bins 411\n",
      "[LightGBM] [Info] Number of data points in the train set: 433814, number of used features: 9\n",
      "[LightGBM] [Info] Start training from score 4.950963\n",
      "[LightGBM] [Info] Auto-choosing row-wise multi-threading, the overhead of testing was 0.005491 seconds.\n",
      "You can set `force_row_wise=true` to remove the overhead.\n",
      "And if memory is not enough, you can set `force_col_wise=true`.\n",
      "[LightGBM] [Info] Total Bins 412\n",
      "[LightGBM] [Info] Number of data points in the train set: 433814, number of used features: 9\n",
      "[LightGBM] [Info] Start training from score 4.932520\n",
      "[LightGBM] [Info] Auto-choosing row-wise multi-threading, the overhead of testing was 0.005117 seconds.\n",
      "You can set `force_row_wise=true` to remove the overhead.\n",
      "And if memory is not enough, you can set `force_col_wise=true`.\n",
      "[LightGBM] [Info] Total Bins 404\n",
      "[LightGBM] [Info] Number of data points in the train set: 433813, number of used features: 9\n",
      "[LightGBM] [Info] Start training from score 4.897331\n",
      "[LightGBM] [Info] Auto-choosing row-wise multi-threading, the overhead of testing was 0.004921 seconds.\n",
      "You can set `force_row_wise=true` to remove the overhead.\n",
      "And if memory is not enough, you can set `force_col_wise=true`.\n",
      "[LightGBM] [Info] Total Bins 406\n",
      "[LightGBM] [Info] Number of data points in the train set: 433813, number of used features: 9\n",
      "[LightGBM] [Info] Start training from score 4.913501\n",
      "[LightGBM] [Info] Auto-choosing row-wise multi-threading, the overhead of testing was 0.005596 seconds.\n",
      "You can set `force_row_wise=true` to remove the overhead.\n",
      "And if memory is not enough, you can set `force_col_wise=true`.\n",
      "[LightGBM] [Info] Total Bins 410\n",
      "[LightGBM] [Info] Number of data points in the train set: 433814, number of used features: 9\n",
      "[LightGBM] [Info] Start training from score 4.928911\n",
      "[LightGBM] [Info] Auto-choosing row-wise multi-threading, the overhead of testing was 0.011414 seconds.\n",
      "You can set `force_row_wise=true` to remove the overhead.\n",
      "And if memory is not enough, you can set `force_col_wise=true`.\n",
      "[LightGBM] [Info] Total Bins 411\n",
      "[LightGBM] [Info] Number of data points in the train set: 433814, number of used features: 9\n",
      "[LightGBM] [Info] Start training from score 4.950963\n",
      "[LightGBM] [Info] Auto-choosing row-wise multi-threading, the overhead of testing was 0.005607 seconds.\n",
      "You can set `force_row_wise=true` to remove the overhead.\n",
      "And if memory is not enough, you can set `force_col_wise=true`.\n",
      "[LightGBM] [Info] Total Bins 412\n",
      "[LightGBM] [Info] Number of data points in the train set: 433814, number of used features: 9\n",
      "[LightGBM] [Info] Start training from score 4.932520\n",
      "[LightGBM] [Info] Auto-choosing row-wise multi-threading, the overhead of testing was 0.004883 seconds.\n",
      "You can set `force_row_wise=true` to remove the overhead.\n",
      "And if memory is not enough, you can set `force_col_wise=true`.\n",
      "[LightGBM] [Info] Total Bins 404\n",
      "[LightGBM] [Info] Number of data points in the train set: 433813, number of used features: 9\n",
      "[LightGBM] [Info] Start training from score 4.897331\n",
      "[LightGBM] [Info] Auto-choosing row-wise multi-threading, the overhead of testing was 0.004892 seconds.\n",
      "You can set `force_row_wise=true` to remove the overhead.\n",
      "And if memory is not enough, you can set `force_col_wise=true`.\n",
      "[LightGBM] [Info] Total Bins 406\n",
      "[LightGBM] [Info] Number of data points in the train set: 433813, number of used features: 9\n",
      "[LightGBM] [Info] Start training from score 4.913501\n",
      "[LightGBM] [Info] Auto-choosing row-wise multi-threading, the overhead of testing was 0.006365 seconds.\n",
      "You can set `force_row_wise=true` to remove the overhead.\n",
      "And if memory is not enough, you can set `force_col_wise=true`.\n",
      "[LightGBM] [Info] Total Bins 410\n",
      "[LightGBM] [Info] Number of data points in the train set: 433814, number of used features: 9\n",
      "[LightGBM] [Info] Start training from score 4.928911\n",
      "[LightGBM] [Info] Auto-choosing row-wise multi-threading, the overhead of testing was 0.005534 seconds.\n",
      "You can set `force_row_wise=true` to remove the overhead.\n",
      "And if memory is not enough, you can set `force_col_wise=true`.\n",
      "[LightGBM] [Info] Total Bins 411\n",
      "[LightGBM] [Info] Number of data points in the train set: 433814, number of used features: 9\n",
      "[LightGBM] [Info] Start training from score 4.950963\n",
      "[LightGBM] [Info] Auto-choosing row-wise multi-threading, the overhead of testing was 0.004897 seconds.\n",
      "You can set `force_row_wise=true` to remove the overhead.\n",
      "And if memory is not enough, you can set `force_col_wise=true`.\n",
      "[LightGBM] [Info] Total Bins 412\n",
      "[LightGBM] [Info] Number of data points in the train set: 433814, number of used features: 9\n",
      "[LightGBM] [Info] Start training from score 4.932520\n",
      "[LightGBM] [Info] Auto-choosing row-wise multi-threading, the overhead of testing was 0.005077 seconds.\n",
      "You can set `force_row_wise=true` to remove the overhead.\n",
      "And if memory is not enough, you can set `force_col_wise=true`.\n",
      "[LightGBM] [Info] Total Bins 404\n",
      "[LightGBM] [Info] Number of data points in the train set: 433813, number of used features: 9\n",
      "[LightGBM] [Info] Start training from score 4.897331\n",
      "[LightGBM] [Info] Auto-choosing row-wise multi-threading, the overhead of testing was 0.004390 seconds.\n",
      "You can set `force_row_wise=true` to remove the overhead.\n",
      "And if memory is not enough, you can set `force_col_wise=true`.\n",
      "[LightGBM] [Info] Total Bins 406\n",
      "[LightGBM] [Info] Number of data points in the train set: 433813, number of used features: 9\n",
      "[LightGBM] [Info] Start training from score 4.913501\n",
      "[LightGBM] [Info] Auto-choosing row-wise multi-threading, the overhead of testing was 0.005574 seconds.\n",
      "You can set `force_row_wise=true` to remove the overhead.\n",
      "And if memory is not enough, you can set `force_col_wise=true`.\n",
      "[LightGBM] [Info] Total Bins 410\n",
      "[LightGBM] [Info] Number of data points in the train set: 433814, number of used features: 9\n",
      "[LightGBM] [Info] Start training from score 4.928911\n",
      "[LightGBM] [Info] Auto-choosing row-wise multi-threading, the overhead of testing was 0.004941 seconds.\n",
      "You can set `force_row_wise=true` to remove the overhead.\n",
      "And if memory is not enough, you can set `force_col_wise=true`.\n",
      "[LightGBM] [Info] Total Bins 411\n",
      "[LightGBM] [Info] Number of data points in the train set: 433814, number of used features: 9\n",
      "[LightGBM] [Info] Start training from score 4.950963\n",
      "[LightGBM] [Info] Auto-choosing row-wise multi-threading, the overhead of testing was 0.004896 seconds.\n",
      "You can set `force_row_wise=true` to remove the overhead.\n",
      "And if memory is not enough, you can set `force_col_wise=true`.\n",
      "[LightGBM] [Info] Total Bins 412\n",
      "[LightGBM] [Info] Number of data points in the train set: 433814, number of used features: 9\n",
      "[LightGBM] [Info] Start training from score 4.932520\n",
      "[LightGBM] [Info] Auto-choosing row-wise multi-threading, the overhead of testing was 0.004369 seconds.\n",
      "You can set `force_row_wise=true` to remove the overhead.\n",
      "And if memory is not enough, you can set `force_col_wise=true`.\n",
      "[LightGBM] [Info] Total Bins 404\n",
      "[LightGBM] [Info] Number of data points in the train set: 433813, number of used features: 9\n",
      "[LightGBM] [Info] Start training from score 4.897331\n",
      "[LightGBM] [Info] Auto-choosing row-wise multi-threading, the overhead of testing was 0.004916 seconds.\n",
      "You can set `force_row_wise=true` to remove the overhead.\n",
      "And if memory is not enough, you can set `force_col_wise=true`.\n",
      "[LightGBM] [Info] Total Bins 406\n",
      "[LightGBM] [Info] Number of data points in the train set: 433813, number of used features: 9\n",
      "[LightGBM] [Info] Start training from score 4.913501\n",
      "[LightGBM] [Info] Auto-choosing row-wise multi-threading, the overhead of testing was 0.005591 seconds.\n",
      "You can set `force_row_wise=true` to remove the overhead.\n",
      "And if memory is not enough, you can set `force_col_wise=true`.\n",
      "[LightGBM] [Info] Total Bins 410\n",
      "[LightGBM] [Info] Number of data points in the train set: 433814, number of used features: 9\n",
      "[LightGBM] [Info] Start training from score 4.928911\n",
      "[LightGBM] [Info] Auto-choosing row-wise multi-threading, the overhead of testing was 0.005539 seconds.\n",
      "You can set `force_row_wise=true` to remove the overhead.\n",
      "And if memory is not enough, you can set `force_col_wise=true`.\n",
      "[LightGBM] [Info] Total Bins 411\n",
      "[LightGBM] [Info] Number of data points in the train set: 433814, number of used features: 9\n",
      "[LightGBM] [Info] Start training from score 4.950963\n",
      "[LightGBM] [Info] Auto-choosing row-wise multi-threading, the overhead of testing was 0.005714 seconds.\n",
      "You can set `force_row_wise=true` to remove the overhead.\n",
      "And if memory is not enough, you can set `force_col_wise=true`.\n",
      "[LightGBM] [Info] Total Bins 412\n",
      "[LightGBM] [Info] Number of data points in the train set: 433814, number of used features: 9\n",
      "[LightGBM] [Info] Start training from score 4.932520\n",
      "[LightGBM] [Info] Auto-choosing row-wise multi-threading, the overhead of testing was 0.005118 seconds.\n",
      "You can set `force_row_wise=true` to remove the overhead.\n",
      "And if memory is not enough, you can set `force_col_wise=true`.\n",
      "[LightGBM] [Info] Total Bins 404\n",
      "[LightGBM] [Info] Number of data points in the train set: 433813, number of used features: 9\n",
      "[LightGBM] [Info] Start training from score 4.897331\n",
      "[LightGBM] [Info] Auto-choosing row-wise multi-threading, the overhead of testing was 0.004958 seconds.\n",
      "You can set `force_row_wise=true` to remove the overhead.\n",
      "And if memory is not enough, you can set `force_col_wise=true`.\n",
      "[LightGBM] [Info] Total Bins 406\n",
      "[LightGBM] [Info] Number of data points in the train set: 433813, number of used features: 9\n",
      "[LightGBM] [Info] Start training from score 4.913501\n",
      "[LightGBM] [Info] Auto-choosing row-wise multi-threading, the overhead of testing was 0.006522 seconds.\n",
      "You can set `force_row_wise=true` to remove the overhead.\n",
      "And if memory is not enough, you can set `force_col_wise=true`.\n",
      "[LightGBM] [Info] Total Bins 410\n",
      "[LightGBM] [Info] Number of data points in the train set: 433814, number of used features: 9\n",
      "[LightGBM] [Info] Start training from score 4.928911\n",
      "[LightGBM] [Info] Auto-choosing row-wise multi-threading, the overhead of testing was 0.006193 seconds.\n",
      "You can set `force_row_wise=true` to remove the overhead.\n",
      "And if memory is not enough, you can set `force_col_wise=true`.\n",
      "[LightGBM] [Info] Total Bins 411\n",
      "[LightGBM] [Info] Number of data points in the train set: 433814, number of used features: 9\n",
      "[LightGBM] [Info] Start training from score 4.950963\n",
      "[LightGBM] [Info] Auto-choosing row-wise multi-threading, the overhead of testing was 0.005504 seconds.\n",
      "You can set `force_row_wise=true` to remove the overhead.\n",
      "And if memory is not enough, you can set `force_col_wise=true`.\n",
      "[LightGBM] [Info] Total Bins 412\n",
      "[LightGBM] [Info] Number of data points in the train set: 433814, number of used features: 9\n",
      "[LightGBM] [Info] Start training from score 4.932520\n",
      "[LightGBM] [Info] Auto-choosing row-wise multi-threading, the overhead of testing was 0.004885 seconds.\n",
      "You can set `force_row_wise=true` to remove the overhead.\n",
      "And if memory is not enough, you can set `force_col_wise=true`.\n",
      "[LightGBM] [Info] Total Bins 404\n",
      "[LightGBM] [Info] Number of data points in the train set: 433813, number of used features: 9\n",
      "[LightGBM] [Info] Start training from score 4.897331\n",
      "[LightGBM] [Info] Auto-choosing row-wise multi-threading, the overhead of testing was 0.004420 seconds.\n",
      "You can set `force_row_wise=true` to remove the overhead.\n",
      "And if memory is not enough, you can set `force_col_wise=true`.\n",
      "[LightGBM] [Info] Total Bins 406\n",
      "[LightGBM] [Info] Number of data points in the train set: 433813, number of used features: 9\n",
      "[LightGBM] [Info] Start training from score 4.913501\n",
      "[LightGBM] [Info] Auto-choosing row-wise multi-threading, the overhead of testing was 0.005564 seconds.\n",
      "You can set `force_row_wise=true` to remove the overhead.\n",
      "And if memory is not enough, you can set `force_col_wise=true`.\n",
      "[LightGBM] [Info] Total Bins 410\n",
      "[LightGBM] [Info] Number of data points in the train set: 433814, number of used features: 9\n",
      "[LightGBM] [Info] Start training from score 4.928911\n",
      "[LightGBM] [Info] Auto-choosing row-wise multi-threading, the overhead of testing was 0.005511 seconds.\n",
      "You can set `force_row_wise=true` to remove the overhead.\n",
      "And if memory is not enough, you can set `force_col_wise=true`.\n",
      "[LightGBM] [Info] Total Bins 411\n",
      "[LightGBM] [Info] Number of data points in the train set: 433814, number of used features: 9\n",
      "[LightGBM] [Info] Start training from score 4.950963\n",
      "[LightGBM] [Info] Auto-choosing row-wise multi-threading, the overhead of testing was 0.005467 seconds.\n",
      "You can set `force_row_wise=true` to remove the overhead.\n",
      "And if memory is not enough, you can set `force_col_wise=true`.\n",
      "[LightGBM] [Info] Total Bins 412\n",
      "[LightGBM] [Info] Number of data points in the train set: 433814, number of used features: 9\n",
      "[LightGBM] [Info] Start training from score 4.932520\n",
      "[LightGBM] [Info] Auto-choosing row-wise multi-threading, the overhead of testing was 0.004924 seconds.\n",
      "You can set `force_row_wise=true` to remove the overhead.\n",
      "And if memory is not enough, you can set `force_col_wise=true`.\n",
      "[LightGBM] [Info] Total Bins 404\n",
      "[LightGBM] [Info] Number of data points in the train set: 433813, number of used features: 9\n",
      "[LightGBM] [Info] Start training from score 4.897331\n",
      "[LightGBM] [Info] Auto-choosing row-wise multi-threading, the overhead of testing was 0.004922 seconds.\n",
      "You can set `force_row_wise=true` to remove the overhead.\n",
      "And if memory is not enough, you can set `force_col_wise=true`.\n",
      "[LightGBM] [Info] Total Bins 406\n",
      "[LightGBM] [Info] Number of data points in the train set: 433813, number of used features: 9\n",
      "[LightGBM] [Info] Start training from score 4.913501\n",
      "[LightGBM] [Info] Auto-choosing row-wise multi-threading, the overhead of testing was 0.011337 seconds.\n",
      "You can set `force_row_wise=true` to remove the overhead.\n",
      "And if memory is not enough, you can set `force_col_wise=true`.\n",
      "[LightGBM] [Info] Total Bins 410\n",
      "[LightGBM] [Info] Number of data points in the train set: 433814, number of used features: 9\n",
      "[LightGBM] [Info] Start training from score 4.928911\n",
      "[LightGBM] [Info] Auto-choosing row-wise multi-threading, the overhead of testing was 0.004893 seconds.\n",
      "You can set `force_row_wise=true` to remove the overhead.\n",
      "And if memory is not enough, you can set `force_col_wise=true`.\n",
      "[LightGBM] [Info] Total Bins 411\n",
      "[LightGBM] [Info] Number of data points in the train set: 433814, number of used features: 9\n",
      "[LightGBM] [Info] Start training from score 4.950963\n",
      "[LightGBM] [Info] Auto-choosing row-wise multi-threading, the overhead of testing was 0.005041 seconds.\n",
      "You can set `force_row_wise=true` to remove the overhead.\n",
      "And if memory is not enough, you can set `force_col_wise=true`.\n",
      "[LightGBM] [Info] Total Bins 412\n",
      "[LightGBM] [Info] Number of data points in the train set: 433814, number of used features: 9\n",
      "[LightGBM] [Info] Start training from score 4.932520\n",
      "[LightGBM] [Info] Auto-choosing row-wise multi-threading, the overhead of testing was 0.005822 seconds.\n",
      "You can set `force_row_wise=true` to remove the overhead.\n",
      "And if memory is not enough, you can set `force_col_wise=true`.\n",
      "[LightGBM] [Info] Total Bins 409\n",
      "[LightGBM] [Info] Number of data points in the train set: 542267, number of used features: 9\n",
      "[LightGBM] [Info] Start training from score 4.925267\n",
      "training loss t_lgbm:  67.88796769372176\n",
      "testing loss t_lgbm:  73.351252626438\n",
      "Total claim amount on test set, observed = 9824331.800000003, predicted = 8821735.512133837\n"
     ]
    }
   ],
   "source": [
    "\n",
    "\n",
    "#tuning our constrained lgbm given different learning rates, different number of estimators and \n",
    "cv_c_lgbm = GridSearchCV(\n",
    "    constrained_lgbm,\n",
    "    {\n",
    "        \"estimate__learning_rate\": [0.01, 0.02, 0.03, 0.04, 0.05, 0.1],\n",
    "        \"estimate__n_estimators\": [50, 100, 150, 200],\n",
    "    }\n",
    ")\n",
    "cv_c_lgbm.fit(X_train_t, y_train_t, estimate__sample_weight=w_train_t)\n",
    "\n",
    "df_test.loc[:,\"pp_t_lgbm_constrained\"] = cv_c_lgbm.best_estimator_.predict(X_test_t)\n",
    "df_train.loc[:,\"pp_t_lgbm_constrained\"] = cv_c_lgbm.best_estimator_.predict(X_train_t)\n",
    "\n",
    "print(\n",
    "    \"training loss t_lgbm:  {}\".format(\n",
    "        TweedieDist.deviance(y_train_t, df_train[\"pp_t_lgbm_constrained\"], sample_weight=w_train_t)\n",
    "        / np.sum(w_train_t)\n",
    "    )\n",
    ")\n",
    "\n",
    "print(\n",
    "    \"testing loss t_lgbm:  {}\".format(\n",
    "        TweedieDist.deviance(y_test_t, df_test[\"pp_t_lgbm_constrained\"], sample_weight=w_test_t)\n",
    "        / np.sum(w_test_t)\n",
    "    )\n",
    ")\n",
    "\n",
    "print(\n",
    "    \"Total claim amount on test set, observed = {}, predicted = {}\".format(\n",
    "        df[\"ClaimAmountCut\"].values[test].sum(),\n",
    "        np.sum(df[\"Exposure\"].values[test] * df_test[\"pp_t_lgbm_constrained\"]),\n",
    "    )\n",
    ")\n",
    "#higher training loss but a lower testing loss, seems like an improvement"
   ]
  },
  {
   "cell_type": "code",
   "execution_count": 19,
   "metadata": {},
   "outputs": [],
   "source": [
    "# Saving best constrained lgbm model\n",
    "\n",
    "best_constrained_lgbm = cv_c_lgbm.best_estimator_"
   ]
  },
  {
   "cell_type": "code",
   "execution_count": null,
   "metadata": {},
   "outputs": [],
   "source": []
  },
  {
   "cell_type": "code",
   "execution_count": 20,
   "metadata": {},
   "outputs": [
    {
     "name": "stdout",
     "output_type": "stream",
     "text": [
      "[LightGBM] [Info] Auto-choosing row-wise multi-threading, the overhead of testing was 0.005770 seconds.\n",
      "You can set `force_row_wise=true` to remove the overhead.\n",
      "And if memory is not enough, you can set `force_col_wise=true`.\n",
      "[LightGBM] [Info] Total Bins 409\n",
      "[LightGBM] [Info] Number of data points in the train set: 542267, number of used features: 9\n",
      "[LightGBM] [Info] Start training from score 4.925267\n"
     ]
    },
    {
     "data": {
      "text/html": [
       "<style>#sk-container-id-2 {\n",
       "  /* Definition of color scheme common for light and dark mode */\n",
       "  --sklearn-color-text: black;\n",
       "  --sklearn-color-line: gray;\n",
       "  /* Definition of color scheme for unfitted estimators */\n",
       "  --sklearn-color-unfitted-level-0: #fff5e6;\n",
       "  --sklearn-color-unfitted-level-1: #f6e4d2;\n",
       "  --sklearn-color-unfitted-level-2: #ffe0b3;\n",
       "  --sklearn-color-unfitted-level-3: chocolate;\n",
       "  /* Definition of color scheme for fitted estimators */\n",
       "  --sklearn-color-fitted-level-0: #f0f8ff;\n",
       "  --sklearn-color-fitted-level-1: #d4ebff;\n",
       "  --sklearn-color-fitted-level-2: #b3dbfd;\n",
       "  --sklearn-color-fitted-level-3: cornflowerblue;\n",
       "\n",
       "  /* Specific color for light theme */\n",
       "  --sklearn-color-text-on-default-background: var(--sg-text-color, var(--theme-code-foreground, var(--jp-content-font-color1, black)));\n",
       "  --sklearn-color-background: var(--sg-background-color, var(--theme-background, var(--jp-layout-color0, white)));\n",
       "  --sklearn-color-border-box: var(--sg-text-color, var(--theme-code-foreground, var(--jp-content-font-color1, black)));\n",
       "  --sklearn-color-icon: #696969;\n",
       "\n",
       "  @media (prefers-color-scheme: dark) {\n",
       "    /* Redefinition of color scheme for dark theme */\n",
       "    --sklearn-color-text-on-default-background: var(--sg-text-color, var(--theme-code-foreground, var(--jp-content-font-color1, white)));\n",
       "    --sklearn-color-background: var(--sg-background-color, var(--theme-background, var(--jp-layout-color0, #111)));\n",
       "    --sklearn-color-border-box: var(--sg-text-color, var(--theme-code-foreground, var(--jp-content-font-color1, white)));\n",
       "    --sklearn-color-icon: #878787;\n",
       "  }\n",
       "}\n",
       "\n",
       "#sk-container-id-2 {\n",
       "  color: var(--sklearn-color-text);\n",
       "}\n",
       "\n",
       "#sk-container-id-2 pre {\n",
       "  padding: 0;\n",
       "}\n",
       "\n",
       "#sk-container-id-2 input.sk-hidden--visually {\n",
       "  border: 0;\n",
       "  clip: rect(1px 1px 1px 1px);\n",
       "  clip: rect(1px, 1px, 1px, 1px);\n",
       "  height: 1px;\n",
       "  margin: -1px;\n",
       "  overflow: hidden;\n",
       "  padding: 0;\n",
       "  position: absolute;\n",
       "  width: 1px;\n",
       "}\n",
       "\n",
       "#sk-container-id-2 div.sk-dashed-wrapped {\n",
       "  border: 1px dashed var(--sklearn-color-line);\n",
       "  margin: 0 0.4em 0.5em 0.4em;\n",
       "  box-sizing: border-box;\n",
       "  padding-bottom: 0.4em;\n",
       "  background-color: var(--sklearn-color-background);\n",
       "}\n",
       "\n",
       "#sk-container-id-2 div.sk-container {\n",
       "  /* jupyter's `normalize.less` sets `[hidden] { display: none; }`\n",
       "     but bootstrap.min.css set `[hidden] { display: none !important; }`\n",
       "     so we also need the `!important` here to be able to override the\n",
       "     default hidden behavior on the sphinx rendered scikit-learn.org.\n",
       "     See: https://github.com/scikit-learn/scikit-learn/issues/21755 */\n",
       "  display: inline-block !important;\n",
       "  position: relative;\n",
       "}\n",
       "\n",
       "#sk-container-id-2 div.sk-text-repr-fallback {\n",
       "  display: none;\n",
       "}\n",
       "\n",
       "div.sk-parallel-item,\n",
       "div.sk-serial,\n",
       "div.sk-item {\n",
       "  /* draw centered vertical line to link estimators */\n",
       "  background-image: linear-gradient(var(--sklearn-color-text-on-default-background), var(--sklearn-color-text-on-default-background));\n",
       "  background-size: 2px 100%;\n",
       "  background-repeat: no-repeat;\n",
       "  background-position: center center;\n",
       "}\n",
       "\n",
       "/* Parallel-specific style estimator block */\n",
       "\n",
       "#sk-container-id-2 div.sk-parallel-item::after {\n",
       "  content: \"\";\n",
       "  width: 100%;\n",
       "  border-bottom: 2px solid var(--sklearn-color-text-on-default-background);\n",
       "  flex-grow: 1;\n",
       "}\n",
       "\n",
       "#sk-container-id-2 div.sk-parallel {\n",
       "  display: flex;\n",
       "  align-items: stretch;\n",
       "  justify-content: center;\n",
       "  background-color: var(--sklearn-color-background);\n",
       "  position: relative;\n",
       "}\n",
       "\n",
       "#sk-container-id-2 div.sk-parallel-item {\n",
       "  display: flex;\n",
       "  flex-direction: column;\n",
       "}\n",
       "\n",
       "#sk-container-id-2 div.sk-parallel-item:first-child::after {\n",
       "  align-self: flex-end;\n",
       "  width: 50%;\n",
       "}\n",
       "\n",
       "#sk-container-id-2 div.sk-parallel-item:last-child::after {\n",
       "  align-self: flex-start;\n",
       "  width: 50%;\n",
       "}\n",
       "\n",
       "#sk-container-id-2 div.sk-parallel-item:only-child::after {\n",
       "  width: 0;\n",
       "}\n",
       "\n",
       "/* Serial-specific style estimator block */\n",
       "\n",
       "#sk-container-id-2 div.sk-serial {\n",
       "  display: flex;\n",
       "  flex-direction: column;\n",
       "  align-items: center;\n",
       "  background-color: var(--sklearn-color-background);\n",
       "  padding-right: 1em;\n",
       "  padding-left: 1em;\n",
       "}\n",
       "\n",
       "\n",
       "/* Toggleable style: style used for estimator/Pipeline/ColumnTransformer box that is\n",
       "clickable and can be expanded/collapsed.\n",
       "- Pipeline and ColumnTransformer use this feature and define the default style\n",
       "- Estimators will overwrite some part of the style using the `sk-estimator` class\n",
       "*/\n",
       "\n",
       "/* Pipeline and ColumnTransformer style (default) */\n",
       "\n",
       "#sk-container-id-2 div.sk-toggleable {\n",
       "  /* Default theme specific background. It is overwritten whether we have a\n",
       "  specific estimator or a Pipeline/ColumnTransformer */\n",
       "  background-color: var(--sklearn-color-background);\n",
       "}\n",
       "\n",
       "/* Toggleable label */\n",
       "#sk-container-id-2 label.sk-toggleable__label {\n",
       "  cursor: pointer;\n",
       "  display: block;\n",
       "  width: 100%;\n",
       "  margin-bottom: 0;\n",
       "  padding: 0.5em;\n",
       "  box-sizing: border-box;\n",
       "  text-align: center;\n",
       "}\n",
       "\n",
       "#sk-container-id-2 label.sk-toggleable__label-arrow:before {\n",
       "  /* Arrow on the left of the label */\n",
       "  content: \"▸\";\n",
       "  float: left;\n",
       "  margin-right: 0.25em;\n",
       "  color: var(--sklearn-color-icon);\n",
       "}\n",
       "\n",
       "#sk-container-id-2 label.sk-toggleable__label-arrow:hover:before {\n",
       "  color: var(--sklearn-color-text);\n",
       "}\n",
       "\n",
       "/* Toggleable content - dropdown */\n",
       "\n",
       "#sk-container-id-2 div.sk-toggleable__content {\n",
       "  max-height: 0;\n",
       "  max-width: 0;\n",
       "  overflow: hidden;\n",
       "  text-align: left;\n",
       "  /* unfitted */\n",
       "  background-color: var(--sklearn-color-unfitted-level-0);\n",
       "}\n",
       "\n",
       "#sk-container-id-2 div.sk-toggleable__content.fitted {\n",
       "  /* fitted */\n",
       "  background-color: var(--sklearn-color-fitted-level-0);\n",
       "}\n",
       "\n",
       "#sk-container-id-2 div.sk-toggleable__content pre {\n",
       "  margin: 0.2em;\n",
       "  border-radius: 0.25em;\n",
       "  color: var(--sklearn-color-text);\n",
       "  /* unfitted */\n",
       "  background-color: var(--sklearn-color-unfitted-level-0);\n",
       "}\n",
       "\n",
       "#sk-container-id-2 div.sk-toggleable__content.fitted pre {\n",
       "  /* unfitted */\n",
       "  background-color: var(--sklearn-color-fitted-level-0);\n",
       "}\n",
       "\n",
       "#sk-container-id-2 input.sk-toggleable__control:checked~div.sk-toggleable__content {\n",
       "  /* Expand drop-down */\n",
       "  max-height: 200px;\n",
       "  max-width: 100%;\n",
       "  overflow: auto;\n",
       "}\n",
       "\n",
       "#sk-container-id-2 input.sk-toggleable__control:checked~label.sk-toggleable__label-arrow:before {\n",
       "  content: \"▾\";\n",
       "}\n",
       "\n",
       "/* Pipeline/ColumnTransformer-specific style */\n",
       "\n",
       "#sk-container-id-2 div.sk-label input.sk-toggleable__control:checked~label.sk-toggleable__label {\n",
       "  color: var(--sklearn-color-text);\n",
       "  background-color: var(--sklearn-color-unfitted-level-2);\n",
       "}\n",
       "\n",
       "#sk-container-id-2 div.sk-label.fitted input.sk-toggleable__control:checked~label.sk-toggleable__label {\n",
       "  background-color: var(--sklearn-color-fitted-level-2);\n",
       "}\n",
       "\n",
       "/* Estimator-specific style */\n",
       "\n",
       "/* Colorize estimator box */\n",
       "#sk-container-id-2 div.sk-estimator input.sk-toggleable__control:checked~label.sk-toggleable__label {\n",
       "  /* unfitted */\n",
       "  background-color: var(--sklearn-color-unfitted-level-2);\n",
       "}\n",
       "\n",
       "#sk-container-id-2 div.sk-estimator.fitted input.sk-toggleable__control:checked~label.sk-toggleable__label {\n",
       "  /* fitted */\n",
       "  background-color: var(--sklearn-color-fitted-level-2);\n",
       "}\n",
       "\n",
       "#sk-container-id-2 div.sk-label label.sk-toggleable__label,\n",
       "#sk-container-id-2 div.sk-label label {\n",
       "  /* The background is the default theme color */\n",
       "  color: var(--sklearn-color-text-on-default-background);\n",
       "}\n",
       "\n",
       "/* On hover, darken the color of the background */\n",
       "#sk-container-id-2 div.sk-label:hover label.sk-toggleable__label {\n",
       "  color: var(--sklearn-color-text);\n",
       "  background-color: var(--sklearn-color-unfitted-level-2);\n",
       "}\n",
       "\n",
       "/* Label box, darken color on hover, fitted */\n",
       "#sk-container-id-2 div.sk-label.fitted:hover label.sk-toggleable__label.fitted {\n",
       "  color: var(--sklearn-color-text);\n",
       "  background-color: var(--sklearn-color-fitted-level-2);\n",
       "}\n",
       "\n",
       "/* Estimator label */\n",
       "\n",
       "#sk-container-id-2 div.sk-label label {\n",
       "  font-family: monospace;\n",
       "  font-weight: bold;\n",
       "  display: inline-block;\n",
       "  line-height: 1.2em;\n",
       "}\n",
       "\n",
       "#sk-container-id-2 div.sk-label-container {\n",
       "  text-align: center;\n",
       "}\n",
       "\n",
       "/* Estimator-specific */\n",
       "#sk-container-id-2 div.sk-estimator {\n",
       "  font-family: monospace;\n",
       "  border: 1px dotted var(--sklearn-color-border-box);\n",
       "  border-radius: 0.25em;\n",
       "  box-sizing: border-box;\n",
       "  margin-bottom: 0.5em;\n",
       "  /* unfitted */\n",
       "  background-color: var(--sklearn-color-unfitted-level-0);\n",
       "}\n",
       "\n",
       "#sk-container-id-2 div.sk-estimator.fitted {\n",
       "  /* fitted */\n",
       "  background-color: var(--sklearn-color-fitted-level-0);\n",
       "}\n",
       "\n",
       "/* on hover */\n",
       "#sk-container-id-2 div.sk-estimator:hover {\n",
       "  /* unfitted */\n",
       "  background-color: var(--sklearn-color-unfitted-level-2);\n",
       "}\n",
       "\n",
       "#sk-container-id-2 div.sk-estimator.fitted:hover {\n",
       "  /* fitted */\n",
       "  background-color: var(--sklearn-color-fitted-level-2);\n",
       "}\n",
       "\n",
       "/* Specification for estimator info (e.g. \"i\" and \"?\") */\n",
       "\n",
       "/* Common style for \"i\" and \"?\" */\n",
       "\n",
       ".sk-estimator-doc-link,\n",
       "a:link.sk-estimator-doc-link,\n",
       "a:visited.sk-estimator-doc-link {\n",
       "  float: right;\n",
       "  font-size: smaller;\n",
       "  line-height: 1em;\n",
       "  font-family: monospace;\n",
       "  background-color: var(--sklearn-color-background);\n",
       "  border-radius: 1em;\n",
       "  height: 1em;\n",
       "  width: 1em;\n",
       "  text-decoration: none !important;\n",
       "  margin-left: 1ex;\n",
       "  /* unfitted */\n",
       "  border: var(--sklearn-color-unfitted-level-1) 1pt solid;\n",
       "  color: var(--sklearn-color-unfitted-level-1);\n",
       "}\n",
       "\n",
       ".sk-estimator-doc-link.fitted,\n",
       "a:link.sk-estimator-doc-link.fitted,\n",
       "a:visited.sk-estimator-doc-link.fitted {\n",
       "  /* fitted */\n",
       "  border: var(--sklearn-color-fitted-level-1) 1pt solid;\n",
       "  color: var(--sklearn-color-fitted-level-1);\n",
       "}\n",
       "\n",
       "/* On hover */\n",
       "div.sk-estimator:hover .sk-estimator-doc-link:hover,\n",
       ".sk-estimator-doc-link:hover,\n",
       "div.sk-label-container:hover .sk-estimator-doc-link:hover,\n",
       ".sk-estimator-doc-link:hover {\n",
       "  /* unfitted */\n",
       "  background-color: var(--sklearn-color-unfitted-level-3);\n",
       "  color: var(--sklearn-color-background);\n",
       "  text-decoration: none;\n",
       "}\n",
       "\n",
       "div.sk-estimator.fitted:hover .sk-estimator-doc-link.fitted:hover,\n",
       ".sk-estimator-doc-link.fitted:hover,\n",
       "div.sk-label-container:hover .sk-estimator-doc-link.fitted:hover,\n",
       ".sk-estimator-doc-link.fitted:hover {\n",
       "  /* fitted */\n",
       "  background-color: var(--sklearn-color-fitted-level-3);\n",
       "  color: var(--sklearn-color-background);\n",
       "  text-decoration: none;\n",
       "}\n",
       "\n",
       "/* Span, style for the box shown on hovering the info icon */\n",
       ".sk-estimator-doc-link span {\n",
       "  display: none;\n",
       "  z-index: 9999;\n",
       "  position: relative;\n",
       "  font-weight: normal;\n",
       "  right: .2ex;\n",
       "  padding: .5ex;\n",
       "  margin: .5ex;\n",
       "  width: min-content;\n",
       "  min-width: 20ex;\n",
       "  max-width: 50ex;\n",
       "  color: var(--sklearn-color-text);\n",
       "  box-shadow: 2pt 2pt 4pt #999;\n",
       "  /* unfitted */\n",
       "  background: var(--sklearn-color-unfitted-level-0);\n",
       "  border: .5pt solid var(--sklearn-color-unfitted-level-3);\n",
       "}\n",
       "\n",
       ".sk-estimator-doc-link.fitted span {\n",
       "  /* fitted */\n",
       "  background: var(--sklearn-color-fitted-level-0);\n",
       "  border: var(--sklearn-color-fitted-level-3);\n",
       "}\n",
       "\n",
       ".sk-estimator-doc-link:hover span {\n",
       "  display: block;\n",
       "}\n",
       "\n",
       "/* \"?\"-specific style due to the `<a>` HTML tag */\n",
       "\n",
       "#sk-container-id-2 a.estimator_doc_link {\n",
       "  float: right;\n",
       "  font-size: 1rem;\n",
       "  line-height: 1em;\n",
       "  font-family: monospace;\n",
       "  background-color: var(--sklearn-color-background);\n",
       "  border-radius: 1rem;\n",
       "  height: 1rem;\n",
       "  width: 1rem;\n",
       "  text-decoration: none;\n",
       "  /* unfitted */\n",
       "  color: var(--sklearn-color-unfitted-level-1);\n",
       "  border: var(--sklearn-color-unfitted-level-1) 1pt solid;\n",
       "}\n",
       "\n",
       "#sk-container-id-2 a.estimator_doc_link.fitted {\n",
       "  /* fitted */\n",
       "  border: var(--sklearn-color-fitted-level-1) 1pt solid;\n",
       "  color: var(--sklearn-color-fitted-level-1);\n",
       "}\n",
       "\n",
       "/* On hover */\n",
       "#sk-container-id-2 a.estimator_doc_link:hover {\n",
       "  /* unfitted */\n",
       "  background-color: var(--sklearn-color-unfitted-level-3);\n",
       "  color: var(--sklearn-color-background);\n",
       "  text-decoration: none;\n",
       "}\n",
       "\n",
       "#sk-container-id-2 a.estimator_doc_link.fitted:hover {\n",
       "  /* fitted */\n",
       "  background-color: var(--sklearn-color-fitted-level-3);\n",
       "}\n",
       "</style><div id=\"sk-container-id-2\" class=\"sk-top-container\"><div class=\"sk-text-repr-fallback\"><pre>LGBMRegressor(learning_rate=0.04,\n",
       "              monotone_constraints=[0, 0, 0, 0, 0, 0, 0, 1, 0],\n",
       "              n_estimators=150, objective=&#x27;tweedie&#x27;)</pre><b>In a Jupyter environment, please rerun this cell to show the HTML representation or trust the notebook. <br />On GitHub, the HTML representation is unable to render, please try loading this page with nbviewer.org.</b></div><div class=\"sk-container\" hidden><div class=\"sk-item\"><div class=\"sk-estimator fitted sk-toggleable\"><input class=\"sk-toggleable__control sk-hidden--visually\" id=\"sk-estimator-id-10\" type=\"checkbox\" checked><label for=\"sk-estimator-id-10\" class=\"sk-toggleable__label fitted sk-toggleable__label-arrow fitted\">&nbsp;LGBMRegressor<span class=\"sk-estimator-doc-link fitted\">i<span>Fitted</span></span></label><div class=\"sk-toggleable__content fitted\"><pre>LGBMRegressor(learning_rate=0.04,\n",
       "              monotone_constraints=[0, 0, 0, 0, 0, 0, 0, 1, 0],\n",
       "              n_estimators=150, objective=&#x27;tweedie&#x27;)</pre></div> </div></div></div></div>"
      ],
      "text/plain": [
       "LGBMRegressor(learning_rate=0.04,\n",
       "              monotone_constraints=[0, 0, 0, 0, 0, 0, 0, 1, 0],\n",
       "              n_estimators=150, objective='tweedie')"
      ]
     },
     "execution_count": 20,
     "metadata": {},
     "output_type": "execute_result"
    }
   ],
   "source": [
    "#EX2 LEARNING CURVE\n",
    "#EX2.1 Re-fit the best constrained lgbm estimator\n",
    "import lightgbm as lgb\n",
    "\n",
    "best_constrained_lgbm = cv_c_lgbm.best_estimator_\n",
    "lgbm_model = best_constrained_lgbm.named_steps['estimate']\n",
    "eval_set = [(X_train_t, y_train_t), (X_test_t, y_test_t)]\n",
    "\n",
    "lgbm_model.fit(\n",
    "    X_train_t, y_train_t, \n",
    "    sample_weight=w_train_t, \n",
    "    eval_set=eval_set,\n",
    "    eval_metric='l2',\n",
    "    eval_names=['train', 'test']\n",
    ")\n"
   ]
  },
  {
   "cell_type": "code",
   "execution_count": 21,
   "metadata": {},
   "outputs": [
    {
     "data": {
      "image/png": "[encoded data removed]",
      "text/plain": [
       "<Figure size 640x480 with 1 Axes>"
      ]
     },
     "metadata": {},
     "output_type": "display_data"
    }
   ],
   "source": [
    "# Plot\n",
    "lgb.plot_metric(lgbm_model, metric='l2')\n",
    "plt.title('Learning Curve - Constrained LGBM Regressor')\n",
    "plt.show()"
   ]
  },
  {
   "cell_type": "markdown",
   "metadata": {},
   "source": [
    "The training and tesing loss values are high and the learning curves are almost horizontal, this may suggest underfitting. The constrained model hasn't learned the relationship in the data well."
   ]
  },
  {
   "cell_type": "code",
   "execution_count": 22,
   "metadata": {},
   "outputs": [
    {
     "name": "stdout",
     "output_type": "stream",
     "text": [
      "[LightGBM] [Info] Auto-choosing row-wise multi-threading, the overhead of testing was 0.005766 seconds.\n",
      "You can set `force_row_wise=true` to remove the overhead.\n",
      "And if memory is not enough, you can set `force_col_wise=true`.\n",
      "[LightGBM] [Info] Total Bins 409\n",
      "[LightGBM] [Info] Number of data points in the train set: 542267, number of used features: 9\n",
      "[LightGBM] [Info] Start training from score 4.925267\n",
      "[LightGBM] [Info] Auto-choosing row-wise multi-threading, the overhead of testing was 0.007601 seconds.\n",
      "You can set `force_row_wise=true` to remove the overhead.\n",
      "And if memory is not enough, you can set `force_col_wise=true`.\n",
      "[LightGBM] [Info] Total Bins 409\n",
      "[LightGBM] [Info] Number of data points in the train set: 542267, number of used features: 9\n",
      "[LightGBM] [Info] Start training from score 4.925267\n",
      "Constrained Model Evaluation:\n",
      "                 Value\n",
      "Metric                \n",
      "Bias     -1.245430e+02\n",
      "Deviance  9.772517e+12\n",
      "MAE       3.739345e+02\n",
      "RMSE      8.484763e+03\n",
      "Gini      2.070645e-01\n",
      "\n",
      "Unconstrained Model Evaluation:\n",
      "                 Value\n",
      "Metric                \n",
      "Bias     -1.275846e+02\n",
      "Deviance  9.771340e+12\n",
      "MAE       3.706253e+02\n",
      "RMSE      8.484252e+03\n",
      "Gini      1.485035e-01\n"
     ]
    }
   ],
   "source": [
    "#EX3: Metrics function\n",
    "\n",
    "\n",
    "def compare_models(X_train_t, y_train_t, X_test_t, y_test_t, sample_weight, monotonic_constraints=None):\n",
    "    # Models\n",
    "    constrained_lgbm = Pipeline([\n",
    "        (\"estimate\", lgb.LGBMRegressor(objective=\"tweedie\", monotone_constraints=monotonic_constraints))\n",
    "    ])\n",
    "    unconstrained_lgbm = Pipeline([(\"estimate\", lgb.LGBMRegressor(objective=\"tweedie\"))])\n",
    "\n",
    "    # Train models\n",
    "    constrained_lgbm.fit(X_train_t, y_train_t, estimate__sample_weight=sample_weight)\n",
    "    unconstrained_lgbm.fit(X_train_t, y_train_t, estimate__sample_weight=sample_weight)\n",
    "\n",
    "    # Predictions\n",
    "    y_pred_constrained = constrained_lgbm.predict(X_test_t)\n",
    "    y_pred_unconstrained = unconstrained_lgbm.predict(X_test_t)\n",
    "\n",
    "    # Evaluate predictions\n",
    "    evaluation_constrained = evaluate_predictions(y_test_t, y_pred_constrained, sample_weight=sample_weight)\n",
    "    evaluation_unconstrained = evaluate_predictions(y_test_t, y_pred_unconstrained, sample_weight=sample_weight)\n",
    "\n",
    "    return {\n",
    "        \"Constrained Model Evaluation\": evaluation_constrained,\n",
    "        \"Unconstrained Model Evaluation\": evaluation_unconstrained\n",
    "    }\n",
    "\n",
    "# Results\n",
    "results = compare_models(X_train_t, y_train_t, X_test_t, y_test_t, w_train_t, monotonic_constraints=monotonic_constraints)\n",
    "\n",
    "print(\"Constrained Model Evaluation:\")\n",
    "print(results[\"Constrained Model Evaluation\"])\n",
    "\n",
    "print(\"\\nUnconstrained Model Evaluation:\")\n",
    "print(results[\"Unconstrained Model Evaluation\"])"
   ]
  },
  {
   "cell_type": "code",
   "execution_count": 23,
   "metadata": {},
   "outputs": [
    {
     "data": {
      "text/plain": [
       "16        0.0\n",
       "25        0.0\n",
       "33        0.0\n",
       "37        0.0\n",
       "42        0.0\n",
       "         ... \n",
       "677984    0.0\n",
       "678002    0.0\n",
       "678003    0.0\n",
       "678006    0.0\n",
       "678008    0.0\n",
       "Name: PurePremium, Length: 135746, dtype: float64"
      ]
     },
     "execution_count": 23,
     "metadata": {},
     "output_type": "execute_result"
    }
   ],
   "source": [
    "y_test_t"
   ]
  },
  {
   "cell_type": "code",
   "execution_count": 60,
   "metadata": {},
   "outputs": [
    {
     "name": "stdout",
     "output_type": "stream",
     "text": [
      "Preparation of a new explainer is initiated\n",
      "\n",
      "  -> data              : 542267 rows 9 cols\n",
      "  -> target variable   : Parameter 'y' was a pandas.Series. Converted to a numpy.ndarray.\n",
      "  -> target variable   : 542267 values\n",
      "  -> model_class       : lightgbm.sklearn.LGBMRegressor (default)\n",
      "  -> label             : Unconstrained LGBM\n",
      "  -> predict function  : <function yhat_default at 0x281116e80> will be used (default)\n",
      "  -> predict function  : Accepts only pandas.DataFrame, numpy.ndarray causes problems.\n",
      "  -> predicted values  : min = 5.75, mean = 1.3e+02, max = 7.41e+03\n",
      "  -> model type        : regression will be used (default)\n",
      "  -> residual function : difference between y and yhat (default)\n",
      "  -> residuals         : min = -5.94e+03, mean = 1.93e+02, max = 1e+07\n",
      "  -> model_info        : package sklearn\n",
      "\n",
      "A new explainer has been created!\n",
      "Preparation of a new explainer is initiated\n",
      "\n",
      "  -> data              : 542267 rows 9 cols\n",
      "  -> target variable   : Parameter 'y' was a pandas.Series. Converted to a numpy.ndarray.\n",
      "  -> target variable   : 542267 values\n",
      "  -> model_class       : lightgbm.sklearn.LGBMRegressor (default)\n",
      "  -> label             : Constrained LGBM\n",
      "  -> predict function  : <function yhat_default at 0x281116e80> will be used (default)\n",
      "  -> predict function  : Accepts only pandas.DataFrame, numpy.ndarray causes problems.\n",
      "  -> predicted values  : min = 5.8, mean = 1.35e+02, max = 4.56e+03\n",
      "  -> model type        : regression will be used (default)\n",
      "  -> residual function : difference between y and yhat (default)\n",
      "  -> residuals         : min = -4.56e+03, mean = 1.88e+02, max = 1e+07\n",
      "  -> model_info        : package sklearn\n",
      "\n",
      "A new explainer has been created!\n"
     ]
    }
   ],
   "source": [
    "# Creating explainer for unconstrained LGBM\n",
    "best_unconstrained_lgbm_exp = dx.Explainer(best_unconstrained_lgbm, X_train_t, y_train_t, label=\"Unconstrained LGBM\")\n",
    "\n",
    "# Creating explainer for constrained LGBM\n",
    "best_constrained_lgbm_exp = dx.Explainer(best_constrained_lgbm, X_train_t, y_train_t, label=\"Constrained LGBM\")"
   ]
  },
  {
   "cell_type": "code",
   "execution_count": 25,
   "metadata": {},
   "outputs": [
    {
     "name": "stdout",
     "output_type": "stream",
     "text": [
      "<class 'pandas.core.frame.DataFrame'>\n",
      "Index: 542267 entries, 0 to 678012\n",
      "Data columns (total 9 columns):\n",
      " #   Column      Non-Null Count   Dtype   \n",
      "---  ------      --------------   -----   \n",
      " 0   VehBrand    542267 non-null  category\n",
      " 1   VehGas      542267 non-null  category\n",
      " 2   Region      542267 non-null  category\n",
      " 3   Area        542267 non-null  category\n",
      " 4   DrivAge     542267 non-null  category\n",
      " 5   VehAge      542267 non-null  category\n",
      " 6   VehPower    542267 non-null  category\n",
      " 7   BonusMalus  542267 non-null  int64   \n",
      " 8   Density     542267 non-null  int64   \n",
      "dtypes: category(7), int64(2)\n",
      "memory usage: 32.2 MB\n"
     ]
    }
   ],
   "source": [
    "X_train_t.info()"
   ]
  },
  {
   "cell_type": "code",
   "execution_count": 26,
   "metadata": {},
   "outputs": [
    {
     "name": "stderr",
     "output_type": "stream",
     "text": [
      "Calculating ceteris paribus:   0%|          | 0/9 [00:00<?, ?it/s]/opt/anaconda3/envs/ps3_2/lib/python3.12/site-packages/dalex/predict_explanations/_ceteris_paribus/utils.py:100: FutureWarning: Setting an item of incompatible dtype is deprecated and will raise in a future error of pandas. Value '[ 50.   51.8  53.6 ... 226.4 228.2 230. ]' has dtype incompatible with int64, please explicitly cast to a compatible dtype first.\n",
      "  new_data.loc[:, variable] = np.tile(split_points, data.shape[0])\n",
      "Calculating ceteris paribus:  89%|████████▉ | 8/9 [00:00<00:00, 74.47it/s]/opt/anaconda3/envs/ps3_2/lib/python3.12/site-packages/dalex/predict_explanations/_ceteris_paribus/utils.py:100: FutureWarning: Setting an item of incompatible dtype is deprecated and will raise in a future error of pandas. Value '[1.000000e+00 2.709900e+02 5.409800e+02 ... 2.646002e+04 2.673001e+04\n",
      " 2.700000e+04]' has dtype incompatible with int64, please explicitly cast to a compatible dtype first.\n",
      "  new_data.loc[:, variable] = np.tile(split_points, data.shape[0])\n",
      "Calculating ceteris paribus: 100%|██████████| 9/9 [00:00<00:00, 60.89it/s]\n",
      "Calculating ceteris paribus:   0%|          | 0/9 [00:00<?, ?it/s]/opt/anaconda3/envs/ps3_2/lib/python3.12/site-packages/dalex/predict_explanations/_ceteris_paribus/utils.py:100: FutureWarning: Setting an item of incompatible dtype is deprecated and will raise in a future error of pandas. Value '[ 50.   51.8  53.6 ... 226.4 228.2 230. ]' has dtype incompatible with int64, please explicitly cast to a compatible dtype first.\n",
      "  new_data.loc[:, variable] = np.tile(split_points, data.shape[0])\n",
      "/opt/anaconda3/envs/ps3_2/lib/python3.12/site-packages/dalex/predict_explanations/_ceteris_paribus/utils.py:100: FutureWarning: Setting an item of incompatible dtype is deprecated and will raise in a future error of pandas. Value '[1.000000e+00 2.709900e+02 5.409800e+02 ... 2.646002e+04 2.673001e+04\n",
      " 2.700000e+04]' has dtype incompatible with int64, please explicitly cast to a compatible dtype first.\n",
      "  new_data.loc[:, variable] = np.tile(split_points, data.shape[0])\n",
      "Calculating ceteris paribus: 100%|██████████| 9/9 [00:00<00:00, 73.41it/s]\n"
     ]
    }
   ],
   "source": [
    "# Model profile for numerical variables\n",
    "\n",
    "# unconstrained LGBM\n",
    "pd_lgbm_unconstrained = best_unconstrained_lgbm_exp.model_profile()\n",
    "\n",
    "# Constrained LGBM\n",
    "pd_lgbm_constrained = best_constrained_lgbm_exp.model_profile()"
   ]
  },
  {
   "cell_type": "code",
   "execution_count": 27,
   "metadata": {},
   "outputs": [
    {
     "data": {
      "application/vnd.plotly.v1+json": {
       "config": {
        "displaylogo": false,
        "modeBarButtonsToRemove": [
         "sendDataToCloud",
         "lasso2d",
         "autoScale2d",
         "select2d",
         "zoom2d",
         "pan2d",
         "zoomIn2d",
         "zoomOut2d",
         "resetScale2d",
         "toggleSpikelines",
         "hoverCompareCartesian",
         "hoverClosestCartesian"
        ],
        "plotlyServerURL": "https://plot.ly",
        "staticPlot": false,
        "toImageButtonOptions": {
         "height": null,
         "width": null
        }
       },
       "data": [
        {
         "customdata": [
          [
           130.57187528011121,
           "Unconstrained LGBM",
           "BonusMalus"
          ],
          [
           130.57187528011121,
           "Unconstrained LGBM",
           "BonusMalus"
          ],
          [
           130.57187528011121,
           "Unconstrained LGBM",
           "BonusMalus"
          ],
          [
           130.57187528011121,
           "Unconstrained LGBM",
           "BonusMalus"
          ],
          [
           130.57187528011121,
           "Unconstrained LGBM",
           "BonusMalus"
          ],
          [
           130.57187528011121,
           "Unconstrained LGBM",
           "BonusMalus"
          ],
          [
           130.57187528011121,
           "Unconstrained LGBM",
           "BonusMalus"
          ],
          [
           130.57187528011121,
           "Unconstrained LGBM",
           "BonusMalus"
          ],
          [
           130.57187528011121,
           "Unconstrained LGBM",
           "BonusMalus"
          ],
          [
           130.57187528011121,
           "Unconstrained LGBM",
           "BonusMalus"
          ],
          [
           130.57187528011121,
           "Unconstrained LGBM",
           "BonusMalus"
          ],
          [
           130.57187528011121,
           "Unconstrained LGBM",
           "BonusMalus"
          ],
          [
           130.57187528011121,
           "Unconstrained LGBM",
           "BonusMalus"
          ],
          [
           130.57187528011121,
           "Unconstrained LGBM",
           "BonusMalus"
          ],
          [
           130.57187528011121,
           "Unconstrained LGBM",
           "BonusMalus"
          ],
          [
           130.57187528011121,
           "Unconstrained LGBM",
           "BonusMalus"
          ],
          [
           130.57187528011121,
           "Unconstrained LGBM",
           "BonusMalus"
          ],
          [
           130.57187528011121,
           "Unconstrained LGBM",
           "BonusMalus"
          ],
          [
           130.57187528011121,
           "Unconstrained LGBM",
           "BonusMalus"
          ],
          [
           130.57187528011121,
           "Unconstrained LGBM",
           "BonusMalus"
          ],
          [
           130.57187528011121,
           "Unconstrained LGBM",
           "BonusMalus"
          ],
          [
           130.57187528011121,
           "Unconstrained LGBM",
           "BonusMalus"
          ],
          [
           130.57187528011121,
           "Unconstrained LGBM",
           "BonusMalus"
          ],
          [
           130.57187528011121,
           "Unconstrained LGBM",
           "BonusMalus"
          ],
          [
           130.57187528011121,
           "Unconstrained LGBM",
           "BonusMalus"
          ],
          [
           130.57187528011121,
           "Unconstrained LGBM",
           "BonusMalus"
          ],
          [
           130.57187528011121,
           "Unconstrained LGBM",
           "BonusMalus"
          ],
          [
           130.57187528011121,
           "Unconstrained LGBM",
           "BonusMalus"
          ],
          [
           130.57187528011121,
           "Unconstrained LGBM",
           "BonusMalus"
          ],
          [
           130.57187528011121,
           "Unconstrained LGBM",
           "BonusMalus"
          ],
          [
           130.57187528011121,
           "Unconstrained LGBM",
           "BonusMalus"
          ],
          [
           130.57187528011121,
           "Unconstrained LGBM",
           "BonusMalus"
          ],
          [
           130.57187528011121,
           "Unconstrained LGBM",
           "BonusMalus"
          ],
          [
           130.57187528011121,
           "Unconstrained LGBM",
           "BonusMalus"
          ],
          [
           130.57187528011121,
           "Unconstrained LGBM",
           "BonusMalus"
          ],
          [
           130.57187528011121,
           "Unconstrained LGBM",
           "BonusMalus"
          ],
          [
           130.57187528011121,
           "Unconstrained LGBM",
           "BonusMalus"
          ],
          [
           130.57187528011121,
           "Unconstrained LGBM",
           "BonusMalus"
          ],
          [
           130.57187528011121,
           "Unconstrained LGBM",
           "BonusMalus"
          ],
          [
           130.57187528011121,
           "Unconstrained LGBM",
           "BonusMalus"
          ],
          [
           130.57187528011121,
           "Unconstrained LGBM",
           "BonusMalus"
          ],
          [
           130.57187528011121,
           "Unconstrained LGBM",
           "BonusMalus"
          ],
          [
           130.57187528011121,
           "Unconstrained LGBM",
           "BonusMalus"
          ],
          [
           130.57187528011121,
           "Unconstrained LGBM",
           "BonusMalus"
          ],
          [
           130.57187528011121,
           "Unconstrained LGBM",
           "BonusMalus"
          ],
          [
           130.57187528011121,
           "Unconstrained LGBM",
           "BonusMalus"
          ],
          [
           130.57187528011121,
           "Unconstrained LGBM",
           "BonusMalus"
          ],
          [
           130.57187528011121,
           "Unconstrained LGBM",
           "BonusMalus"
          ],
          [
           130.57187528011121,
           "Unconstrained LGBM",
           "BonusMalus"
          ],
          [
           130.57187528011121,
           "Unconstrained LGBM",
           "BonusMalus"
          ],
          [
           130.57187528011121,
           "Unconstrained LGBM",
           "BonusMalus"
          ],
          [
           130.57187528011121,
           "Unconstrained LGBM",
           "BonusMalus"
          ],
          [
           130.57187528011121,
           "Unconstrained LGBM",
           "BonusMalus"
          ],
          [
           130.57187528011121,
           "Unconstrained LGBM",
           "BonusMalus"
          ],
          [
           130.57187528011121,
           "Unconstrained LGBM",
           "BonusMalus"
          ],
          [
           130.57187528011121,
           "Unconstrained LGBM",
           "BonusMalus"
          ],
          [
           130.57187528011121,
           "Unconstrained LGBM",
           "BonusMalus"
          ],
          [
           130.57187528011121,
           "Unconstrained LGBM",
           "BonusMalus"
          ],
          [
           130.57187528011121,
           "Unconstrained LGBM",
           "BonusMalus"
          ],
          [
           130.57187528011121,
           "Unconstrained LGBM",
           "BonusMalus"
          ],
          [
           130.57187528011121,
           "Unconstrained LGBM",
           "BonusMalus"
          ],
          [
           130.57187528011121,
           "Unconstrained LGBM",
           "BonusMalus"
          ],
          [
           130.57187528011121,
           "Unconstrained LGBM",
           "BonusMalus"
          ],
          [
           130.57187528011121,
           "Unconstrained LGBM",
           "BonusMalus"
          ],
          [
           130.57187528011121,
           "Unconstrained LGBM",
           "BonusMalus"
          ],
          [
           130.57187528011121,
           "Unconstrained LGBM",
           "BonusMalus"
          ],
          [
           130.57187528011121,
           "Unconstrained LGBM",
           "BonusMalus"
          ],
          [
           130.57187528011121,
           "Unconstrained LGBM",
           "BonusMalus"
          ],
          [
           130.57187528011121,
           "Unconstrained LGBM",
           "BonusMalus"
          ],
          [
           130.57187528011121,
           "Unconstrained LGBM",
           "BonusMalus"
          ],
          [
           130.57187528011121,
           "Unconstrained LGBM",
           "BonusMalus"
          ],
          [
           130.57187528011121,
           "Unconstrained LGBM",
           "BonusMalus"
          ],
          [
           130.57187528011121,
           "Unconstrained LGBM",
           "BonusMalus"
          ],
          [
           130.57187528011121,
           "Unconstrained LGBM",
           "BonusMalus"
          ],
          [
           130.57187528011121,
           "Unconstrained LGBM",
           "BonusMalus"
          ],
          [
           130.57187528011121,
           "Unconstrained LGBM",
           "BonusMalus"
          ],
          [
           130.57187528011121,
           "Unconstrained LGBM",
           "BonusMalus"
          ],
          [
           130.57187528011121,
           "Unconstrained LGBM",
           "BonusMalus"
          ],
          [
           130.57187528011121,
           "Unconstrained LGBM",
           "BonusMalus"
          ],
          [
           130.57187528011121,
           "Unconstrained LGBM",
           "BonusMalus"
          ],
          [
           130.57187528011121,
           "Unconstrained LGBM",
           "BonusMalus"
          ],
          [
           130.57187528011121,
           "Unconstrained LGBM",
           "BonusMalus"
          ],
          [
           130.57187528011121,
           "Unconstrained LGBM",
           "BonusMalus"
          ],
          [
           130.57187528011121,
           "Unconstrained LGBM",
           "BonusMalus"
          ],
          [
           130.57187528011121,
           "Unconstrained LGBM",
           "BonusMalus"
          ],
          [
           130.57187528011121,
           "Unconstrained LGBM",
           "BonusMalus"
          ],
          [
           130.57187528011121,
           "Unconstrained LGBM",
           "BonusMalus"
          ],
          [
           130.57187528011121,
           "Unconstrained LGBM",
           "BonusMalus"
          ],
          [
           130.57187528011121,
           "Unconstrained LGBM",
           "BonusMalus"
          ],
          [
           130.57187528011121,
           "Unconstrained LGBM",
           "BonusMalus"
          ],
          [
           130.57187528011121,
           "Unconstrained LGBM",
           "BonusMalus"
          ],
          [
           130.57187528011121,
           "Unconstrained LGBM",
           "BonusMalus"
          ],
          [
           130.57187528011121,
           "Unconstrained LGBM",
           "BonusMalus"
          ],
          [
           130.57187528011121,
           "Unconstrained LGBM",
           "BonusMalus"
          ],
          [
           130.57187528011121,
           "Unconstrained LGBM",
           "BonusMalus"
          ],
          [
           130.57187528011121,
           "Unconstrained LGBM",
           "BonusMalus"
          ],
          [
           130.57187528011121,
           "Unconstrained LGBM",
           "BonusMalus"
          ],
          [
           130.57187528011121,
           "Unconstrained LGBM",
           "BonusMalus"
          ],
          [
           130.57187528011121,
           "Unconstrained LGBM",
           "BonusMalus"
          ],
          [
           130.57187528011121,
           "Unconstrained LGBM",
           "BonusMalus"
          ],
          [
           130.57187528011121,
           "Unconstrained LGBM",
           "BonusMalus"
          ]
         ],
         "hovertemplate": "<b>%{hovertext}</b><br><br>prediction=%{y:.3f}<br>mean_prediction=%{customdata[0]:.3f}<extra></extra>",
         "hovertext": [
          "Unconstrained LGBM",
          "Unconstrained LGBM",
          "Unconstrained LGBM",
          "Unconstrained LGBM",
          "Unconstrained LGBM",
          "Unconstrained LGBM",
          "Unconstrained LGBM",
          "Unconstrained LGBM",
          "Unconstrained LGBM",
          "Unconstrained LGBM",
          "Unconstrained LGBM",
          "Unconstrained LGBM",
          "Unconstrained LGBM",
          "Unconstrained LGBM",
          "Unconstrained LGBM",
          "Unconstrained LGBM",
          "Unconstrained LGBM",
          "Unconstrained LGBM",
          "Unconstrained LGBM",
          "Unconstrained LGBM",
          "Unconstrained LGBM",
          "Unconstrained LGBM",
          "Unconstrained LGBM",
          "Unconstrained LGBM",
          "Unconstrained LGBM",
          "Unconstrained LGBM",
          "Unconstrained LGBM",
          "Unconstrained LGBM",
          "Unconstrained LGBM",
          "Unconstrained LGBM",
          "Unconstrained LGBM",
          "Unconstrained LGBM",
          "Unconstrained LGBM",
          "Unconstrained LGBM",
          "Unconstrained LGBM",
          "Unconstrained LGBM",
          "Unconstrained LGBM",
          "Unconstrained LGBM",
          "Unconstrained LGBM",
          "Unconstrained LGBM",
          "Unconstrained LGBM",
          "Unconstrained LGBM",
          "Unconstrained LGBM",
          "Unconstrained LGBM",
          "Unconstrained LGBM",
          "Unconstrained LGBM",
          "Unconstrained LGBM",
          "Unconstrained LGBM",
          "Unconstrained LGBM",
          "Unconstrained LGBM",
          "Unconstrained LGBM",
          "Unconstrained LGBM",
          "Unconstrained LGBM",
          "Unconstrained LGBM",
          "Unconstrained LGBM",
          "Unconstrained LGBM",
          "Unconstrained LGBM",
          "Unconstrained LGBM",
          "Unconstrained LGBM",
          "Unconstrained LGBM",
          "Unconstrained LGBM",
          "Unconstrained LGBM",
          "Unconstrained LGBM",
          "Unconstrained LGBM",
          "Unconstrained LGBM",
          "Unconstrained LGBM",
          "Unconstrained LGBM",
          "Unconstrained LGBM",
          "Unconstrained LGBM",
          "Unconstrained LGBM",
          "Unconstrained LGBM",
          "Unconstrained LGBM",
          "Unconstrained LGBM",
          "Unconstrained LGBM",
          "Unconstrained LGBM",
          "Unconstrained LGBM",
          "Unconstrained LGBM",
          "Unconstrained LGBM",
          "Unconstrained LGBM",
          "Unconstrained LGBM",
          "Unconstrained LGBM",
          "Unconstrained LGBM",
          "Unconstrained LGBM",
          "Unconstrained LGBM",
          "Unconstrained LGBM",
          "Unconstrained LGBM",
          "Unconstrained LGBM",
          "Unconstrained LGBM",
          "Unconstrained LGBM",
          "Unconstrained LGBM",
          "Unconstrained LGBM",
          "Unconstrained LGBM",
          "Unconstrained LGBM",
          "Unconstrained LGBM",
          "Unconstrained LGBM",
          "Unconstrained LGBM",
          "Unconstrained LGBM",
          "Unconstrained LGBM",
          "Unconstrained LGBM",
          "Unconstrained LGBM",
          "Unconstrained LGBM"
         ],
         "legendgroup": "Unconstrained LGBM",
         "line": {
          "color": "#46bac2",
          "dash": "solid",
          "width": 2
         },
         "marker": {
          "symbol": "circle"
         },
         "mode": "lines",
         "name": "Unconstrained LGBM",
         "opacity": 1,
         "orientation": "v",
         "showlegend": true,
         "type": "scatter",
         "x": [
          50,
          51.8,
          53.6,
          55.4,
          57.2,
          59,
          60.8,
          62.6,
          64.4,
          66.2,
          68,
          69.8,
          71.6,
          73.4,
          75.2,
          77,
          78.8,
          80.6,
          82.4,
          84.2,
          86,
          87.80000000000001,
          89.6,
          91.4,
          93.2,
          95,
          96.80000000000001,
          98.6,
          100.4,
          102.2,
          104,
          105.80000000000001,
          107.6,
          109.4,
          111.2,
          113,
          114.8,
          116.60000000000001,
          118.4,
          120.2,
          122,
          123.8,
          125.60000000000001,
          127.4,
          129.2,
          131,
          132.8,
          134.60000000000002,
          136.4,
          138.2,
          140,
          141.8,
          143.60000000000002,
          145.4,
          147.2,
          149,
          150.8,
          152.60000000000002,
          154.4,
          156.2,
          158,
          159.8,
          161.60000000000002,
          163.4,
          165.2,
          167,
          168.8,
          170.60000000000002,
          172.4,
          174.2,
          176,
          177.8,
          179.6,
          181.4,
          183.20000000000002,
          185,
          186.8,
          188.6,
          190.4,
          192.20000000000002,
          194,
          195.8,
          197.6,
          199.4,
          201.20000000000002,
          203,
          204.8,
          206.6,
          208.4,
          210.20000000000002,
          212,
          213.8,
          215.6,
          217.4,
          219.20000000000002,
          221,
          222.8,
          224.6,
          226.4,
          228.20000000000002,
          230
         ],
         "xaxis": "x",
         "y": [
          80.74757996788125,
          116.35451631450513,
          111.93921756782315,
          137.3658939668004,
          117.4001454802179,
          167.40638015448076,
          149.28956042605492,
          220.0076987140308,
          138.54461052075752,
          158.3061350903499,
          144.36159042770166,
          213.24643860012392,
          181.6968505483455,
          218.52808170604484,
          226.57730151637827,
          200.86592587734305,
          200.50852328534364,
          200.15145435370925,
          200.41187277784732,
          200.5658412940867,
          205.10826652466338,
          206.73266982790304,
          208.6296827115408,
          234.97580512179186,
          235.48317131995947,
          237.21299055902114,
          453.148799695274,
          453.1768363325469,
          418.88634889884753,
          434.9224858573551,
          434.9224858573551,
          434.9224858573551,
          434.9224858573551,
          434.9224858573551,
          494.26379829536,
          496.48118322577136,
          496.491856346912,
          496.491856346912,
          497.02346818635505,
          509.4729770191301,
          523.8096666655649,
          523.8096666655649,
          523.8096666655649,
          523.8096666655649,
          523.8096666655649,
          523.8096666655649,
          529.0138504368749,
          529.0138504368749,
          529.0138504368749,
          529.0138504368749,
          844.4048918502012,
          844.4048918502012,
          844.4048918502012,
          844.4048918502012,
          844.4048918502012,
          833.7102761416829,
          833.7102761416829,
          833.7102761416829,
          833.7102761416829,
          833.7102761416829,
          833.7102761416829,
          833.7102761416829,
          833.7102761416829,
          833.7102761416829,
          833.7102761416829,
          833.7102761416829,
          833.7102761416829,
          833.7102761416829,
          833.7102761416829,
          833.7102761416829,
          833.7102761416829,
          833.7102761416829,
          833.7102761416829,
          833.7102761416829,
          833.7102761416829,
          833.7102761416829,
          833.7102761416829,
          833.7102761416829,
          833.7102761416829,
          833.7102761416829,
          833.7102761416829,
          833.7102761416829,
          833.7102761416829,
          833.7102761416829,
          833.7102761416829,
          833.7102761416829,
          833.7102761416829,
          833.7102761416829,
          833.7102761416829,
          833.7102761416829,
          833.7102761416829,
          833.7102761416829,
          833.7102761416829,
          833.7102761416829,
          833.7102761416829,
          833.7102761416829,
          833.7102761416829,
          833.7102761416829,
          833.7102761416829,
          833.7102761416829,
          833.7102761416829
         ],
         "yaxis": "y"
        },
        {
         "customdata": [
          [
           130.57187528011121,
           "Unconstrained LGBM",
           "Density"
          ],
          [
           130.57187528011121,
           "Unconstrained LGBM",
           "Density"
          ],
          [
           130.57187528011121,
           "Unconstrained LGBM",
           "Density"
          ],
          [
           130.57187528011121,
           "Unconstrained LGBM",
           "Density"
          ],
          [
           130.57187528011121,
           "Unconstrained LGBM",
           "Density"
          ],
          [
           130.57187528011121,
           "Unconstrained LGBM",
           "Density"
          ],
          [
           130.57187528011121,
           "Unconstrained LGBM",
           "Density"
          ],
          [
           130.57187528011121,
           "Unconstrained LGBM",
           "Density"
          ],
          [
           130.57187528011121,
           "Unconstrained LGBM",
           "Density"
          ],
          [
           130.57187528011121,
           "Unconstrained LGBM",
           "Density"
          ],
          [
           130.57187528011121,
           "Unconstrained LGBM",
           "Density"
          ],
          [
           130.57187528011121,
           "Unconstrained LGBM",
           "Density"
          ],
          [
           130.57187528011121,
           "Unconstrained LGBM",
           "Density"
          ],
          [
           130.57187528011121,
           "Unconstrained LGBM",
           "Density"
          ],
          [
           130.57187528011121,
           "Unconstrained LGBM",
           "Density"
          ],
          [
           130.57187528011121,
           "Unconstrained LGBM",
           "Density"
          ],
          [
           130.57187528011121,
           "Unconstrained LGBM",
           "Density"
          ],
          [
           130.57187528011121,
           "Unconstrained LGBM",
           "Density"
          ],
          [
           130.57187528011121,
           "Unconstrained LGBM",
           "Density"
          ],
          [
           130.57187528011121,
           "Unconstrained LGBM",
           "Density"
          ],
          [
           130.57187528011121,
           "Unconstrained LGBM",
           "Density"
          ],
          [
           130.57187528011121,
           "Unconstrained LGBM",
           "Density"
          ],
          [
           130.57187528011121,
           "Unconstrained LGBM",
           "Density"
          ],
          [
           130.57187528011121,
           "Unconstrained LGBM",
           "Density"
          ],
          [
           130.57187528011121,
           "Unconstrained LGBM",
           "Density"
          ],
          [
           130.57187528011121,
           "Unconstrained LGBM",
           "Density"
          ],
          [
           130.57187528011121,
           "Unconstrained LGBM",
           "Density"
          ],
          [
           130.57187528011121,
           "Unconstrained LGBM",
           "Density"
          ],
          [
           130.57187528011121,
           "Unconstrained LGBM",
           "Density"
          ],
          [
           130.57187528011121,
           "Unconstrained LGBM",
           "Density"
          ],
          [
           130.57187528011121,
           "Unconstrained LGBM",
           "Density"
          ],
          [
           130.57187528011121,
           "Unconstrained LGBM",
           "Density"
          ],
          [
           130.57187528011121,
           "Unconstrained LGBM",
           "Density"
          ],
          [
           130.57187528011121,
           "Unconstrained LGBM",
           "Density"
          ],
          [
           130.57187528011121,
           "Unconstrained LGBM",
           "Density"
          ],
          [
           130.57187528011121,
           "Unconstrained LGBM",
           "Density"
          ],
          [
           130.57187528011121,
           "Unconstrained LGBM",
           "Density"
          ],
          [
           130.57187528011121,
           "Unconstrained LGBM",
           "Density"
          ],
          [
           130.57187528011121,
           "Unconstrained LGBM",
           "Density"
          ],
          [
           130.57187528011121,
           "Unconstrained LGBM",
           "Density"
          ],
          [
           130.57187528011121,
           "Unconstrained LGBM",
           "Density"
          ],
          [
           130.57187528011121,
           "Unconstrained LGBM",
           "Density"
          ],
          [
           130.57187528011121,
           "Unconstrained LGBM",
           "Density"
          ],
          [
           130.57187528011121,
           "Unconstrained LGBM",
           "Density"
          ],
          [
           130.57187528011121,
           "Unconstrained LGBM",
           "Density"
          ],
          [
           130.57187528011121,
           "Unconstrained LGBM",
           "Density"
          ],
          [
           130.57187528011121,
           "Unconstrained LGBM",
           "Density"
          ],
          [
           130.57187528011121,
           "Unconstrained LGBM",
           "Density"
          ],
          [
           130.57187528011121,
           "Unconstrained LGBM",
           "Density"
          ],
          [
           130.57187528011121,
           "Unconstrained LGBM",
           "Density"
          ],
          [
           130.57187528011121,
           "Unconstrained LGBM",
           "Density"
          ],
          [
           130.57187528011121,
           "Unconstrained LGBM",
           "Density"
          ],
          [
           130.57187528011121,
           "Unconstrained LGBM",
           "Density"
          ],
          [
           130.57187528011121,
           "Unconstrained LGBM",
           "Density"
          ],
          [
           130.57187528011121,
           "Unconstrained LGBM",
           "Density"
          ],
          [
           130.57187528011121,
           "Unconstrained LGBM",
           "Density"
          ],
          [
           130.57187528011121,
           "Unconstrained LGBM",
           "Density"
          ],
          [
           130.57187528011121,
           "Unconstrained LGBM",
           "Density"
          ],
          [
           130.57187528011121,
           "Unconstrained LGBM",
           "Density"
          ],
          [
           130.57187528011121,
           "Unconstrained LGBM",
           "Density"
          ],
          [
           130.57187528011121,
           "Unconstrained LGBM",
           "Density"
          ],
          [
           130.57187528011121,
           "Unconstrained LGBM",
           "Density"
          ],
          [
           130.57187528011121,
           "Unconstrained LGBM",
           "Density"
          ],
          [
           130.57187528011121,
           "Unconstrained LGBM",
           "Density"
          ],
          [
           130.57187528011121,
           "Unconstrained LGBM",
           "Density"
          ],
          [
           130.57187528011121,
           "Unconstrained LGBM",
           "Density"
          ],
          [
           130.57187528011121,
           "Unconstrained LGBM",
           "Density"
          ],
          [
           130.57187528011121,
           "Unconstrained LGBM",
           "Density"
          ],
          [
           130.57187528011121,
           "Unconstrained LGBM",
           "Density"
          ],
          [
           130.57187528011121,
           "Unconstrained LGBM",
           "Density"
          ],
          [
           130.57187528011121,
           "Unconstrained LGBM",
           "Density"
          ],
          [
           130.57187528011121,
           "Unconstrained LGBM",
           "Density"
          ],
          [
           130.57187528011121,
           "Unconstrained LGBM",
           "Density"
          ],
          [
           130.57187528011121,
           "Unconstrained LGBM",
           "Density"
          ],
          [
           130.57187528011121,
           "Unconstrained LGBM",
           "Density"
          ],
          [
           130.57187528011121,
           "Unconstrained LGBM",
           "Density"
          ],
          [
           130.57187528011121,
           "Unconstrained LGBM",
           "Density"
          ],
          [
           130.57187528011121,
           "Unconstrained LGBM",
           "Density"
          ],
          [
           130.57187528011121,
           "Unconstrained LGBM",
           "Density"
          ],
          [
           130.57187528011121,
           "Unconstrained LGBM",
           "Density"
          ],
          [
           130.57187528011121,
           "Unconstrained LGBM",
           "Density"
          ],
          [
           130.57187528011121,
           "Unconstrained LGBM",
           "Density"
          ],
          [
           130.57187528011121,
           "Unconstrained LGBM",
           "Density"
          ],
          [
           130.57187528011121,
           "Unconstrained LGBM",
           "Density"
          ],
          [
           130.57187528011121,
           "Unconstrained LGBM",
           "Density"
          ],
          [
           130.57187528011121,
           "Unconstrained LGBM",
           "Density"
          ],
          [
           130.57187528011121,
           "Unconstrained LGBM",
           "Density"
          ],
          [
           130.57187528011121,
           "Unconstrained LGBM",
           "Density"
          ],
          [
           130.57187528011121,
           "Unconstrained LGBM",
           "Density"
          ],
          [
           130.57187528011121,
           "Unconstrained LGBM",
           "Density"
          ],
          [
           130.57187528011121,
           "Unconstrained LGBM",
           "Density"
          ],
          [
           130.57187528011121,
           "Unconstrained LGBM",
           "Density"
          ],
          [
           130.57187528011121,
           "Unconstrained LGBM",
           "Density"
          ],
          [
           130.57187528011121,
           "Unconstrained LGBM",
           "Density"
          ],
          [
           130.57187528011121,
           "Unconstrained LGBM",
           "Density"
          ],
          [
           130.57187528011121,
           "Unconstrained LGBM",
           "Density"
          ],
          [
           130.57187528011121,
           "Unconstrained LGBM",
           "Density"
          ],
          [
           130.57187528011121,
           "Unconstrained LGBM",
           "Density"
          ],
          [
           130.57187528011121,
           "Unconstrained LGBM",
           "Density"
          ],
          [
           130.57187528011121,
           "Unconstrained LGBM",
           "Density"
          ],
          [
           130.57187528011121,
           "Unconstrained LGBM",
           "Density"
          ]
         ],
         "hovertemplate": "<b>%{hovertext}</b><br><br>prediction=%{y:.3f}<br>mean_prediction=%{customdata[0]:.3f}<extra></extra>",
         "hovertext": [
          "Unconstrained LGBM",
          "Unconstrained LGBM",
          "Unconstrained LGBM",
          "Unconstrained LGBM",
          "Unconstrained LGBM",
          "Unconstrained LGBM",
          "Unconstrained LGBM",
          "Unconstrained LGBM",
          "Unconstrained LGBM",
          "Unconstrained LGBM",
          "Unconstrained LGBM",
          "Unconstrained LGBM",
          "Unconstrained LGBM",
          "Unconstrained LGBM",
          "Unconstrained LGBM",
          "Unconstrained LGBM",
          "Unconstrained LGBM",
          "Unconstrained LGBM",
          "Unconstrained LGBM",
          "Unconstrained LGBM",
          "Unconstrained LGBM",
          "Unconstrained LGBM",
          "Unconstrained LGBM",
          "Unconstrained LGBM",
          "Unconstrained LGBM",
          "Unconstrained LGBM",
          "Unconstrained LGBM",
          "Unconstrained LGBM",
          "Unconstrained LGBM",
          "Unconstrained LGBM",
          "Unconstrained LGBM",
          "Unconstrained LGBM",
          "Unconstrained LGBM",
          "Unconstrained LGBM",
          "Unconstrained LGBM",
          "Unconstrained LGBM",
          "Unconstrained LGBM",
          "Unconstrained LGBM",
          "Unconstrained LGBM",
          "Unconstrained LGBM",
          "Unconstrained LGBM",
          "Unconstrained LGBM",
          "Unconstrained LGBM",
          "Unconstrained LGBM",
          "Unconstrained LGBM",
          "Unconstrained LGBM",
          "Unconstrained LGBM",
          "Unconstrained LGBM",
          "Unconstrained LGBM",
          "Unconstrained LGBM",
          "Unconstrained LGBM",
          "Unconstrained LGBM",
          "Unconstrained LGBM",
          "Unconstrained LGBM",
          "Unconstrained LGBM",
          "Unconstrained LGBM",
          "Unconstrained LGBM",
          "Unconstrained LGBM",
          "Unconstrained LGBM",
          "Unconstrained LGBM",
          "Unconstrained LGBM",
          "Unconstrained LGBM",
          "Unconstrained LGBM",
          "Unconstrained LGBM",
          "Unconstrained LGBM",
          "Unconstrained LGBM",
          "Unconstrained LGBM",
          "Unconstrained LGBM",
          "Unconstrained LGBM",
          "Unconstrained LGBM",
          "Unconstrained LGBM",
          "Unconstrained LGBM",
          "Unconstrained LGBM",
          "Unconstrained LGBM",
          "Unconstrained LGBM",
          "Unconstrained LGBM",
          "Unconstrained LGBM",
          "Unconstrained LGBM",
          "Unconstrained LGBM",
          "Unconstrained LGBM",
          "Unconstrained LGBM",
          "Unconstrained LGBM",
          "Unconstrained LGBM",
          "Unconstrained LGBM",
          "Unconstrained LGBM",
          "Unconstrained LGBM",
          "Unconstrained LGBM",
          "Unconstrained LGBM",
          "Unconstrained LGBM",
          "Unconstrained LGBM",
          "Unconstrained LGBM",
          "Unconstrained LGBM",
          "Unconstrained LGBM",
          "Unconstrained LGBM",
          "Unconstrained LGBM",
          "Unconstrained LGBM",
          "Unconstrained LGBM",
          "Unconstrained LGBM",
          "Unconstrained LGBM",
          "Unconstrained LGBM",
          "Unconstrained LGBM"
         ],
         "legendgroup": "Unconstrained LGBM",
         "line": {
          "color": "#46bac2",
          "dash": "solid",
          "width": 2
         },
         "marker": {
          "symbol": "circle"
         },
         "mode": "lines",
         "name": "Unconstrained LGBM",
         "opacity": 1,
         "orientation": "v",
         "showlegend": false,
         "type": "scatter",
         "x": [
          1,
          270.99,
          540.98,
          810.97,
          1080.96,
          1350.95,
          1620.94,
          1890.93,
          2160.92,
          2430.91,
          2700.9,
          2970.8900000000003,
          3240.88,
          3510.87,
          3780.86,
          4050.8500000000004,
          4320.84,
          4590.83,
          4860.82,
          5130.81,
          5400.8,
          5670.79,
          5940.780000000001,
          6210.77,
          6480.76,
          6750.75,
          7020.74,
          7290.7300000000005,
          7560.72,
          7830.71,
          8100.700000000001,
          8370.69,
          8640.68,
          8910.67,
          9180.66,
          9450.65,
          9720.64,
          9990.630000000001,
          10260.62,
          10530.61,
          10800.6,
          11070.59,
          11340.58,
          11610.57,
          11880.560000000001,
          12150.550000000001,
          12420.54,
          12690.53,
          12960.52,
          13230.51,
          13500.5,
          13770.49,
          14040.48,
          14310.470000000001,
          14580.460000000001,
          14850.45,
          15120.44,
          15390.43,
          15660.42,
          15930.41,
          16200.400000000001,
          16470.39,
          16740.38,
          17010.37,
          17280.36,
          17550.350000000002,
          17820.34,
          18090.33,
          18360.32,
          18630.31,
          18900.3,
          19170.29,
          19440.28,
          19710.27,
          19980.260000000002,
          20250.25,
          20520.24,
          20790.23,
          21060.22,
          21330.21,
          21600.2,
          21870.190000000002,
          22140.18,
          22410.170000000002,
          22680.16,
          22950.15,
          23220.14,
          23490.13,
          23760.120000000003,
          24030.11,
          24300.100000000002,
          24570.09,
          24840.08,
          25110.07,
          25380.06,
          25650.05,
          25920.04,
          26190.030000000002,
          26460.02,
          26730.010000000002,
          27000
         ],
         "xaxis": "x2",
         "y": [
          87.0963947911503,
          121.39267064772702,
          136.30826029334995,
          139.53164846056734,
          140.6822789547335,
          157.2028285310843,
          138.14185603904923,
          136.2092972187057,
          136.2759261212813,
          150.48609283660844,
          151.33786919501455,
          151.95889363841616,
          150.97832619472717,
          144.6896831540389,
          153.8320406721043,
          153.76320700701552,
          151.48928864019342,
          148.47726780572685,
          147.61385167571368,
          147.61385167571368,
          146.6271434264288,
          146.34257852426978,
          146.27898520985642,
          146.27898520985642,
          146.46239548308893,
          146.46239548308893,
          146.46239548308893,
          146.46239548308893,
          146.46239548308893,
          146.46239548308893,
          146.46239548308893,
          146.72577942258147,
          148.98692904744314,
          148.98692904744314,
          148.98692904744314,
          149.09815768720156,
          149.09815768720156,
          149.09815768720156,
          149.09815768720156,
          149.09815768720156,
          148.81972637284375,
          148.81972637284375,
          148.81972637284375,
          148.81972637284375,
          148.81972637284375,
          148.81972637284375,
          148.81972637284375,
          148.81972637284375,
          148.81972637284375,
          148.81972637284375,
          148.81972637284375,
          148.81972637284375,
          148.81972637284375,
          148.81972637284375,
          148.81972637284375,
          148.81972637284375,
          148.81972637284375,
          148.81972637284375,
          148.81972637284375,
          150.11176580938056,
          150.11176580938056,
          150.11176580938056,
          150.11176580938056,
          150.11176580938056,
          150.11176580938056,
          150.11176580938056,
          150.11176580938056,
          150.11176580938056,
          150.11176580938056,
          150.11176580938056,
          150.11176580938056,
          155.3120125355529,
          155.3120125355529,
          155.3120125355529,
          155.3120125355529,
          155.3120125355529,
          155.3120125355529,
          155.3120125355529,
          155.3120125355529,
          155.3120125355529,
          155.3120125355529,
          155.3120125355529,
          155.3120125355529,
          155.3120125355529,
          155.3120125355529,
          155.3120125355529,
          155.3120125355529,
          155.3120125355529,
          155.3120125355529,
          155.3120125355529,
          155.3120125355529,
          155.3120125355529,
          155.3120125355529,
          155.3120125355529,
          156.3861712953543,
          156.3861712953543,
          156.3861712953543,
          156.3861712953543,
          156.3861712953543,
          156.3861712953543,
          156.3861712953543
         ],
         "yaxis": "y2"
        }
       ],
       "layout": {
        "annotations": [
         {
          "font": {
           "size": 13
          },
          "showarrow": false,
          "text": "BonusMalus",
          "x": 0.2375,
          "xanchor": "center",
          "xref": "paper",
          "y": 1,
          "yanchor": "bottom",
          "yref": "paper"
         },
         {
          "font": {
           "size": 13
          },
          "showarrow": false,
          "text": "Density",
          "x": 0.7625,
          "xanchor": "center",
          "xref": "paper",
          "y": 1,
          "yanchor": "bottom",
          "yref": "paper"
         },
         {
          "font": {
           "size": 13
          },
          "showarrow": false,
          "text": "prediction",
          "textangle": -90,
          "x": -0.07,
          "xref": "paper",
          "y": 0.5,
          "yref": "paper"
         }
        ],
        "font": {
         "color": "#371ea3"
        },
        "height": 489,
        "hovermode": "x unified",
        "legend": {
         "font": {
          "size": 11
         },
         "itemsizing": "constant",
         "orientation": "h",
         "title": {
          "font": {
           "size": 12
          },
          "text": "label"
         },
         "tracegroupgap": 0,
         "x": 1,
         "xanchor": "right",
         "y": 1.0613496932515338,
         "yanchor": "bottom"
        },
        "margin": {
         "b": 71,
         "r": 30,
         "t": 78
        },
        "template": {
         "data": {
          "scatter": [
           {
            "type": "scatter"
           }
          ]
         }
        },
        "title": {
         "font": {
          "size": 16
         },
         "text": "Aggregated Profiles",
         "x": 0.15
        },
        "xaxis": {
         "anchor": "y",
         "automargin": true,
         "domain": [
          0,
          0.475
         ],
         "fixedrange": true,
         "gridwidth": 2,
         "showticklabels": true,
         "tickcolor": "white",
         "ticklen": 3,
         "ticks": "outside",
         "title": {
          "text": ""
         },
         "type": "linear",
         "zeroline": false
        },
        "xaxis2": {
         "anchor": "y2",
         "automargin": true,
         "domain": [
          0.525,
          1
         ],
         "fixedrange": true,
         "gridwidth": 2,
         "showticklabels": true,
         "tickcolor": "white",
         "ticklen": 3,
         "ticks": "outside",
         "title": {
          "text": ""
         },
         "type": "linear",
         "zeroline": false
        },
        "yaxis": {
         "anchor": "x",
         "automargin": true,
         "domain": [
          0,
          1
         ],
         "fixedrange": true,
         "gridwidth": 2,
         "range": [
          4.381848779649246,
          920.7706230384332
         ],
         "tickcolor": "white",
         "ticklen": 3,
         "ticks": "outside",
         "title": {
          "text": ""
         },
         "type": "linear",
         "zeroline": false
        },
        "yaxis2": {
         "anchor": "x2",
         "automargin": true,
         "domain": [
          0,
          1
         ],
         "fixedrange": true,
         "gridwidth": 2,
         "matches": "y",
         "showticklabels": false,
         "tickcolor": "white",
         "ticklen": 3,
         "ticks": "outside",
         "title": {
          "text": ""
         },
         "type": "linear",
         "zeroline": false
        }
       }
      }
     },
     "metadata": {},
     "output_type": "display_data"
    }
   ],
   "source": [
    "# Plots for unconstrained LGBM\n",
    "\n",
    "pd_lgbm_unconstrained.plot()"
   ]
  },
  {
   "cell_type": "code",
   "execution_count": 28,
   "metadata": {},
   "outputs": [
    {
     "data": {
      "application/vnd.plotly.v1+json": {
       "config": {
        "displaylogo": false,
        "modeBarButtonsToRemove": [
         "sendDataToCloud",
         "lasso2d",
         "autoScale2d",
         "select2d",
         "zoom2d",
         "pan2d",
         "zoomIn2d",
         "zoomOut2d",
         "resetScale2d",
         "toggleSpikelines",
         "hoverCompareCartesian",
         "hoverClosestCartesian"
        ],
        "plotlyServerURL": "https://plot.ly",
        "staticPlot": false,
        "toImageButtonOptions": {
         "height": null,
         "width": null
        }
       },
       "data": [
        {
         "customdata": [
          [
           139.5804312972625,
           "Constrained LGBM",
           "BonusMalus"
          ],
          [
           139.5804312972625,
           "Constrained LGBM",
           "BonusMalus"
          ],
          [
           139.5804312972625,
           "Constrained LGBM",
           "BonusMalus"
          ],
          [
           139.5804312972625,
           "Constrained LGBM",
           "BonusMalus"
          ],
          [
           139.5804312972625,
           "Constrained LGBM",
           "BonusMalus"
          ],
          [
           139.5804312972625,
           "Constrained LGBM",
           "BonusMalus"
          ],
          [
           139.5804312972625,
           "Constrained LGBM",
           "BonusMalus"
          ],
          [
           139.5804312972625,
           "Constrained LGBM",
           "BonusMalus"
          ],
          [
           139.5804312972625,
           "Constrained LGBM",
           "BonusMalus"
          ],
          [
           139.5804312972625,
           "Constrained LGBM",
           "BonusMalus"
          ],
          [
           139.5804312972625,
           "Constrained LGBM",
           "BonusMalus"
          ],
          [
           139.5804312972625,
           "Constrained LGBM",
           "BonusMalus"
          ],
          [
           139.5804312972625,
           "Constrained LGBM",
           "BonusMalus"
          ],
          [
           139.5804312972625,
           "Constrained LGBM",
           "BonusMalus"
          ],
          [
           139.5804312972625,
           "Constrained LGBM",
           "BonusMalus"
          ],
          [
           139.5804312972625,
           "Constrained LGBM",
           "BonusMalus"
          ],
          [
           139.5804312972625,
           "Constrained LGBM",
           "BonusMalus"
          ],
          [
           139.5804312972625,
           "Constrained LGBM",
           "BonusMalus"
          ],
          [
           139.5804312972625,
           "Constrained LGBM",
           "BonusMalus"
          ],
          [
           139.5804312972625,
           "Constrained LGBM",
           "BonusMalus"
          ],
          [
           139.5804312972625,
           "Constrained LGBM",
           "BonusMalus"
          ],
          [
           139.5804312972625,
           "Constrained LGBM",
           "BonusMalus"
          ],
          [
           139.5804312972625,
           "Constrained LGBM",
           "BonusMalus"
          ],
          [
           139.5804312972625,
           "Constrained LGBM",
           "BonusMalus"
          ],
          [
           139.5804312972625,
           "Constrained LGBM",
           "BonusMalus"
          ],
          [
           139.5804312972625,
           "Constrained LGBM",
           "BonusMalus"
          ],
          [
           139.5804312972625,
           "Constrained LGBM",
           "BonusMalus"
          ],
          [
           139.5804312972625,
           "Constrained LGBM",
           "BonusMalus"
          ],
          [
           139.5804312972625,
           "Constrained LGBM",
           "BonusMalus"
          ],
          [
           139.5804312972625,
           "Constrained LGBM",
           "BonusMalus"
          ],
          [
           139.5804312972625,
           "Constrained LGBM",
           "BonusMalus"
          ],
          [
           139.5804312972625,
           "Constrained LGBM",
           "BonusMalus"
          ],
          [
           139.5804312972625,
           "Constrained LGBM",
           "BonusMalus"
          ],
          [
           139.5804312972625,
           "Constrained LGBM",
           "BonusMalus"
          ],
          [
           139.5804312972625,
           "Constrained LGBM",
           "BonusMalus"
          ],
          [
           139.5804312972625,
           "Constrained LGBM",
           "BonusMalus"
          ],
          [
           139.5804312972625,
           "Constrained LGBM",
           "BonusMalus"
          ],
          [
           139.5804312972625,
           "Constrained LGBM",
           "BonusMalus"
          ],
          [
           139.5804312972625,
           "Constrained LGBM",
           "BonusMalus"
          ],
          [
           139.5804312972625,
           "Constrained LGBM",
           "BonusMalus"
          ],
          [
           139.5804312972625,
           "Constrained LGBM",
           "BonusMalus"
          ],
          [
           139.5804312972625,
           "Constrained LGBM",
           "BonusMalus"
          ],
          [
           139.5804312972625,
           "Constrained LGBM",
           "BonusMalus"
          ],
          [
           139.5804312972625,
           "Constrained LGBM",
           "BonusMalus"
          ],
          [
           139.5804312972625,
           "Constrained LGBM",
           "BonusMalus"
          ],
          [
           139.5804312972625,
           "Constrained LGBM",
           "BonusMalus"
          ],
          [
           139.5804312972625,
           "Constrained LGBM",
           "BonusMalus"
          ],
          [
           139.5804312972625,
           "Constrained LGBM",
           "BonusMalus"
          ],
          [
           139.5804312972625,
           "Constrained LGBM",
           "BonusMalus"
          ],
          [
           139.5804312972625,
           "Constrained LGBM",
           "BonusMalus"
          ],
          [
           139.5804312972625,
           "Constrained LGBM",
           "BonusMalus"
          ],
          [
           139.5804312972625,
           "Constrained LGBM",
           "BonusMalus"
          ],
          [
           139.5804312972625,
           "Constrained LGBM",
           "BonusMalus"
          ],
          [
           139.5804312972625,
           "Constrained LGBM",
           "BonusMalus"
          ],
          [
           139.5804312972625,
           "Constrained LGBM",
           "BonusMalus"
          ],
          [
           139.5804312972625,
           "Constrained LGBM",
           "BonusMalus"
          ],
          [
           139.5804312972625,
           "Constrained LGBM",
           "BonusMalus"
          ],
          [
           139.5804312972625,
           "Constrained LGBM",
           "BonusMalus"
          ],
          [
           139.5804312972625,
           "Constrained LGBM",
           "BonusMalus"
          ],
          [
           139.5804312972625,
           "Constrained LGBM",
           "BonusMalus"
          ],
          [
           139.5804312972625,
           "Constrained LGBM",
           "BonusMalus"
          ],
          [
           139.5804312972625,
           "Constrained LGBM",
           "BonusMalus"
          ],
          [
           139.5804312972625,
           "Constrained LGBM",
           "BonusMalus"
          ],
          [
           139.5804312972625,
           "Constrained LGBM",
           "BonusMalus"
          ],
          [
           139.5804312972625,
           "Constrained LGBM",
           "BonusMalus"
          ],
          [
           139.5804312972625,
           "Constrained LGBM",
           "BonusMalus"
          ],
          [
           139.5804312972625,
           "Constrained LGBM",
           "BonusMalus"
          ],
          [
           139.5804312972625,
           "Constrained LGBM",
           "BonusMalus"
          ],
          [
           139.5804312972625,
           "Constrained LGBM",
           "BonusMalus"
          ],
          [
           139.5804312972625,
           "Constrained LGBM",
           "BonusMalus"
          ],
          [
           139.5804312972625,
           "Constrained LGBM",
           "BonusMalus"
          ],
          [
           139.5804312972625,
           "Constrained LGBM",
           "BonusMalus"
          ],
          [
           139.5804312972625,
           "Constrained LGBM",
           "BonusMalus"
          ],
          [
           139.5804312972625,
           "Constrained LGBM",
           "BonusMalus"
          ],
          [
           139.5804312972625,
           "Constrained LGBM",
           "BonusMalus"
          ],
          [
           139.5804312972625,
           "Constrained LGBM",
           "BonusMalus"
          ],
          [
           139.5804312972625,
           "Constrained LGBM",
           "BonusMalus"
          ],
          [
           139.5804312972625,
           "Constrained LGBM",
           "BonusMalus"
          ],
          [
           139.5804312972625,
           "Constrained LGBM",
           "BonusMalus"
          ],
          [
           139.5804312972625,
           "Constrained LGBM",
           "BonusMalus"
          ],
          [
           139.5804312972625,
           "Constrained LGBM",
           "BonusMalus"
          ],
          [
           139.5804312972625,
           "Constrained LGBM",
           "BonusMalus"
          ],
          [
           139.5804312972625,
           "Constrained LGBM",
           "BonusMalus"
          ],
          [
           139.5804312972625,
           "Constrained LGBM",
           "BonusMalus"
          ],
          [
           139.5804312972625,
           "Constrained LGBM",
           "BonusMalus"
          ],
          [
           139.5804312972625,
           "Constrained LGBM",
           "BonusMalus"
          ],
          [
           139.5804312972625,
           "Constrained LGBM",
           "BonusMalus"
          ],
          [
           139.5804312972625,
           "Constrained LGBM",
           "BonusMalus"
          ],
          [
           139.5804312972625,
           "Constrained LGBM",
           "BonusMalus"
          ],
          [
           139.5804312972625,
           "Constrained LGBM",
           "BonusMalus"
          ],
          [
           139.5804312972625,
           "Constrained LGBM",
           "BonusMalus"
          ],
          [
           139.5804312972625,
           "Constrained LGBM",
           "BonusMalus"
          ],
          [
           139.5804312972625,
           "Constrained LGBM",
           "BonusMalus"
          ],
          [
           139.5804312972625,
           "Constrained LGBM",
           "BonusMalus"
          ],
          [
           139.5804312972625,
           "Constrained LGBM",
           "BonusMalus"
          ],
          [
           139.5804312972625,
           "Constrained LGBM",
           "BonusMalus"
          ],
          [
           139.5804312972625,
           "Constrained LGBM",
           "BonusMalus"
          ],
          [
           139.5804312972625,
           "Constrained LGBM",
           "BonusMalus"
          ],
          [
           139.5804312972625,
           "Constrained LGBM",
           "BonusMalus"
          ],
          [
           139.5804312972625,
           "Constrained LGBM",
           "BonusMalus"
          ],
          [
           139.5804312972625,
           "Constrained LGBM",
           "BonusMalus"
          ]
         ],
         "hovertemplate": "<b>%{hovertext}</b><br><br>prediction=%{y:.3f}<br>mean_prediction=%{customdata[0]:.3f}<extra></extra>",
         "hovertext": [
          "Constrained LGBM",
          "Constrained LGBM",
          "Constrained LGBM",
          "Constrained LGBM",
          "Constrained LGBM",
          "Constrained LGBM",
          "Constrained LGBM",
          "Constrained LGBM",
          "Constrained LGBM",
          "Constrained LGBM",
          "Constrained LGBM",
          "Constrained LGBM",
          "Constrained LGBM",
          "Constrained LGBM",
          "Constrained LGBM",
          "Constrained LGBM",
          "Constrained LGBM",
          "Constrained LGBM",
          "Constrained LGBM",
          "Constrained LGBM",
          "Constrained LGBM",
          "Constrained LGBM",
          "Constrained LGBM",
          "Constrained LGBM",
          "Constrained LGBM",
          "Constrained LGBM",
          "Constrained LGBM",
          "Constrained LGBM",
          "Constrained LGBM",
          "Constrained LGBM",
          "Constrained LGBM",
          "Constrained LGBM",
          "Constrained LGBM",
          "Constrained LGBM",
          "Constrained LGBM",
          "Constrained LGBM",
          "Constrained LGBM",
          "Constrained LGBM",
          "Constrained LGBM",
          "Constrained LGBM",
          "Constrained LGBM",
          "Constrained LGBM",
          "Constrained LGBM",
          "Constrained LGBM",
          "Constrained LGBM",
          "Constrained LGBM",
          "Constrained LGBM",
          "Constrained LGBM",
          "Constrained LGBM",
          "Constrained LGBM",
          "Constrained LGBM",
          "Constrained LGBM",
          "Constrained LGBM",
          "Constrained LGBM",
          "Constrained LGBM",
          "Constrained LGBM",
          "Constrained LGBM",
          "Constrained LGBM",
          "Constrained LGBM",
          "Constrained LGBM",
          "Constrained LGBM",
          "Constrained LGBM",
          "Constrained LGBM",
          "Constrained LGBM",
          "Constrained LGBM",
          "Constrained LGBM",
          "Constrained LGBM",
          "Constrained LGBM",
          "Constrained LGBM",
          "Constrained LGBM",
          "Constrained LGBM",
          "Constrained LGBM",
          "Constrained LGBM",
          "Constrained LGBM",
          "Constrained LGBM",
          "Constrained LGBM",
          "Constrained LGBM",
          "Constrained LGBM",
          "Constrained LGBM",
          "Constrained LGBM",
          "Constrained LGBM",
          "Constrained LGBM",
          "Constrained LGBM",
          "Constrained LGBM",
          "Constrained LGBM",
          "Constrained LGBM",
          "Constrained LGBM",
          "Constrained LGBM",
          "Constrained LGBM",
          "Constrained LGBM",
          "Constrained LGBM",
          "Constrained LGBM",
          "Constrained LGBM",
          "Constrained LGBM",
          "Constrained LGBM",
          "Constrained LGBM",
          "Constrained LGBM",
          "Constrained LGBM",
          "Constrained LGBM",
          "Constrained LGBM",
          "Constrained LGBM"
         ],
         "legendgroup": "Constrained LGBM",
         "line": {
          "color": "#46bac2",
          "dash": "solid",
          "width": 2
         },
         "marker": {
          "symbol": "circle"
         },
         "mode": "lines",
         "name": "Constrained LGBM",
         "opacity": 1,
         "orientation": "v",
         "showlegend": true,
         "type": "scatter",
         "x": [
          50,
          51.8,
          53.6,
          55.4,
          57.2,
          59,
          60.8,
          62.6,
          64.4,
          66.2,
          68,
          69.8,
          71.6,
          73.4,
          75.2,
          77,
          78.8,
          80.6,
          82.4,
          84.2,
          86,
          87.80000000000001,
          89.6,
          91.4,
          93.2,
          95,
          96.80000000000001,
          98.6,
          100.4,
          102.2,
          104,
          105.80000000000001,
          107.6,
          109.4,
          111.2,
          113,
          114.8,
          116.60000000000001,
          118.4,
          120.2,
          122,
          123.8,
          125.60000000000001,
          127.4,
          129.2,
          131,
          132.8,
          134.60000000000002,
          136.4,
          138.2,
          140,
          141.8,
          143.60000000000002,
          145.4,
          147.2,
          149,
          150.8,
          152.60000000000002,
          154.4,
          156.2,
          158,
          159.8,
          161.60000000000002,
          163.4,
          165.2,
          167,
          168.8,
          170.60000000000002,
          172.4,
          174.2,
          176,
          177.8,
          179.6,
          181.4,
          183.20000000000002,
          185,
          186.8,
          188.6,
          190.4,
          192.20000000000002,
          194,
          195.8,
          197.6,
          199.4,
          201.20000000000002,
          203,
          204.8,
          206.6,
          208.4,
          210.20000000000002,
          212,
          213.8,
          215.6,
          217.4,
          219.20000000000002,
          221,
          222.8,
          224.6,
          226.4,
          228.20000000000002,
          230
         ],
         "xaxis": "x",
         "y": [
          82.4357052583636,
          118.70005740892009,
          112.78650856475159,
          136.8872932941096,
          117.51572800599504,
          167.0246302388375,
          149.2259474872579,
          217.7349583015565,
          136.81071250762105,
          156.01877696906303,
          142.2936965651845,
          209.21079433148097,
          177.91886065118723,
          211.10876162007258,
          218.2751792933689,
          194.5424279882328,
          194.17655515025314,
          194.1141699573437,
          194.5921210834674,
          194.66242503176525,
          197.84529954786126,
          199.40377481364962,
          200.84828109636484,
          225.73163222730471,
          225.935263684709,
          227.3155676926423,
          442.4323222299122,
          442.88951354094587,
          411.8881697214131,
          427.64371142390365,
          427.64371142390365,
          427.64371142390365,
          426.7187177532293,
          426.7187177532293,
          476.71735127724884,
          477.387782451348,
          476.6773463918516,
          476.6773463918516,
          476.92294901421894,
          485.69471633096344,
          501.16266842201014,
          501.16266842201014,
          501.16266842201014,
          501.16266842201014,
          501.16266842201014,
          501.16266842201014,
          505.44063238741444,
          505.44063238741444,
          505.44063238741444,
          505.44063238741444,
          791.284864729418,
          791.284864729418,
          791.284864729418,
          791.284864729418,
          791.284864729418,
          776.2270508820133,
          776.2270508820133,
          776.2270508820133,
          776.2270508820133,
          776.2270508820133,
          776.2270508820133,
          776.2270508820133,
          776.2270508820133,
          776.2270508820133,
          776.2270508820133,
          776.2270508820133,
          776.2270508820133,
          776.2270508820133,
          776.2270508820133,
          776.2270508820133,
          776.2270508820133,
          776.2270508820133,
          776.2270508820133,
          776.2270508820133,
          776.2270508820133,
          776.2270508820133,
          776.2270508820133,
          776.2270508820133,
          776.2270508820133,
          776.2270508820133,
          776.2270508820133,
          776.2270508820133,
          776.2270508820133,
          776.2270508820133,
          776.2270508820133,
          776.2270508820133,
          776.2270508820133,
          776.2270508820133,
          776.2270508820133,
          776.2270508820133,
          776.2270508820133,
          776.2270508820133,
          776.2270508820133,
          776.2270508820133,
          776.2270508820133,
          776.2270508820133,
          776.2270508820133,
          776.2270508820133,
          776.2270508820133,
          776.2270508820133,
          776.2270508820133
         ],
         "yaxis": "y"
        },
        {
         "customdata": [
          [
           139.5804312972625,
           "Constrained LGBM",
           "Density"
          ],
          [
           139.5804312972625,
           "Constrained LGBM",
           "Density"
          ],
          [
           139.5804312972625,
           "Constrained LGBM",
           "Density"
          ],
          [
           139.5804312972625,
           "Constrained LGBM",
           "Density"
          ],
          [
           139.5804312972625,
           "Constrained LGBM",
           "Density"
          ],
          [
           139.5804312972625,
           "Constrained LGBM",
           "Density"
          ],
          [
           139.5804312972625,
           "Constrained LGBM",
           "Density"
          ],
          [
           139.5804312972625,
           "Constrained LGBM",
           "Density"
          ],
          [
           139.5804312972625,
           "Constrained LGBM",
           "Density"
          ],
          [
           139.5804312972625,
           "Constrained LGBM",
           "Density"
          ],
          [
           139.5804312972625,
           "Constrained LGBM",
           "Density"
          ],
          [
           139.5804312972625,
           "Constrained LGBM",
           "Density"
          ],
          [
           139.5804312972625,
           "Constrained LGBM",
           "Density"
          ],
          [
           139.5804312972625,
           "Constrained LGBM",
           "Density"
          ],
          [
           139.5804312972625,
           "Constrained LGBM",
           "Density"
          ],
          [
           139.5804312972625,
           "Constrained LGBM",
           "Density"
          ],
          [
           139.5804312972625,
           "Constrained LGBM",
           "Density"
          ],
          [
           139.5804312972625,
           "Constrained LGBM",
           "Density"
          ],
          [
           139.5804312972625,
           "Constrained LGBM",
           "Density"
          ],
          [
           139.5804312972625,
           "Constrained LGBM",
           "Density"
          ],
          [
           139.5804312972625,
           "Constrained LGBM",
           "Density"
          ],
          [
           139.5804312972625,
           "Constrained LGBM",
           "Density"
          ],
          [
           139.5804312972625,
           "Constrained LGBM",
           "Density"
          ],
          [
           139.5804312972625,
           "Constrained LGBM",
           "Density"
          ],
          [
           139.5804312972625,
           "Constrained LGBM",
           "Density"
          ],
          [
           139.5804312972625,
           "Constrained LGBM",
           "Density"
          ],
          [
           139.5804312972625,
           "Constrained LGBM",
           "Density"
          ],
          [
           139.5804312972625,
           "Constrained LGBM",
           "Density"
          ],
          [
           139.5804312972625,
           "Constrained LGBM",
           "Density"
          ],
          [
           139.5804312972625,
           "Constrained LGBM",
           "Density"
          ],
          [
           139.5804312972625,
           "Constrained LGBM",
           "Density"
          ],
          [
           139.5804312972625,
           "Constrained LGBM",
           "Density"
          ],
          [
           139.5804312972625,
           "Constrained LGBM",
           "Density"
          ],
          [
           139.5804312972625,
           "Constrained LGBM",
           "Density"
          ],
          [
           139.5804312972625,
           "Constrained LGBM",
           "Density"
          ],
          [
           139.5804312972625,
           "Constrained LGBM",
           "Density"
          ],
          [
           139.5804312972625,
           "Constrained LGBM",
           "Density"
          ],
          [
           139.5804312972625,
           "Constrained LGBM",
           "Density"
          ],
          [
           139.5804312972625,
           "Constrained LGBM",
           "Density"
          ],
          [
           139.5804312972625,
           "Constrained LGBM",
           "Density"
          ],
          [
           139.5804312972625,
           "Constrained LGBM",
           "Density"
          ],
          [
           139.5804312972625,
           "Constrained LGBM",
           "Density"
          ],
          [
           139.5804312972625,
           "Constrained LGBM",
           "Density"
          ],
          [
           139.5804312972625,
           "Constrained LGBM",
           "Density"
          ],
          [
           139.5804312972625,
           "Constrained LGBM",
           "Density"
          ],
          [
           139.5804312972625,
           "Constrained LGBM",
           "Density"
          ],
          [
           139.5804312972625,
           "Constrained LGBM",
           "Density"
          ],
          [
           139.5804312972625,
           "Constrained LGBM",
           "Density"
          ],
          [
           139.5804312972625,
           "Constrained LGBM",
           "Density"
          ],
          [
           139.5804312972625,
           "Constrained LGBM",
           "Density"
          ],
          [
           139.5804312972625,
           "Constrained LGBM",
           "Density"
          ],
          [
           139.5804312972625,
           "Constrained LGBM",
           "Density"
          ],
          [
           139.5804312972625,
           "Constrained LGBM",
           "Density"
          ],
          [
           139.5804312972625,
           "Constrained LGBM",
           "Density"
          ],
          [
           139.5804312972625,
           "Constrained LGBM",
           "Density"
          ],
          [
           139.5804312972625,
           "Constrained LGBM",
           "Density"
          ],
          [
           139.5804312972625,
           "Constrained LGBM",
           "Density"
          ],
          [
           139.5804312972625,
           "Constrained LGBM",
           "Density"
          ],
          [
           139.5804312972625,
           "Constrained LGBM",
           "Density"
          ],
          [
           139.5804312972625,
           "Constrained LGBM",
           "Density"
          ],
          [
           139.5804312972625,
           "Constrained LGBM",
           "Density"
          ],
          [
           139.5804312972625,
           "Constrained LGBM",
           "Density"
          ],
          [
           139.5804312972625,
           "Constrained LGBM",
           "Density"
          ],
          [
           139.5804312972625,
           "Constrained LGBM",
           "Density"
          ],
          [
           139.5804312972625,
           "Constrained LGBM",
           "Density"
          ],
          [
           139.5804312972625,
           "Constrained LGBM",
           "Density"
          ],
          [
           139.5804312972625,
           "Constrained LGBM",
           "Density"
          ],
          [
           139.5804312972625,
           "Constrained LGBM",
           "Density"
          ],
          [
           139.5804312972625,
           "Constrained LGBM",
           "Density"
          ],
          [
           139.5804312972625,
           "Constrained LGBM",
           "Density"
          ],
          [
           139.5804312972625,
           "Constrained LGBM",
           "Density"
          ],
          [
           139.5804312972625,
           "Constrained LGBM",
           "Density"
          ],
          [
           139.5804312972625,
           "Constrained LGBM",
           "Density"
          ],
          [
           139.5804312972625,
           "Constrained LGBM",
           "Density"
          ],
          [
           139.5804312972625,
           "Constrained LGBM",
           "Density"
          ],
          [
           139.5804312972625,
           "Constrained LGBM",
           "Density"
          ],
          [
           139.5804312972625,
           "Constrained LGBM",
           "Density"
          ],
          [
           139.5804312972625,
           "Constrained LGBM",
           "Density"
          ],
          [
           139.5804312972625,
           "Constrained LGBM",
           "Density"
          ],
          [
           139.5804312972625,
           "Constrained LGBM",
           "Density"
          ],
          [
           139.5804312972625,
           "Constrained LGBM",
           "Density"
          ],
          [
           139.5804312972625,
           "Constrained LGBM",
           "Density"
          ],
          [
           139.5804312972625,
           "Constrained LGBM",
           "Density"
          ],
          [
           139.5804312972625,
           "Constrained LGBM",
           "Density"
          ],
          [
           139.5804312972625,
           "Constrained LGBM",
           "Density"
          ],
          [
           139.5804312972625,
           "Constrained LGBM",
           "Density"
          ],
          [
           139.5804312972625,
           "Constrained LGBM",
           "Density"
          ],
          [
           139.5804312972625,
           "Constrained LGBM",
           "Density"
          ],
          [
           139.5804312972625,
           "Constrained LGBM",
           "Density"
          ],
          [
           139.5804312972625,
           "Constrained LGBM",
           "Density"
          ],
          [
           139.5804312972625,
           "Constrained LGBM",
           "Density"
          ],
          [
           139.5804312972625,
           "Constrained LGBM",
           "Density"
          ],
          [
           139.5804312972625,
           "Constrained LGBM",
           "Density"
          ],
          [
           139.5804312972625,
           "Constrained LGBM",
           "Density"
          ],
          [
           139.5804312972625,
           "Constrained LGBM",
           "Density"
          ],
          [
           139.5804312972625,
           "Constrained LGBM",
           "Density"
          ],
          [
           139.5804312972625,
           "Constrained LGBM",
           "Density"
          ],
          [
           139.5804312972625,
           "Constrained LGBM",
           "Density"
          ],
          [
           139.5804312972625,
           "Constrained LGBM",
           "Density"
          ],
          [
           139.5804312972625,
           "Constrained LGBM",
           "Density"
          ],
          [
           139.5804312972625,
           "Constrained LGBM",
           "Density"
          ]
         ],
         "hovertemplate": "<b>%{hovertext}</b><br><br>prediction=%{y:.3f}<br>mean_prediction=%{customdata[0]:.3f}<extra></extra>",
         "hovertext": [
          "Constrained LGBM",
          "Constrained LGBM",
          "Constrained LGBM",
          "Constrained LGBM",
          "Constrained LGBM",
          "Constrained LGBM",
          "Constrained LGBM",
          "Constrained LGBM",
          "Constrained LGBM",
          "Constrained LGBM",
          "Constrained LGBM",
          "Constrained LGBM",
          "Constrained LGBM",
          "Constrained LGBM",
          "Constrained LGBM",
          "Constrained LGBM",
          "Constrained LGBM",
          "Constrained LGBM",
          "Constrained LGBM",
          "Constrained LGBM",
          "Constrained LGBM",
          "Constrained LGBM",
          "Constrained LGBM",
          "Constrained LGBM",
          "Constrained LGBM",
          "Constrained LGBM",
          "Constrained LGBM",
          "Constrained LGBM",
          "Constrained LGBM",
          "Constrained LGBM",
          "Constrained LGBM",
          "Constrained LGBM",
          "Constrained LGBM",
          "Constrained LGBM",
          "Constrained LGBM",
          "Constrained LGBM",
          "Constrained LGBM",
          "Constrained LGBM",
          "Constrained LGBM",
          "Constrained LGBM",
          "Constrained LGBM",
          "Constrained LGBM",
          "Constrained LGBM",
          "Constrained LGBM",
          "Constrained LGBM",
          "Constrained LGBM",
          "Constrained LGBM",
          "Constrained LGBM",
          "Constrained LGBM",
          "Constrained LGBM",
          "Constrained LGBM",
          "Constrained LGBM",
          "Constrained LGBM",
          "Constrained LGBM",
          "Constrained LGBM",
          "Constrained LGBM",
          "Constrained LGBM",
          "Constrained LGBM",
          "Constrained LGBM",
          "Constrained LGBM",
          "Constrained LGBM",
          "Constrained LGBM",
          "Constrained LGBM",
          "Constrained LGBM",
          "Constrained LGBM",
          "Constrained LGBM",
          "Constrained LGBM",
          "Constrained LGBM",
          "Constrained LGBM",
          "Constrained LGBM",
          "Constrained LGBM",
          "Constrained LGBM",
          "Constrained LGBM",
          "Constrained LGBM",
          "Constrained LGBM",
          "Constrained LGBM",
          "Constrained LGBM",
          "Constrained LGBM",
          "Constrained LGBM",
          "Constrained LGBM",
          "Constrained LGBM",
          "Constrained LGBM",
          "Constrained LGBM",
          "Constrained LGBM",
          "Constrained LGBM",
          "Constrained LGBM",
          "Constrained LGBM",
          "Constrained LGBM",
          "Constrained LGBM",
          "Constrained LGBM",
          "Constrained LGBM",
          "Constrained LGBM",
          "Constrained LGBM",
          "Constrained LGBM",
          "Constrained LGBM",
          "Constrained LGBM",
          "Constrained LGBM",
          "Constrained LGBM",
          "Constrained LGBM",
          "Constrained LGBM",
          "Constrained LGBM"
         ],
         "legendgroup": "Constrained LGBM",
         "line": {
          "color": "#46bac2",
          "dash": "solid",
          "width": 2
         },
         "marker": {
          "symbol": "circle"
         },
         "mode": "lines",
         "name": "Constrained LGBM",
         "opacity": 1,
         "orientation": "v",
         "showlegend": false,
         "type": "scatter",
         "x": [
          1,
          270.99,
          540.98,
          810.97,
          1080.96,
          1350.95,
          1620.94,
          1890.93,
          2160.92,
          2430.91,
          2700.9,
          2970.8900000000003,
          3240.88,
          3510.87,
          3780.86,
          4050.8500000000004,
          4320.84,
          4590.83,
          4860.82,
          5130.81,
          5400.8,
          5670.79,
          5940.780000000001,
          6210.77,
          6480.76,
          6750.75,
          7020.74,
          7290.7300000000005,
          7560.72,
          7830.71,
          8100.700000000001,
          8370.69,
          8640.68,
          8910.67,
          9180.66,
          9450.65,
          9720.64,
          9990.630000000001,
          10260.62,
          10530.61,
          10800.6,
          11070.59,
          11340.58,
          11610.57,
          11880.560000000001,
          12150.550000000001,
          12420.54,
          12690.53,
          12960.52,
          13230.51,
          13500.5,
          13770.49,
          14040.48,
          14310.470000000001,
          14580.460000000001,
          14850.45,
          15120.44,
          15390.43,
          15660.42,
          15930.41,
          16200.400000000001,
          16470.39,
          16740.38,
          17010.37,
          17280.36,
          17550.350000000002,
          17820.34,
          18090.33,
          18360.32,
          18630.31,
          18900.3,
          19170.29,
          19440.28,
          19710.27,
          19980.260000000002,
          20250.25,
          20520.24,
          20790.23,
          21060.22,
          21330.21,
          21600.2,
          21870.190000000002,
          22140.18,
          22410.170000000002,
          22680.16,
          22950.15,
          23220.14,
          23490.13,
          23760.120000000003,
          24030.11,
          24300.100000000002,
          24570.09,
          24840.08,
          25110.07,
          25380.06,
          25650.05,
          25920.04,
          26190.030000000002,
          26460.02,
          26730.010000000002,
          27000
         ],
         "xaxis": "x2",
         "y": [
          89.03478370693371,
          128.49557838368574,
          141.62709421505696,
          145.1856468294558,
          146.09351109947866,
          161.99418309270368,
          145.2396754622139,
          142.81883775412032,
          143.04815138334672,
          156.46678814041294,
          156.7288762122929,
          157.9499666049781,
          156.7942289415648,
          151.71303461975054,
          159.15659882170831,
          159.0705932809151,
          155.65643345785912,
          153.1314057327756,
          151.89589790147843,
          151.89589790147843,
          151.02791252100053,
          150.68566982434302,
          150.44626812468704,
          150.44626812468704,
          150.7987605969618,
          150.7987605969618,
          150.7987605969618,
          150.7987605969618,
          150.7987605969618,
          150.7987605969618,
          150.7987605969618,
          151.1280084891042,
          154.15394659623303,
          154.15394659623303,
          154.15394659623303,
          154.46608301714326,
          154.46608301714326,
          154.46608301714326,
          154.46608301714326,
          154.46608301714326,
          154.11489801909067,
          154.11489801909067,
          154.11489801909067,
          154.11489801909067,
          154.11489801909067,
          154.11489801909067,
          154.11489801909067,
          154.11489801909067,
          154.11489801909067,
          154.11489801909067,
          154.11489801909067,
          154.11489801909067,
          154.11489801909067,
          154.11489801909067,
          154.11489801909067,
          154.11489801909067,
          154.11489801909067,
          154.11489801909067,
          154.11489801909067,
          156.95125387611247,
          156.95125387611247,
          156.95125387611247,
          156.95125387611247,
          156.95125387611247,
          156.95125387611247,
          156.95125387611247,
          156.95125387611247,
          156.95125387611247,
          156.95125387611247,
          156.95125387611247,
          156.95125387611247,
          169.1024983992708,
          169.1024983992708,
          169.1024983992708,
          169.1024983992708,
          169.1024983992708,
          169.1024983992708,
          169.1024983992708,
          169.1024983992708,
          169.1024983992708,
          169.1024983992708,
          169.1024983992708,
          169.1024983992708,
          169.1024983992708,
          169.1024983992708,
          169.1024983992708,
          169.1024983992708,
          169.1024983992708,
          169.1024983992708,
          169.1024983992708,
          169.1024983992708,
          169.1024983992708,
          169.1024983992708,
          169.1024983992708,
          170.4226171960475,
          170.4226171960475,
          170.4226171960475,
          170.4226171960475,
          170.4226171960475,
          170.4226171960475,
          170.4226171960475
         ],
         "yaxis": "y2"
        }
       ],
       "layout": {
        "annotations": [
         {
          "font": {
           "size": 13
          },
          "showarrow": false,
          "text": "BonusMalus",
          "x": 0.2375,
          "xanchor": "center",
          "xref": "paper",
          "y": 1,
          "yanchor": "bottom",
          "yref": "paper"
         },
         {
          "font": {
           "size": 13
          },
          "showarrow": false,
          "text": "Density",
          "x": 0.7625,
          "xanchor": "center",
          "xref": "paper",
          "y": 1,
          "yanchor": "bottom",
          "yref": "paper"
         },
         {
          "font": {
           "size": 13
          },
          "showarrow": false,
          "text": "prediction",
          "textangle": -90,
          "x": -0.07,
          "xref": "paper",
          "y": 0.5,
          "yref": "paper"
         }
        ],
        "font": {
         "color": "#371ea3"
        },
        "height": 489,
        "hovermode": "x unified",
        "legend": {
         "font": {
          "size": 11
         },
         "itemsizing": "constant",
         "orientation": "h",
         "title": {
          "font": {
           "size": 12
          },
          "text": "label"
         },
         "tracegroupgap": 0,
         "x": 1,
         "xanchor": "right",
         "y": 1.0613496932515338,
         "yanchor": "bottom"
        },
        "margin": {
         "b": 71,
         "r": 30,
         "t": 78
        },
        "template": {
         "data": {
          "scatter": [
           {
            "type": "scatter"
           }
          ]
         }
        },
        "title": {
         "font": {
          "size": 16
         },
         "text": "Aggregated Profiles",
         "x": 0.15
        },
        "xaxis": {
         "anchor": "y",
         "automargin": true,
         "domain": [
          0,
          0.475
         ],
         "fixedrange": true,
         "gridwidth": 2,
         "showticklabels": true,
         "tickcolor": "white",
         "ticklen": 3,
         "ticks": "outside",
         "title": {
          "text": ""
         },
         "type": "linear",
         "zeroline": false
        },
        "xaxis2": {
         "anchor": "y2",
         "automargin": true,
         "domain": [
          0.525,
          1
         ],
         "fixedrange": true,
         "gridwidth": 2,
         "showticklabels": true,
         "tickcolor": "white",
         "ticklen": 3,
         "ticks": "outside",
         "title": {
          "text": ""
         },
         "type": "linear",
         "zeroline": false
        },
        "yaxis": {
         "anchor": "x",
         "automargin": true,
         "domain": [
          0,
          1
         ],
         "fixedrange": true,
         "gridwidth": 2,
         "range": [
          11.550789311258143,
          862.1697806765235
         ],
         "tickcolor": "white",
         "ticklen": 3,
         "ticks": "outside",
         "title": {
          "text": ""
         },
         "type": "linear",
         "zeroline": false
        },
        "yaxis2": {
         "anchor": "x2",
         "automargin": true,
         "domain": [
          0,
          1
         ],
         "fixedrange": true,
         "gridwidth": 2,
         "matches": "y",
         "showticklabels": false,
         "tickcolor": "white",
         "ticklen": 3,
         "ticks": "outside",
         "title": {
          "text": ""
         },
         "type": "linear",
         "zeroline": false
        }
       }
      }
     },
     "metadata": {},
     "output_type": "display_data"
    }
   ],
   "source": [
    "# Plots for constrained LGBM\n",
    "\n",
    "pd_lgbm_constrained.plot()"
   ]
  },
  {
   "cell_type": "code",
   "execution_count": 29,
   "metadata": {},
   "outputs": [
    {
     "name": "stderr",
     "output_type": "stream",
     "text": [
      "Calculating ceteris paribus:   0%|          | 0/9 [00:00<?, ?it/s]/opt/anaconda3/envs/ps3_2/lib/python3.12/site-packages/dalex/predict_explanations/_ceteris_paribus/utils.py:100: FutureWarning:\n",
      "\n",
      "Setting an item of incompatible dtype is deprecated and will raise in a future error of pandas. Value '[ 50.   51.8  53.6 ... 226.4 228.2 230. ]' has dtype incompatible with int64, please explicitly cast to a compatible dtype first.\n",
      "\n",
      "/opt/anaconda3/envs/ps3_2/lib/python3.12/site-packages/dalex/predict_explanations/_ceteris_paribus/utils.py:100: FutureWarning:\n",
      "\n",
      "Setting an item of incompatible dtype is deprecated and will raise in a future error of pandas. Value '[1.000000e+00 2.709900e+02 5.409800e+02 ... 2.646002e+04 2.673001e+04\n",
      " 2.700000e+04]' has dtype incompatible with int64, please explicitly cast to a compatible dtype first.\n",
      "\n",
      "Calculating ceteris paribus: 100%|██████████| 9/9 [00:00<00:00, 73.86it/s]\n",
      "Calculating ceteris paribus:   0%|          | 0/9 [00:00<?, ?it/s]/opt/anaconda3/envs/ps3_2/lib/python3.12/site-packages/dalex/predict_explanations/_ceteris_paribus/utils.py:100: FutureWarning:\n",
      "\n",
      "Setting an item of incompatible dtype is deprecated and will raise in a future error of pandas. Value '[ 50.   51.8  53.6 ... 226.4 228.2 230. ]' has dtype incompatible with int64, please explicitly cast to a compatible dtype first.\n",
      "\n",
      "/opt/anaconda3/envs/ps3_2/lib/python3.12/site-packages/dalex/predict_explanations/_ceteris_paribus/utils.py:100: FutureWarning:\n",
      "\n",
      "Setting an item of incompatible dtype is deprecated and will raise in a future error of pandas. Value '[1.000000e+00 2.709900e+02 5.409800e+02 ... 2.646002e+04 2.673001e+04\n",
      " 2.700000e+04]' has dtype incompatible with int64, please explicitly cast to a compatible dtype first.\n",
      "\n",
      "Calculating ceteris paribus: 100%|██████████| 9/9 [00:00<00:00, 78.03it/s]\n"
     ]
    }
   ],
   "source": [
    "# Model profile for categorical variables\n",
    "\n",
    "# unconstrained LGBM\n",
    "pd_lgbm_unconstrained_cat = best_unconstrained_lgbm_exp.model_profile(variable_type=\"categorical\")\n",
    "\n",
    "# Constrained LGBM\n",
    "pd_lgbm_constrained_cat = best_constrained_lgbm_exp.model_profile(variable_type=\"categorical\")"
   ]
  },
  {
   "cell_type": "code",
   "execution_count": 30,
   "metadata": {},
   "outputs": [
    {
     "data": {
      "application/vnd.plotly.v1+json": {
       "config": {
        "displaylogo": false,
        "modeBarButtonsToRemove": [
         "sendDataToCloud",
         "lasso2d",
         "autoScale2d",
         "select2d",
         "zoom2d",
         "pan2d",
         "zoomIn2d",
         "zoomOut2d",
         "resetScale2d",
         "toggleSpikelines",
         "hoverCompareCartesian",
         "hoverClosestCartesian"
        ],
        "plotlyServerURL": "https://plot.ly",
        "staticPlot": false,
        "toImageButtonOptions": {
         "height": null,
         "width": null
        }
       },
       "data": [
        {
         "alignmentgroup": "True",
         "base": [
          130.56626602579914,
          130.56626602579914,
          130.56626602579914,
          130.56626602579914,
          130.56626602579914,
          130.56626602579914,
          130.56626602579914,
          130.56626602579914,
          130.56626602579914,
          130.56626602579914,
          130.56626602579914
         ],
         "customdata": [
          [
           111.13054834803678,
           "Unconstrained LGBM",
           "VehBrand"
          ],
          [
           124.3956764345707,
           "Unconstrained LGBM",
           "VehBrand"
          ],
          [
           134.83124167173395,
           "Unconstrained LGBM",
           "VehBrand"
          ],
          [
           138.31080811875506,
           "Unconstrained LGBM",
           "VehBrand"
          ],
          [
           139.69278822927947,
           "Unconstrained LGBM",
           "VehBrand"
          ],
          [
           142.59126811829418,
           "Unconstrained LGBM",
           "VehBrand"
          ],
          [
           129.33091859635223,
           "Unconstrained LGBM",
           "VehBrand"
          ],
          [
           121.5625056228805,
           "Unconstrained LGBM",
           "VehBrand"
          ],
          [
           132.31084017112823,
           "Unconstrained LGBM",
           "VehBrand"
          ],
          [
           137.85137470737388,
           "Unconstrained LGBM",
           "VehBrand"
          ],
          [
           164.5945672030343,
           "Unconstrained LGBM",
           "VehBrand"
          ]
         ],
         "hovertemplate": "<b>%{hovertext}</b><br><br>mean_prediction=%{base:.3f}<br>prediction=%{customdata[0]:.3f}<extra></extra>",
         "hovertext": [
          "Unconstrained LGBM",
          "Unconstrained LGBM",
          "Unconstrained LGBM",
          "Unconstrained LGBM",
          "Unconstrained LGBM",
          "Unconstrained LGBM",
          "Unconstrained LGBM",
          "Unconstrained LGBM",
          "Unconstrained LGBM",
          "Unconstrained LGBM",
          "Unconstrained LGBM"
         ],
         "legendgroup": "Unconstrained LGBM",
         "marker": {
          "color": "#46bac2",
          "pattern": {
           "shape": ""
          }
         },
         "name": "Unconstrained LGBM",
         "offsetgroup": "Unconstrained LGBM",
         "orientation": "v",
         "showlegend": true,
         "textposition": "auto",
         "type": "bar",
         "x": [
          "B12",
          "B6",
          "B3",
          "B2",
          "B5",
          "B10",
          "B14",
          "B4",
          "B1",
          "B13",
          "B11"
         ],
         "xaxis": "x7",
         "y": [
          -19.435717677762355,
          -6.170589591228435,
          4.264975645934811,
          7.744542092955925,
          9.126522203480334,
          12.025002092495043,
          -1.2353474294469038,
          -9.003760402918644,
          1.7445741453290964,
          7.285108681574741,
          34.028301177235164
         ],
         "yaxis": "y7"
        },
        {
         "alignmentgroup": "True",
         "base": [
          130.56626602579914,
          130.56626602579914
         ],
         "customdata": [
          [
           120.2984603153858,
           "Unconstrained LGBM",
           "VehGas"
          ],
          [
           144.72975813243386,
           "Unconstrained LGBM",
           "VehGas"
          ]
         ],
         "hovertemplate": "<b>%{hovertext}</b><br><br>mean_prediction=%{base:.3f}<br>prediction=%{customdata[0]:.3f}<extra></extra>",
         "hovertext": [
          "Unconstrained LGBM",
          "Unconstrained LGBM"
         ],
         "legendgroup": "Unconstrained LGBM",
         "marker": {
          "color": "#46bac2",
          "pattern": {
           "shape": ""
          }
         },
         "name": "Unconstrained LGBM",
         "offsetgroup": "Unconstrained LGBM",
         "orientation": "v",
         "showlegend": false,
         "textposition": "auto",
         "type": "bar",
         "x": [
          "Regular",
          "Diesel"
         ],
         "xaxis": "x8",
         "y": [
          -10.267805710413342,
          14.16349210663472
         ],
         "yaxis": "y8"
        },
        {
         "alignmentgroup": "True",
         "base": [
          130.56626602579914,
          130.56626602579914,
          130.56626602579914,
          130.56626602579914,
          130.56626602579914,
          130.56626602579914,
          130.56626602579914,
          130.56626602579914,
          130.56626602579914,
          130.56626602579914,
          130.56626602579914,
          130.56626602579914,
          130.56626602579914,
          130.56626602579914,
          130.56626602579914,
          130.56626602579914,
          130.56626602579914,
          130.56626602579914,
          130.56626602579914,
          130.56626602579914,
          130.56626602579914,
          130.56626602579914
         ],
         "customdata": [
          [
           147.86927123832578,
           "Unconstrained LGBM",
           "Region"
          ],
          [
           117.63347920400379,
           "Unconstrained LGBM",
           "Region"
          ],
          [
           123.5904699752322,
           "Unconstrained LGBM",
           "Region"
          ],
          [
           120.01704719633899,
           "Unconstrained LGBM",
           "Region"
          ],
          [
           119.00055074891394,
           "Unconstrained LGBM",
           "Region"
          ],
          [
           113.31000011406523,
           "Unconstrained LGBM",
           "Region"
          ],
          [
           152.79450005312864,
           "Unconstrained LGBM",
           "Region"
          ],
          [
           114.96075618409205,
           "Unconstrained LGBM",
           "Region"
          ],
          [
           126.28703969748402,
           "Unconstrained LGBM",
           "Region"
          ],
          [
           140.81801383726082,
           "Unconstrained LGBM",
           "Region"
          ],
          [
           79.41844294369447,
           "Unconstrained LGBM",
           "Region"
          ],
          [
           119.015125504136,
           "Unconstrained LGBM",
           "Region"
          ],
          [
           112.85315100746598,
           "Unconstrained LGBM",
           "Region"
          ],
          [
           118.67413989199241,
           "Unconstrained LGBM",
           "Region"
          ],
          [
           75.45586368842918,
           "Unconstrained LGBM",
           "Region"
          ],
          [
           91.11659400304673,
           "Unconstrained LGBM",
           "Region"
          ],
          [
           110.20149462223519,
           "Unconstrained LGBM",
           "Region"
          ],
          [
           109.14807069313024,
           "Unconstrained LGBM",
           "Region"
          ],
          [
           104.09637989841272,
           "Unconstrained LGBM",
           "Region"
          ],
          [
           107.26192272895997,
           "Unconstrained LGBM",
           "Region"
          ],
          [
           105.27811824376728,
           "Unconstrained LGBM",
           "Region"
          ],
          [
           94.1951776492963,
           "Unconstrained LGBM",
           "Region"
          ]
         ],
         "hovertemplate": "<b>%{hovertext}</b><br><br>mean_prediction=%{base:.3f}<br>prediction=%{customdata[0]:.3f}<extra></extra>",
         "hovertext": [
          "Unconstrained LGBM",
          "Unconstrained LGBM",
          "Unconstrained LGBM",
          "Unconstrained LGBM",
          "Unconstrained LGBM",
          "Unconstrained LGBM",
          "Unconstrained LGBM",
          "Unconstrained LGBM",
          "Unconstrained LGBM",
          "Unconstrained LGBM",
          "Unconstrained LGBM",
          "Unconstrained LGBM",
          "Unconstrained LGBM",
          "Unconstrained LGBM",
          "Unconstrained LGBM",
          "Unconstrained LGBM",
          "Unconstrained LGBM",
          "Unconstrained LGBM",
          "Unconstrained LGBM",
          "Unconstrained LGBM",
          "Unconstrained LGBM",
          "Unconstrained LGBM"
         ],
         "legendgroup": "Unconstrained LGBM",
         "marker": {
          "color": "#46bac2",
          "pattern": {
           "shape": ""
          }
         },
         "name": "Unconstrained LGBM",
         "offsetgroup": "Unconstrained LGBM",
         "orientation": "v",
         "showlegend": false,
         "textposition": "auto",
         "type": "bar",
         "x": [
          "R82",
          "R22",
          "R72",
          "R31",
          "R91",
          "R52",
          "R93",
          "R11",
          "R24",
          "R94",
          "R83",
          "R54",
          "R26",
          "R53",
          "R73",
          "R42",
          "R25",
          "R21",
          "R41",
          "R43",
          "R74",
          "R23"
         ],
         "xaxis": "x5",
         "y": [
          17.303005212526642,
          -12.932786821795347,
          -6.975796050566942,
          -10.549218829460145,
          -11.5657152768852,
          -17.256265911733905,
          22.228234027329506,
          -15.60550984170709,
          -4.279226328315119,
          10.251747811461684,
          -51.147823082104665,
          -11.551140521663143,
          -17.713115018333156,
          -11.892126133806727,
          -55.11040233736996,
          -39.44967202275241,
          -20.36477140356395,
          -21.4181953326689,
          -26.469886127386417,
          -23.304343296839164,
          -25.288147782031857,
          -36.37108837650284
         ],
         "yaxis": "y5"
        },
        {
         "alignmentgroup": "True",
         "base": [
          130.56626602579914,
          130.56626602579914,
          130.56626602579914,
          130.56626602579914,
          130.56626602579914,
          130.56626602579914
         ],
         "customdata": [
          [
           128.23010740241745,
           "Unconstrained LGBM",
           "Area"
          ],
          [
           122.8559741009067,
           "Unconstrained LGBM",
           "Area"
          ],
          [
           133.74538162576215,
           "Unconstrained LGBM",
           "Area"
          ],
          [
           127.3991685364702,
           "Unconstrained LGBM",
           "Area"
          ],
          [
           123.25904509543119,
           "Unconstrained LGBM",
           "Area"
          ],
          [
           121.11941187653322,
           "Unconstrained LGBM",
           "Area"
          ]
         ],
         "hovertemplate": "<b>%{hovertext}</b><br><br>mean_prediction=%{base:.3f}<br>prediction=%{customdata[0]:.3f}<extra></extra>",
         "hovertext": [
          "Unconstrained LGBM",
          "Unconstrained LGBM",
          "Unconstrained LGBM",
          "Unconstrained LGBM",
          "Unconstrained LGBM",
          "Unconstrained LGBM"
         ],
         "legendgroup": "Unconstrained LGBM",
         "marker": {
          "color": "#46bac2",
          "pattern": {
           "shape": ""
          }
         },
         "name": "Unconstrained LGBM",
         "offsetgroup": "Unconstrained LGBM",
         "orientation": "v",
         "showlegend": false,
         "textposition": "auto",
         "type": "bar",
         "x": [
          "D",
          "B",
          "E",
          "C",
          "F",
          "A"
         ],
         "xaxis": "x6",
         "y": [
          -2.3361586233816922,
          -7.710291924892431,
          3.179115599963012,
          -3.1670974893289383,
          -7.307220930367947,
          -9.446854149265917
         ],
         "yaxis": "y6"
        },
        {
         "alignmentgroup": "True",
         "base": [
          130.56626602579914,
          130.56626602579914,
          130.56626602579914,
          130.56626602579914,
          130.56626602579914,
          130.56626602579914,
          130.56626602579914
         ],
         "customdata": [
          [
           147.44516090083536,
           "Unconstrained LGBM",
           "DrivAge"
          ],
          [
           147.42072323527134,
           "Unconstrained LGBM",
           "DrivAge"
          ],
          [
           109.74761766969299,
           "Unconstrained LGBM",
           "DrivAge"
          ],
          [
           95.19285839170163,
           "Unconstrained LGBM",
           "DrivAge"
          ],
          [
           117.28944233835074,
           "Unconstrained LGBM",
           "DrivAge"
          ],
          [
           169.68900769629477,
           "Unconstrained LGBM",
           "DrivAge"
          ],
          [
           155.76788167162246,
           "Unconstrained LGBM",
           "DrivAge"
          ]
         ],
         "hovertemplate": "<b>%{hovertext}</b><br><br>mean_prediction=%{base:.3f}<br>prediction=%{customdata[0]:.3f}<extra></extra>",
         "hovertext": [
          "Unconstrained LGBM",
          "Unconstrained LGBM",
          "Unconstrained LGBM",
          "Unconstrained LGBM",
          "Unconstrained LGBM",
          "Unconstrained LGBM",
          "Unconstrained LGBM"
         ],
         "legendgroup": "Unconstrained LGBM",
         "marker": {
          "color": "#46bac2",
          "pattern": {
           "shape": ""
          }
         },
         "name": "Unconstrained LGBM",
         "offsetgroup": "Unconstrained LGBM",
         "orientation": "v",
         "showlegend": false,
         "textposition": "auto",
         "type": "bar",
         "x": [
          "5",
          "4",
          "3",
          "2",
          "1",
          "6",
          "0"
         ],
         "xaxis": "x3",
         "y": [
          16.878894875036224,
          16.8544572094722,
          -20.818648356106152,
          -35.373407634097504,
          -13.276823687448399,
          39.12274167049563,
          25.201615645823324
         ],
         "yaxis": "y3"
        },
        {
         "alignmentgroup": "True",
         "base": [
          130.56626602579914,
          130.56626602579914,
          130.56626602579914
         ],
         "customdata": [
          [
           138.6623953335215,
           "Unconstrained LGBM",
           "VehAge"
          ],
          [
           139.60825249534528,
           "Unconstrained LGBM",
           "VehAge"
          ],
          [
           108.2945361221188,
           "Unconstrained LGBM",
           "VehAge"
          ]
         ],
         "hovertemplate": "<b>%{hovertext}</b><br><br>mean_prediction=%{base:.3f}<br>prediction=%{customdata[0]:.3f}<extra></extra>",
         "hovertext": [
          "Unconstrained LGBM",
          "Unconstrained LGBM",
          "Unconstrained LGBM"
         ],
         "legendgroup": "Unconstrained LGBM",
         "marker": {
          "color": "#46bac2",
          "pattern": {
           "shape": ""
          }
         },
         "name": "Unconstrained LGBM",
         "offsetgroup": "Unconstrained LGBM",
         "orientation": "v",
         "showlegend": false,
         "textposition": "auto",
         "type": "bar",
         "x": [
          "0",
          "1",
          "2"
         ],
         "xaxis": "x4",
         "y": [
          8.09612930772235,
          9.041986469546146,
          -22.27172990368034
         ],
         "yaxis": "y4"
        },
        {
         "alignmentgroup": "True",
         "base": [
          130.56626602579914,
          130.56626602579914,
          130.56626602579914,
          130.56626602579914,
          130.56626602579914,
          130.56626602579914
         ],
         "customdata": [
          [
           117.87302071698232,
           "Unconstrained LGBM",
           "VehPower"
          ],
          [
           135.1379508089385,
           "Unconstrained LGBM",
           "VehPower"
          ],
          [
           135.5812894878853,
           "Unconstrained LGBM",
           "VehPower"
          ],
          [
           122.26563638550823,
           "Unconstrained LGBM",
           "VehPower"
          ],
          [
           141.2560904786403,
           "Unconstrained LGBM",
           "VehPower"
          ],
          [
           127.65120532398592,
           "Unconstrained LGBM",
           "VehPower"
          ]
         ],
         "hovertemplate": "<b>%{hovertext}</b><br><br>mean_prediction=%{base:.3f}<br>prediction=%{customdata[0]:.3f}<extra></extra>",
         "hovertext": [
          "Unconstrained LGBM",
          "Unconstrained LGBM",
          "Unconstrained LGBM",
          "Unconstrained LGBM",
          "Unconstrained LGBM",
          "Unconstrained LGBM"
         ],
         "legendgroup": "Unconstrained LGBM",
         "marker": {
          "color": "#46bac2",
          "pattern": {
           "shape": ""
          }
         },
         "name": "Unconstrained LGBM",
         "offsetgroup": "Unconstrained LGBM",
         "orientation": "v",
         "showlegend": false,
         "textposition": "auto",
         "type": "bar",
         "x": [
          "5",
          "6",
          "7",
          "4",
          "9",
          "8"
         ],
         "xaxis": "x",
         "y": [
          -12.693245308816813,
          4.571684783139375,
          5.0150234620861625,
          -8.300629640290907,
          10.689824452841151,
          -2.9150607018132177
         ],
         "yaxis": "y"
        }
       ],
       "layout": {
        "annotations": [
         {
          "font": {
           "size": 13
          },
          "showarrow": false,
          "text": "VehPower",
          "x": 0.2375,
          "xanchor": "center",
          "xref": "paper",
          "y": 0.19375,
          "yanchor": "bottom",
          "yref": "paper"
         },
         {
          "font": {
           "size": 13
          },
          "showarrow": false,
          "text": "DrivAge",
          "x": 0.2375,
          "xanchor": "center",
          "xref": "paper",
          "y": 0.4625,
          "yanchor": "bottom",
          "yref": "paper"
         },
         {
          "font": {
           "size": 13
          },
          "showarrow": false,
          "text": "VehAge",
          "x": 0.7625,
          "xanchor": "center",
          "xref": "paper",
          "y": 0.4625,
          "yanchor": "bottom",
          "yref": "paper"
         },
         {
          "font": {
           "size": 13
          },
          "showarrow": false,
          "text": "Region",
          "x": 0.2375,
          "xanchor": "center",
          "xref": "paper",
          "y": 0.73125,
          "yanchor": "bottom",
          "yref": "paper"
         },
         {
          "font": {
           "size": 13
          },
          "showarrow": false,
          "text": "Area",
          "x": 0.7625,
          "xanchor": "center",
          "xref": "paper",
          "y": 0.73125,
          "yanchor": "bottom",
          "yref": "paper"
         },
         {
          "font": {
           "size": 13
          },
          "showarrow": false,
          "text": "VehBrand",
          "x": 0.2375,
          "xanchor": "center",
          "xref": "paper",
          "y": 1,
          "yanchor": "bottom",
          "yref": "paper"
         },
         {
          "font": {
           "size": 13
          },
          "showarrow": false,
          "text": "VehGas",
          "x": 0.7625,
          "xanchor": "center",
          "xref": "paper",
          "y": 1,
          "yanchor": "bottom",
          "yref": "paper"
         },
         {
          "font": {
           "size": 13
          },
          "showarrow": false,
          "text": "prediction",
          "textangle": -90,
          "x": -0.07,
          "xref": "paper",
          "y": 0.5,
          "yref": "paper"
         }
        ],
        "barmode": "group",
        "font": {
         "color": "#371ea3"
        },
        "height": 1509,
        "hovermode": "x unified",
        "legend": {
         "font": {
          "size": 11
         },
         "itemsizing": "constant",
         "orientation": "h",
         "title": {
          "font": {
           "size": 12
          },
          "text": "label"
         },
         "tracegroupgap": 0,
         "x": 1,
         "xanchor": "right",
         "y": 1.0198807157057654,
         "yanchor": "bottom"
        },
        "margin": {
         "b": 71,
         "r": 30,
         "t": 78
        },
        "shapes": [
         {
          "layer": "below",
          "line": {
           "color": "#371ea3",
           "dash": "dot",
           "width": 1.5
          },
          "type": "line",
          "x0": 0,
          "x1": 1,
          "xref": "x domain",
          "y0": 130.56626602579914,
          "y1": 130.56626602579914,
          "yref": "y"
         },
         {
          "layer": "below",
          "line": {
           "color": "#371ea3",
           "dash": "dot",
           "width": 1.5
          },
          "type": "line",
          "x0": 0,
          "x1": 1,
          "xref": "x3 domain",
          "y0": 130.56626602579914,
          "y1": 130.56626602579914,
          "yref": "y3"
         },
         {
          "layer": "below",
          "line": {
           "color": "#371ea3",
           "dash": "dot",
           "width": 1.5
          },
          "type": "line",
          "x0": 0,
          "x1": 1,
          "xref": "x4 domain",
          "y0": 130.56626602579914,
          "y1": 130.56626602579914,
          "yref": "y4"
         },
         {
          "layer": "below",
          "line": {
           "color": "#371ea3",
           "dash": "dot",
           "width": 1.5
          },
          "type": "line",
          "x0": 0,
          "x1": 1,
          "xref": "x5 domain",
          "y0": 130.56626602579914,
          "y1": 130.56626602579914,
          "yref": "y5"
         },
         {
          "layer": "below",
          "line": {
           "color": "#371ea3",
           "dash": "dot",
           "width": 1.5
          },
          "type": "line",
          "x0": 0,
          "x1": 1,
          "xref": "x6 domain",
          "y0": 130.56626602579914,
          "y1": 130.56626602579914,
          "yref": "y6"
         },
         {
          "layer": "below",
          "line": {
           "color": "#371ea3",
           "dash": "dot",
           "width": 1.5
          },
          "type": "line",
          "x0": 0,
          "x1": 1,
          "xref": "x7 domain",
          "y0": 130.56626602579914,
          "y1": 130.56626602579914,
          "yref": "y7"
         },
         {
          "layer": "below",
          "line": {
           "color": "#371ea3",
           "dash": "dot",
           "width": 1.5
          },
          "type": "line",
          "x0": 0,
          "x1": 1,
          "xref": "x8 domain",
          "y0": 130.56626602579914,
          "y1": 130.56626602579914,
          "yref": "y8"
         },
         {
          "layer": "below",
          "line": {
           "color": "#371ea3",
           "dash": "dot",
           "width": 1.5
          },
          "type": "line",
          "x0": 0,
          "x1": 1,
          "xref": "x domain",
          "y0": 130.56626602579914,
          "y1": 130.56626602579914,
          "yref": "y"
         },
         {
          "layer": "below",
          "line": {
           "color": "#371ea3",
           "dash": "dot",
           "width": 1.5
          },
          "type": "line",
          "x0": 0,
          "x1": 1,
          "xref": "x3 domain",
          "y0": 130.56626602579914,
          "y1": 130.56626602579914,
          "yref": "y3"
         },
         {
          "layer": "below",
          "line": {
           "color": "#371ea3",
           "dash": "dot",
           "width": 1.5
          },
          "type": "line",
          "x0": 0,
          "x1": 1,
          "xref": "x4 domain",
          "y0": 130.56626602579914,
          "y1": 130.56626602579914,
          "yref": "y4"
         },
         {
          "layer": "below",
          "line": {
           "color": "#371ea3",
           "dash": "dot",
           "width": 1.5
          },
          "type": "line",
          "x0": 0,
          "x1": 1,
          "xref": "x5 domain",
          "y0": 130.56626602579914,
          "y1": 130.56626602579914,
          "yref": "y5"
         },
         {
          "layer": "below",
          "line": {
           "color": "#371ea3",
           "dash": "dot",
           "width": 1.5
          },
          "type": "line",
          "x0": 0,
          "x1": 1,
          "xref": "x6 domain",
          "y0": 130.56626602579914,
          "y1": 130.56626602579914,
          "yref": "y6"
         },
         {
          "layer": "below",
          "line": {
           "color": "#371ea3",
           "dash": "dot",
           "width": 1.5
          },
          "type": "line",
          "x0": 0,
          "x1": 1,
          "xref": "x7 domain",
          "y0": 130.56626602579914,
          "y1": 130.56626602579914,
          "yref": "y7"
         },
         {
          "layer": "below",
          "line": {
           "color": "#371ea3",
           "dash": "dot",
           "width": 1.5
          },
          "type": "line",
          "x0": 0,
          "x1": 1,
          "xref": "x8 domain",
          "y0": 130.56626602579914,
          "y1": 130.56626602579914,
          "yref": "y8"
         },
         {
          "layer": "below",
          "line": {
           "color": "#371ea3",
           "dash": "dot",
           "width": 1.5
          },
          "type": "line",
          "x0": 0,
          "x1": 1,
          "xref": "x domain",
          "y0": 130.56626602579914,
          "y1": 130.56626602579914,
          "yref": "y"
         },
         {
          "layer": "below",
          "line": {
           "color": "#371ea3",
           "dash": "dot",
           "width": 1.5
          },
          "type": "line",
          "x0": 0,
          "x1": 1,
          "xref": "x3 domain",
          "y0": 130.56626602579914,
          "y1": 130.56626602579914,
          "yref": "y3"
         },
         {
          "layer": "below",
          "line": {
           "color": "#371ea3",
           "dash": "dot",
           "width": 1.5
          },
          "type": "line",
          "x0": 0,
          "x1": 1,
          "xref": "x4 domain",
          "y0": 130.56626602579914,
          "y1": 130.56626602579914,
          "yref": "y4"
         },
         {
          "layer": "below",
          "line": {
           "color": "#371ea3",
           "dash": "dot",
           "width": 1.5
          },
          "type": "line",
          "x0": 0,
          "x1": 1,
          "xref": "x5 domain",
          "y0": 130.56626602579914,
          "y1": 130.56626602579914,
          "yref": "y5"
         },
         {
          "layer": "below",
          "line": {
           "color": "#371ea3",
           "dash": "dot",
           "width": 1.5
          },
          "type": "line",
          "x0": 0,
          "x1": 1,
          "xref": "x6 domain",
          "y0": 130.56626602579914,
          "y1": 130.56626602579914,
          "yref": "y6"
         },
         {
          "layer": "below",
          "line": {
           "color": "#371ea3",
           "dash": "dot",
           "width": 1.5
          },
          "type": "line",
          "x0": 0,
          "x1": 1,
          "xref": "x7 domain",
          "y0": 130.56626602579914,
          "y1": 130.56626602579914,
          "yref": "y7"
         },
         {
          "layer": "below",
          "line": {
           "color": "#371ea3",
           "dash": "dot",
           "width": 1.5
          },
          "type": "line",
          "x0": 0,
          "x1": 1,
          "xref": "x8 domain",
          "y0": 130.56626602579914,
          "y1": 130.56626602579914,
          "yref": "y8"
         },
         {
          "layer": "below",
          "line": {
           "color": "#371ea3",
           "dash": "dot",
           "width": 1.5
          },
          "type": "line",
          "x0": 0,
          "x1": 1,
          "xref": "x domain",
          "y0": 130.56626602579914,
          "y1": 130.56626602579914,
          "yref": "y"
         },
         {
          "layer": "below",
          "line": {
           "color": "#371ea3",
           "dash": "dot",
           "width": 1.5
          },
          "type": "line",
          "x0": 0,
          "x1": 1,
          "xref": "x3 domain",
          "y0": 130.56626602579914,
          "y1": 130.56626602579914,
          "yref": "y3"
         },
         {
          "layer": "below",
          "line": {
           "color": "#371ea3",
           "dash": "dot",
           "width": 1.5
          },
          "type": "line",
          "x0": 0,
          "x1": 1,
          "xref": "x4 domain",
          "y0": 130.56626602579914,
          "y1": 130.56626602579914,
          "yref": "y4"
         },
         {
          "layer": "below",
          "line": {
           "color": "#371ea3",
           "dash": "dot",
           "width": 1.5
          },
          "type": "line",
          "x0": 0,
          "x1": 1,
          "xref": "x5 domain",
          "y0": 130.56626602579914,
          "y1": 130.56626602579914,
          "yref": "y5"
         },
         {
          "layer": "below",
          "line": {
           "color": "#371ea3",
           "dash": "dot",
           "width": 1.5
          },
          "type": "line",
          "x0": 0,
          "x1": 1,
          "xref": "x6 domain",
          "y0": 130.56626602579914,
          "y1": 130.56626602579914,
          "yref": "y6"
         },
         {
          "layer": "below",
          "line": {
           "color": "#371ea3",
           "dash": "dot",
           "width": 1.5
          },
          "type": "line",
          "x0": 0,
          "x1": 1,
          "xref": "x7 domain",
          "y0": 130.56626602579914,
          "y1": 130.56626602579914,
          "yref": "y7"
         },
         {
          "layer": "below",
          "line": {
           "color": "#371ea3",
           "dash": "dot",
           "width": 1.5
          },
          "type": "line",
          "x0": 0,
          "x1": 1,
          "xref": "x8 domain",
          "y0": 130.56626602579914,
          "y1": 130.56626602579914,
          "yref": "y8"
         },
         {
          "layer": "below",
          "line": {
           "color": "#371ea3",
           "dash": "dot",
           "width": 1.5
          },
          "type": "line",
          "x0": 0,
          "x1": 1,
          "xref": "x domain",
          "y0": 130.56626602579914,
          "y1": 130.56626602579914,
          "yref": "y"
         },
         {
          "layer": "below",
          "line": {
           "color": "#371ea3",
           "dash": "dot",
           "width": 1.5
          },
          "type": "line",
          "x0": 0,
          "x1": 1,
          "xref": "x3 domain",
          "y0": 130.56626602579914,
          "y1": 130.56626602579914,
          "yref": "y3"
         },
         {
          "layer": "below",
          "line": {
           "color": "#371ea3",
           "dash": "dot",
           "width": 1.5
          },
          "type": "line",
          "x0": 0,
          "x1": 1,
          "xref": "x4 domain",
          "y0": 130.56626602579914,
          "y1": 130.56626602579914,
          "yref": "y4"
         },
         {
          "layer": "below",
          "line": {
           "color": "#371ea3",
           "dash": "dot",
           "width": 1.5
          },
          "type": "line",
          "x0": 0,
          "x1": 1,
          "xref": "x5 domain",
          "y0": 130.56626602579914,
          "y1": 130.56626602579914,
          "yref": "y5"
         },
         {
          "layer": "below",
          "line": {
           "color": "#371ea3",
           "dash": "dot",
           "width": 1.5
          },
          "type": "line",
          "x0": 0,
          "x1": 1,
          "xref": "x6 domain",
          "y0": 130.56626602579914,
          "y1": 130.56626602579914,
          "yref": "y6"
         },
         {
          "layer": "below",
          "line": {
           "color": "#371ea3",
           "dash": "dot",
           "width": 1.5
          },
          "type": "line",
          "x0": 0,
          "x1": 1,
          "xref": "x7 domain",
          "y0": 130.56626602579914,
          "y1": 130.56626602579914,
          "yref": "y7"
         },
         {
          "layer": "below",
          "line": {
           "color": "#371ea3",
           "dash": "dot",
           "width": 1.5
          },
          "type": "line",
          "x0": 0,
          "x1": 1,
          "xref": "x8 domain",
          "y0": 130.56626602579914,
          "y1": 130.56626602579914,
          "yref": "y8"
         },
         {
          "layer": "below",
          "line": {
           "color": "#371ea3",
           "dash": "dot",
           "width": 1.5
          },
          "type": "line",
          "x0": 0,
          "x1": 1,
          "xref": "x domain",
          "y0": 130.56626602579914,
          "y1": 130.56626602579914,
          "yref": "y"
         },
         {
          "layer": "below",
          "line": {
           "color": "#371ea3",
           "dash": "dot",
           "width": 1.5
          },
          "type": "line",
          "x0": 0,
          "x1": 1,
          "xref": "x3 domain",
          "y0": 130.56626602579914,
          "y1": 130.56626602579914,
          "yref": "y3"
         },
         {
          "layer": "below",
          "line": {
           "color": "#371ea3",
           "dash": "dot",
           "width": 1.5
          },
          "type": "line",
          "x0": 0,
          "x1": 1,
          "xref": "x4 domain",
          "y0": 130.56626602579914,
          "y1": 130.56626602579914,
          "yref": "y4"
         },
         {
          "layer": "below",
          "line": {
           "color": "#371ea3",
           "dash": "dot",
           "width": 1.5
          },
          "type": "line",
          "x0": 0,
          "x1": 1,
          "xref": "x5 domain",
          "y0": 130.56626602579914,
          "y1": 130.56626602579914,
          "yref": "y5"
         },
         {
          "layer": "below",
          "line": {
           "color": "#371ea3",
           "dash": "dot",
           "width": 1.5
          },
          "type": "line",
          "x0": 0,
          "x1": 1,
          "xref": "x6 domain",
          "y0": 130.56626602579914,
          "y1": 130.56626602579914,
          "yref": "y6"
         },
         {
          "layer": "below",
          "line": {
           "color": "#371ea3",
           "dash": "dot",
           "width": 1.5
          },
          "type": "line",
          "x0": 0,
          "x1": 1,
          "xref": "x7 domain",
          "y0": 130.56626602579914,
          "y1": 130.56626602579914,
          "yref": "y7"
         },
         {
          "layer": "below",
          "line": {
           "color": "#371ea3",
           "dash": "dot",
           "width": 1.5
          },
          "type": "line",
          "x0": 0,
          "x1": 1,
          "xref": "x8 domain",
          "y0": 130.56626602579914,
          "y1": 130.56626602579914,
          "yref": "y8"
         },
         {
          "layer": "below",
          "line": {
           "color": "#371ea3",
           "dash": "dot",
           "width": 1.5
          },
          "type": "line",
          "x0": 0,
          "x1": 1,
          "xref": "x domain",
          "y0": 130.56626602579914,
          "y1": 130.56626602579914,
          "yref": "y"
         },
         {
          "layer": "below",
          "line": {
           "color": "#371ea3",
           "dash": "dot",
           "width": 1.5
          },
          "type": "line",
          "x0": 0,
          "x1": 1,
          "xref": "x3 domain",
          "y0": 130.56626602579914,
          "y1": 130.56626602579914,
          "yref": "y3"
         },
         {
          "layer": "below",
          "line": {
           "color": "#371ea3",
           "dash": "dot",
           "width": 1.5
          },
          "type": "line",
          "x0": 0,
          "x1": 1,
          "xref": "x4 domain",
          "y0": 130.56626602579914,
          "y1": 130.56626602579914,
          "yref": "y4"
         },
         {
          "layer": "below",
          "line": {
           "color": "#371ea3",
           "dash": "dot",
           "width": 1.5
          },
          "type": "line",
          "x0": 0,
          "x1": 1,
          "xref": "x5 domain",
          "y0": 130.56626602579914,
          "y1": 130.56626602579914,
          "yref": "y5"
         },
         {
          "layer": "below",
          "line": {
           "color": "#371ea3",
           "dash": "dot",
           "width": 1.5
          },
          "type": "line",
          "x0": 0,
          "x1": 1,
          "xref": "x6 domain",
          "y0": 130.56626602579914,
          "y1": 130.56626602579914,
          "yref": "y6"
         },
         {
          "layer": "below",
          "line": {
           "color": "#371ea3",
           "dash": "dot",
           "width": 1.5
          },
          "type": "line",
          "x0": 0,
          "x1": 1,
          "xref": "x7 domain",
          "y0": 130.56626602579914,
          "y1": 130.56626602579914,
          "yref": "y7"
         },
         {
          "layer": "below",
          "line": {
           "color": "#371ea3",
           "dash": "dot",
           "width": 1.5
          },
          "type": "line",
          "x0": 0,
          "x1": 1,
          "xref": "x8 domain",
          "y0": 130.56626602579914,
          "y1": 130.56626602579914,
          "yref": "y8"
         }
        ],
        "template": {
         "data": {
          "scatter": [
           {
            "type": "scatter"
           }
          ]
         }
        },
        "title": {
         "font": {
          "size": 16
         },
         "text": "Aggregated Profiles",
         "x": 0.15
        },
        "xaxis": {
         "anchor": "y",
         "automargin": true,
         "domain": [
          0,
          0.475
         ],
         "fixedrange": true,
         "gridwidth": 2,
         "showticklabels": true,
         "tickcolor": "white",
         "ticklen": 10,
         "ticks": "outside",
         "title": {
          "text": ""
         },
         "type": "category"
        },
        "xaxis2": {
         "anchor": "y2",
         "automargin": true,
         "domain": [
          0.525,
          1
         ],
         "fixedrange": true,
         "gridwidth": 2,
         "showticklabels": true,
         "tickcolor": "white",
         "ticklen": 10,
         "ticks": "outside",
         "title": {
          "text": ""
         },
         "type": "category"
        },
        "xaxis3": {
         "anchor": "y3",
         "automargin": true,
         "domain": [
          0,
          0.475
         ],
         "fixedrange": true,
         "gridwidth": 2,
         "showticklabels": true,
         "tickcolor": "white",
         "ticklen": 10,
         "ticks": "outside",
         "title": {
          "text": ""
         },
         "type": "category"
        },
        "xaxis4": {
         "anchor": "y4",
         "automargin": true,
         "domain": [
          0.525,
          1
         ],
         "fixedrange": true,
         "gridwidth": 2,
         "showticklabels": true,
         "tickcolor": "white",
         "ticklen": 10,
         "ticks": "outside",
         "title": {
          "text": ""
         },
         "type": "category"
        },
        "xaxis5": {
         "anchor": "y5",
         "automargin": true,
         "domain": [
          0,
          0.475
         ],
         "fixedrange": true,
         "gridwidth": 2,
         "showticklabels": true,
         "tickcolor": "white",
         "ticklen": 10,
         "ticks": "outside",
         "title": {
          "text": ""
         },
         "type": "category"
        },
        "xaxis6": {
         "anchor": "y6",
         "automargin": true,
         "domain": [
          0.525,
          1
         ],
         "fixedrange": true,
         "gridwidth": 2,
         "showticklabels": true,
         "tickcolor": "white",
         "ticklen": 10,
         "ticks": "outside",
         "title": {
          "text": ""
         },
         "type": "category"
        },
        "xaxis7": {
         "anchor": "y7",
         "automargin": true,
         "domain": [
          0,
          0.475
         ],
         "fixedrange": true,
         "gridwidth": 2,
         "showticklabels": true,
         "tickcolor": "white",
         "ticklen": 10,
         "ticks": "outside",
         "title": {
          "text": ""
         },
         "type": "category"
        },
        "xaxis8": {
         "anchor": "y8",
         "automargin": true,
         "domain": [
          0.525,
          1
         ],
         "fixedrange": true,
         "gridwidth": 2,
         "showticklabels": true,
         "tickcolor": "white",
         "ticklen": 10,
         "ticks": "outside",
         "title": {
          "text": ""
         },
         "type": "category"
        },
        "yaxis": {
         "anchor": "x",
         "automargin": true,
         "domain": [
          0,
          0.19375
         ],
         "fixedrange": true,
         "gridwidth": 2,
         "range": [
          66.03254928764261,
          179.11232209708132
         ],
         "tickcolor": "white",
         "ticklen": 3,
         "ticks": "outside",
         "title": {
          "text": ""
         },
         "type": "linear",
         "zeroline": false
        },
        "yaxis2": {
         "anchor": "x2",
         "automargin": true,
         "domain": [
          0,
          0.19375
         ],
         "fixedrange": true,
         "gridwidth": 2,
         "matches": "y",
         "showticklabels": false,
         "tickcolor": "white",
         "ticklen": 3,
         "ticks": "outside",
         "title": {
          "text": ""
         },
         "type": "linear",
         "zeroline": false
        },
        "yaxis3": {
         "anchor": "x3",
         "automargin": true,
         "domain": [
          0.26875,
          0.4625
         ],
         "fixedrange": true,
         "gridwidth": 2,
         "matches": "y",
         "range": [
          66.03254928764261,
          179.11232209708132
         ],
         "tickcolor": "white",
         "ticklen": 3,
         "ticks": "outside",
         "title": {
          "text": ""
         },
         "type": "linear",
         "zeroline": false
        },
        "yaxis4": {
         "anchor": "x4",
         "automargin": true,
         "domain": [
          0.26875,
          0.4625
         ],
         "fixedrange": true,
         "gridwidth": 2,
         "matches": "y",
         "showticklabels": false,
         "tickcolor": "white",
         "ticklen": 3,
         "ticks": "outside",
         "title": {
          "text": ""
         },
         "type": "linear",
         "zeroline": false
        },
        "yaxis5": {
         "anchor": "x5",
         "automargin": true,
         "domain": [
          0.5375,
          0.73125
         ],
         "fixedrange": true,
         "gridwidth": 2,
         "matches": "y",
         "range": [
          66.03254928764261,
          179.11232209708132
         ],
         "tickcolor": "white",
         "ticklen": 3,
         "ticks": "outside",
         "title": {
          "text": ""
         },
         "type": "linear",
         "zeroline": false
        },
        "yaxis6": {
         "anchor": "x6",
         "automargin": true,
         "domain": [
          0.5375,
          0.73125
         ],
         "fixedrange": true,
         "gridwidth": 2,
         "matches": "y",
         "showticklabels": false,
         "tickcolor": "white",
         "ticklen": 3,
         "ticks": "outside",
         "title": {
          "text": ""
         },
         "type": "linear",
         "zeroline": false
        },
        "yaxis7": {
         "anchor": "x7",
         "automargin": true,
         "domain": [
          0.80625,
          1
         ],
         "fixedrange": true,
         "gridwidth": 2,
         "matches": "y",
         "range": [
          66.03254928764261,
          179.11232209708132
         ],
         "tickcolor": "white",
         "ticklen": 3,
         "ticks": "outside",
         "title": {
          "text": ""
         },
         "type": "linear",
         "zeroline": false
        },
        "yaxis8": {
         "anchor": "x8",
         "automargin": true,
         "domain": [
          0.80625,
          1
         ],
         "fixedrange": true,
         "gridwidth": 2,
         "matches": "y",
         "showticklabels": false,
         "tickcolor": "white",
         "ticklen": 3,
         "ticks": "outside",
         "title": {
          "text": ""
         },
         "type": "linear",
         "zeroline": false
        }
       }
      }
     },
     "metadata": {},
     "output_type": "display_data"
    }
   ],
   "source": [
    "# Plots for unconstrained LGBM\n",
    "\n",
    "pd_lgbm_unconstrained_cat.plot()"
   ]
  },
  {
   "cell_type": "code",
   "execution_count": 31,
   "metadata": {},
   "outputs": [
    {
     "data": {
      "application/vnd.plotly.v1+json": {
       "config": {
        "displaylogo": false,
        "modeBarButtonsToRemove": [
         "sendDataToCloud",
         "lasso2d",
         "autoScale2d",
         "select2d",
         "zoom2d",
         "pan2d",
         "zoomIn2d",
         "zoomOut2d",
         "resetScale2d",
         "toggleSpikelines",
         "hoverCompareCartesian",
         "hoverClosestCartesian"
        ],
        "plotlyServerURL": "https://plot.ly",
        "staticPlot": false,
        "toImageButtonOptions": {
         "height": null,
         "width": null
        }
       },
       "data": [
        {
         "alignmentgroup": "True",
         "base": [
          140.15772681322863,
          140.15772681322863,
          140.15772681322863,
          140.15772681322863,
          140.15772681322863,
          140.15772681322863,
          140.15772681322863,
          140.15772681322863,
          140.15772681322863,
          140.15772681322863,
          140.15772681322863
         ],
         "customdata": [
          [
           117.0650372408806,
           "Constrained LGBM",
           "VehBrand"
          ],
          [
           133.11304808099007,
           "Constrained LGBM",
           "VehBrand"
          ],
          [
           149.67896739005488,
           "Constrained LGBM",
           "VehBrand"
          ],
          [
           152.92185958708106,
           "Constrained LGBM",
           "VehBrand"
          ],
          [
           151.59307882843964,
           "Constrained LGBM",
           "VehBrand"
          ],
          [
           151.8418368057283,
           "Constrained LGBM",
           "VehBrand"
          ],
          [
           140.74805110314665,
           "Constrained LGBM",
           "VehBrand"
          ],
          [
           128.42082804845833,
           "Constrained LGBM",
           "VehBrand"
          ],
          [
           139.29337648750632,
           "Constrained LGBM",
           "VehBrand"
          ],
          [
           150.2456475493523,
           "Constrained LGBM",
           "VehBrand"
          ],
          [
           182.69616913853545,
           "Constrained LGBM",
           "VehBrand"
          ]
         ],
         "hovertemplate": "<b>%{hovertext}</b><br><br>mean_prediction=%{base:.3f}<br>prediction=%{customdata[0]:.3f}<extra></extra>",
         "hovertext": [
          "Constrained LGBM",
          "Constrained LGBM",
          "Constrained LGBM",
          "Constrained LGBM",
          "Constrained LGBM",
          "Constrained LGBM",
          "Constrained LGBM",
          "Constrained LGBM",
          "Constrained LGBM",
          "Constrained LGBM",
          "Constrained LGBM"
         ],
         "legendgroup": "Constrained LGBM",
         "marker": {
          "color": "#46bac2",
          "pattern": {
           "shape": ""
          }
         },
         "name": "Constrained LGBM",
         "offsetgroup": "Constrained LGBM",
         "orientation": "v",
         "showlegend": true,
         "textposition": "auto",
         "type": "bar",
         "x": [
          "B12",
          "B6",
          "B3",
          "B2",
          "B5",
          "B10",
          "B14",
          "B4",
          "B1",
          "B13",
          "B11"
         ],
         "xaxis": "x7",
         "y": [
          -23.092689572348036,
          -7.044678732238566,
          9.521240576826244,
          12.764132773852424,
          11.43535201521101,
          11.684109992499657,
          0.5903242899180157,
          -11.736898764770302,
          -0.8643503257223131,
          10.087920736123664,
          42.53844232530682
         ],
         "yaxis": "y7"
        },
        {
         "alignmentgroup": "True",
         "base": [
          140.15772681322863,
          140.15772681322863
         ],
         "customdata": [
          [
           128.77603278929507,
           "Constrained LGBM",
           "VehGas"
          ],
          [
           152.90704787102047,
           "Constrained LGBM",
           "VehGas"
          ]
         ],
         "hovertemplate": "<b>%{hovertext}</b><br><br>mean_prediction=%{base:.3f}<br>prediction=%{customdata[0]:.3f}<extra></extra>",
         "hovertext": [
          "Constrained LGBM",
          "Constrained LGBM"
         ],
         "legendgroup": "Constrained LGBM",
         "marker": {
          "color": "#46bac2",
          "pattern": {
           "shape": ""
          }
         },
         "name": "Constrained LGBM",
         "offsetgroup": "Constrained LGBM",
         "orientation": "v",
         "showlegend": false,
         "textposition": "auto",
         "type": "bar",
         "x": [
          "Regular",
          "Diesel"
         ],
         "xaxis": "x8",
         "y": [
          -11.381694023933562,
          12.749321057791832
         ],
         "yaxis": "y8"
        },
        {
         "alignmentgroup": "True",
         "base": [
          140.15772681322863,
          140.15772681322863,
          140.15772681322863,
          140.15772681322863,
          140.15772681322863,
          140.15772681322863,
          140.15772681322863,
          140.15772681322863,
          140.15772681322863,
          140.15772681322863,
          140.15772681322863,
          140.15772681322863,
          140.15772681322863,
          140.15772681322863,
          140.15772681322863,
          140.15772681322863,
          140.15772681322863,
          140.15772681322863,
          140.15772681322863,
          140.15772681322863,
          140.15772681322863,
          140.15772681322863
         ],
         "customdata": [
          [
           163.6728470381483,
           "Constrained LGBM",
           "Region"
          ],
          [
           129.46577422146748,
           "Constrained LGBM",
           "Region"
          ],
          [
           134.04275130559893,
           "Constrained LGBM",
           "Region"
          ],
          [
           131.77309586755788,
           "Constrained LGBM",
           "Region"
          ],
          [
           128.27502241642176,
           "Constrained LGBM",
           "Region"
          ],
          [
           130.34271836691127,
           "Constrained LGBM",
           "Region"
          ],
          [
           163.8176050203429,
           "Constrained LGBM",
           "Region"
          ],
          [
           126.54840704890618,
           "Constrained LGBM",
           "Region"
          ],
          [
           138.82112988861005,
           "Constrained LGBM",
           "Region"
          ],
          [
           159.9047405022276,
           "Constrained LGBM",
           "Region"
          ],
          [
           88.0417435106247,
           "Constrained LGBM",
           "Region"
          ],
          [
           130.70344346923065,
           "Constrained LGBM",
           "Region"
          ],
          [
           122.2996145709125,
           "Constrained LGBM",
           "Region"
          ],
          [
           133.115705832632,
           "Constrained LGBM",
           "Region"
          ],
          [
           83.09938077516455,
           "Constrained LGBM",
           "Region"
          ],
          [
           99.85263078134746,
           "Constrained LGBM",
           "Region"
          ],
          [
           122.72291658590017,
           "Constrained LGBM",
           "Region"
          ],
          [
           117.23682712755057,
           "Constrained LGBM",
           "Region"
          ],
          [
           109.96349524745357,
           "Constrained LGBM",
           "Region"
          ],
          [
           116.04778268963231,
           "Constrained LGBM",
           "Region"
          ],
          [
           113.12536959436089,
           "Constrained LGBM",
           "Region"
          ],
          [
           103.06056100081652,
           "Constrained LGBM",
           "Region"
          ]
         ],
         "hovertemplate": "<b>%{hovertext}</b><br><br>mean_prediction=%{base:.3f}<br>prediction=%{customdata[0]:.3f}<extra></extra>",
         "hovertext": [
          "Constrained LGBM",
          "Constrained LGBM",
          "Constrained LGBM",
          "Constrained LGBM",
          "Constrained LGBM",
          "Constrained LGBM",
          "Constrained LGBM",
          "Constrained LGBM",
          "Constrained LGBM",
          "Constrained LGBM",
          "Constrained LGBM",
          "Constrained LGBM",
          "Constrained LGBM",
          "Constrained LGBM",
          "Constrained LGBM",
          "Constrained LGBM",
          "Constrained LGBM",
          "Constrained LGBM",
          "Constrained LGBM",
          "Constrained LGBM",
          "Constrained LGBM",
          "Constrained LGBM"
         ],
         "legendgroup": "Constrained LGBM",
         "marker": {
          "color": "#46bac2",
          "pattern": {
           "shape": ""
          }
         },
         "name": "Constrained LGBM",
         "offsetgroup": "Constrained LGBM",
         "orientation": "v",
         "showlegend": false,
         "textposition": "auto",
         "type": "bar",
         "x": [
          "R82",
          "R22",
          "R72",
          "R31",
          "R91",
          "R52",
          "R93",
          "R11",
          "R24",
          "R94",
          "R83",
          "R54",
          "R26",
          "R53",
          "R73",
          "R42",
          "R25",
          "R21",
          "R41",
          "R43",
          "R74",
          "R23"
         ],
         "xaxis": "x5",
         "y": [
          23.515120224919656,
          -10.69195259176115,
          -6.114975507629708,
          -8.38463094567075,
          -11.882704396806872,
          -9.815008446317364,
          23.659878207114275,
          -13.60931976432245,
          -1.3365969246185898,
          19.747013688998976,
          -52.11598330260394,
          -9.454283343997986,
          -17.85811224231614,
          -7.0420209805966465,
          -57.05834603806409,
          -40.30509603188118,
          -17.43481022732847,
          -22.920899685678066,
          -30.19423156577507,
          -24.10994412359632,
          -27.032357218867745,
          -37.097165812412115
         ],
         "yaxis": "y5"
        },
        {
         "alignmentgroup": "True",
         "base": [
          140.15772681322863,
          140.15772681322863,
          140.15772681322863,
          140.15772681322863,
          140.15772681322863,
          140.15772681322863
         ],
         "customdata": [
          [
           138.49597251345568,
           "Constrained LGBM",
           "Area"
          ],
          [
           135.09425783287043,
           "Constrained LGBM",
           "Area"
          ],
          [
           146.035678350833,
           "Constrained LGBM",
           "Area"
          ],
          [
           139.02676127497537,
           "Constrained LGBM",
           "Area"
          ],
          [
           133.9078654479927,
           "Constrained LGBM",
           "Area"
          ],
          [
           132.87174895328252,
           "Constrained LGBM",
           "Area"
          ]
         ],
         "hovertemplate": "<b>%{hovertext}</b><br><br>mean_prediction=%{base:.3f}<br>prediction=%{customdata[0]:.3f}<extra></extra>",
         "hovertext": [
          "Constrained LGBM",
          "Constrained LGBM",
          "Constrained LGBM",
          "Constrained LGBM",
          "Constrained LGBM",
          "Constrained LGBM"
         ],
         "legendgroup": "Constrained LGBM",
         "marker": {
          "color": "#46bac2",
          "pattern": {
           "shape": ""
          }
         },
         "name": "Constrained LGBM",
         "offsetgroup": "Constrained LGBM",
         "orientation": "v",
         "showlegend": false,
         "textposition": "auto",
         "type": "bar",
         "x": [
          "D",
          "B",
          "E",
          "C",
          "F",
          "A"
         ],
         "xaxis": "x6",
         "y": [
          -1.6617542997729515,
          -5.063468980358209,
          5.8779515376043605,
          -1.130965538253264,
          -6.249861365235944,
          -7.285977859946115
         ],
         "yaxis": "y6"
        },
        {
         "alignmentgroup": "True",
         "base": [
          140.15772681322863,
          140.15772681322863,
          140.15772681322863,
          140.15772681322863,
          140.15772681322863,
          140.15772681322863,
          140.15772681322863
         ],
         "customdata": [
          [
           151.4636896780683,
           "Constrained LGBM",
           "DrivAge"
          ],
          [
           151.61201572336168,
           "Constrained LGBM",
           "DrivAge"
          ],
          [
           120.02681395780726,
           "Constrained LGBM",
           "DrivAge"
          ],
          [
           108.68952099927199,
           "Constrained LGBM",
           "DrivAge"
          ],
          [
           127.69617026204092,
           "Constrained LGBM",
           "DrivAge"
          ],
          [
           178.60675160290285,
           "Constrained LGBM",
           "DrivAge"
          ],
          [
           168.68580802644175,
           "Constrained LGBM",
           "DrivAge"
          ]
         ],
         "hovertemplate": "<b>%{hovertext}</b><br><br>mean_prediction=%{base:.3f}<br>prediction=%{customdata[0]:.3f}<extra></extra>",
         "hovertext": [
          "Constrained LGBM",
          "Constrained LGBM",
          "Constrained LGBM",
          "Constrained LGBM",
          "Constrained LGBM",
          "Constrained LGBM",
          "Constrained LGBM"
         ],
         "legendgroup": "Constrained LGBM",
         "marker": {
          "color": "#46bac2",
          "pattern": {
           "shape": ""
          }
         },
         "name": "Constrained LGBM",
         "offsetgroup": "Constrained LGBM",
         "orientation": "v",
         "showlegend": false,
         "textposition": "auto",
         "type": "bar",
         "x": [
          "5",
          "4",
          "3",
          "2",
          "1",
          "6",
          "0"
         ],
         "xaxis": "x3",
         "y": [
          11.305962864839671,
          11.454288910133045,
          -20.13091285542137,
          -31.468205813956644,
          -12.461556551187712,
          38.44902478967421,
          28.528081213213113
         ],
         "yaxis": "y3"
        },
        {
         "alignmentgroup": "True",
         "base": [
          140.15772681322863,
          140.15772681322863,
          140.15772681322863
         ],
         "customdata": [
          [
           148.13683259200346,
           "Constrained LGBM",
           "VehAge"
          ],
          [
           149.86585438663488,
           "Constrained LGBM",
           "VehAge"
          ],
          [
           118.12917210929832,
           "Constrained LGBM",
           "VehAge"
          ]
         ],
         "hovertemplate": "<b>%{hovertext}</b><br><br>mean_prediction=%{base:.3f}<br>prediction=%{customdata[0]:.3f}<extra></extra>",
         "hovertext": [
          "Constrained LGBM",
          "Constrained LGBM",
          "Constrained LGBM"
         ],
         "legendgroup": "Constrained LGBM",
         "marker": {
          "color": "#46bac2",
          "pattern": {
           "shape": ""
          }
         },
         "name": "Constrained LGBM",
         "offsetgroup": "Constrained LGBM",
         "orientation": "v",
         "showlegend": false,
         "textposition": "auto",
         "type": "bar",
         "x": [
          "0",
          "1",
          "2"
         ],
         "xaxis": "x4",
         "y": [
          7.979105778774823,
          9.708127573406244,
          -22.02855470393031
         ],
         "yaxis": "y4"
        },
        {
         "alignmentgroup": "True",
         "base": [
          140.15772681322863,
          140.15772681322863,
          140.15772681322863,
          140.15772681322863,
          140.15772681322863,
          140.15772681322863
         ],
         "customdata": [
          [
           128.4062593612831,
           "Constrained LGBM",
           "VehPower"
          ],
          [
           143.94440469782484,
           "Constrained LGBM",
           "VehPower"
          ],
          [
           147.13006356093143,
           "Constrained LGBM",
           "VehPower"
          ],
          [
           128.9912540860871,
           "Constrained LGBM",
           "VehPower"
          ],
          [
           152.6619872464869,
           "Constrained LGBM",
           "VehPower"
          ],
          [
           138.09435546707547,
           "Constrained LGBM",
           "VehPower"
          ]
         ],
         "hovertemplate": "<b>%{hovertext}</b><br><br>mean_prediction=%{base:.3f}<br>prediction=%{customdata[0]:.3f}<extra></extra>",
         "hovertext": [
          "Constrained LGBM",
          "Constrained LGBM",
          "Constrained LGBM",
          "Constrained LGBM",
          "Constrained LGBM",
          "Constrained LGBM"
         ],
         "legendgroup": "Constrained LGBM",
         "marker": {
          "color": "#46bac2",
          "pattern": {
           "shape": ""
          }
         },
         "name": "Constrained LGBM",
         "offsetgroup": "Constrained LGBM",
         "orientation": "v",
         "showlegend": false,
         "textposition": "auto",
         "type": "bar",
         "x": [
          "5",
          "6",
          "7",
          "4",
          "9",
          "8"
         ],
         "xaxis": "x",
         "y": [
          -11.75146745194553,
          3.7866778845962017,
          6.972336747702798,
          -11.166472727141525,
          12.504260433258253,
          -2.0633713461531613
         ],
         "yaxis": "y"
        }
       ],
       "layout": {
        "annotations": [
         {
          "font": {
           "size": 13
          },
          "showarrow": false,
          "text": "VehPower",
          "x": 0.2375,
          "xanchor": "center",
          "xref": "paper",
          "y": 0.19375,
          "yanchor": "bottom",
          "yref": "paper"
         },
         {
          "font": {
           "size": 13
          },
          "showarrow": false,
          "text": "DrivAge",
          "x": 0.2375,
          "xanchor": "center",
          "xref": "paper",
          "y": 0.4625,
          "yanchor": "bottom",
          "yref": "paper"
         },
         {
          "font": {
           "size": 13
          },
          "showarrow": false,
          "text": "VehAge",
          "x": 0.7625,
          "xanchor": "center",
          "xref": "paper",
          "y": 0.4625,
          "yanchor": "bottom",
          "yref": "paper"
         },
         {
          "font": {
           "size": 13
          },
          "showarrow": false,
          "text": "Region",
          "x": 0.2375,
          "xanchor": "center",
          "xref": "paper",
          "y": 0.73125,
          "yanchor": "bottom",
          "yref": "paper"
         },
         {
          "font": {
           "size": 13
          },
          "showarrow": false,
          "text": "Area",
          "x": 0.7625,
          "xanchor": "center",
          "xref": "paper",
          "y": 0.73125,
          "yanchor": "bottom",
          "yref": "paper"
         },
         {
          "font": {
           "size": 13
          },
          "showarrow": false,
          "text": "VehBrand",
          "x": 0.2375,
          "xanchor": "center",
          "xref": "paper",
          "y": 1,
          "yanchor": "bottom",
          "yref": "paper"
         },
         {
          "font": {
           "size": 13
          },
          "showarrow": false,
          "text": "VehGas",
          "x": 0.7625,
          "xanchor": "center",
          "xref": "paper",
          "y": 1,
          "yanchor": "bottom",
          "yref": "paper"
         },
         {
          "font": {
           "size": 13
          },
          "showarrow": false,
          "text": "prediction",
          "textangle": -90,
          "x": -0.07,
          "xref": "paper",
          "y": 0.5,
          "yref": "paper"
         }
        ],
        "barmode": "group",
        "font": {
         "color": "#371ea3"
        },
        "height": 1509,
        "hovermode": "x unified",
        "legend": {
         "font": {
          "size": 11
         },
         "itemsizing": "constant",
         "orientation": "h",
         "title": {
          "font": {
           "size": 12
          },
          "text": "label"
         },
         "tracegroupgap": 0,
         "x": 1,
         "xanchor": "right",
         "y": 1.0198807157057654,
         "yanchor": "bottom"
        },
        "margin": {
         "b": 71,
         "r": 30,
         "t": 78
        },
        "shapes": [
         {
          "layer": "below",
          "line": {
           "color": "#371ea3",
           "dash": "dot",
           "width": 1.5
          },
          "type": "line",
          "x0": 0,
          "x1": 1,
          "xref": "x domain",
          "y0": 140.15772681322863,
          "y1": 140.15772681322863,
          "yref": "y"
         },
         {
          "layer": "below",
          "line": {
           "color": "#371ea3",
           "dash": "dot",
           "width": 1.5
          },
          "type": "line",
          "x0": 0,
          "x1": 1,
          "xref": "x3 domain",
          "y0": 140.15772681322863,
          "y1": 140.15772681322863,
          "yref": "y3"
         },
         {
          "layer": "below",
          "line": {
           "color": "#371ea3",
           "dash": "dot",
           "width": 1.5
          },
          "type": "line",
          "x0": 0,
          "x1": 1,
          "xref": "x4 domain",
          "y0": 140.15772681322863,
          "y1": 140.15772681322863,
          "yref": "y4"
         },
         {
          "layer": "below",
          "line": {
           "color": "#371ea3",
           "dash": "dot",
           "width": 1.5
          },
          "type": "line",
          "x0": 0,
          "x1": 1,
          "xref": "x5 domain",
          "y0": 140.15772681322863,
          "y1": 140.15772681322863,
          "yref": "y5"
         },
         {
          "layer": "below",
          "line": {
           "color": "#371ea3",
           "dash": "dot",
           "width": 1.5
          },
          "type": "line",
          "x0": 0,
          "x1": 1,
          "xref": "x6 domain",
          "y0": 140.15772681322863,
          "y1": 140.15772681322863,
          "yref": "y6"
         },
         {
          "layer": "below",
          "line": {
           "color": "#371ea3",
           "dash": "dot",
           "width": 1.5
          },
          "type": "line",
          "x0": 0,
          "x1": 1,
          "xref": "x7 domain",
          "y0": 140.15772681322863,
          "y1": 140.15772681322863,
          "yref": "y7"
         },
         {
          "layer": "below",
          "line": {
           "color": "#371ea3",
           "dash": "dot",
           "width": 1.5
          },
          "type": "line",
          "x0": 0,
          "x1": 1,
          "xref": "x8 domain",
          "y0": 140.15772681322863,
          "y1": 140.15772681322863,
          "yref": "y8"
         },
         {
          "layer": "below",
          "line": {
           "color": "#371ea3",
           "dash": "dot",
           "width": 1.5
          },
          "type": "line",
          "x0": 0,
          "x1": 1,
          "xref": "x domain",
          "y0": 140.15772681322863,
          "y1": 140.15772681322863,
          "yref": "y"
         },
         {
          "layer": "below",
          "line": {
           "color": "#371ea3",
           "dash": "dot",
           "width": 1.5
          },
          "type": "line",
          "x0": 0,
          "x1": 1,
          "xref": "x3 domain",
          "y0": 140.15772681322863,
          "y1": 140.15772681322863,
          "yref": "y3"
         },
         {
          "layer": "below",
          "line": {
           "color": "#371ea3",
           "dash": "dot",
           "width": 1.5
          },
          "type": "line",
          "x0": 0,
          "x1": 1,
          "xref": "x4 domain",
          "y0": 140.15772681322863,
          "y1": 140.15772681322863,
          "yref": "y4"
         },
         {
          "layer": "below",
          "line": {
           "color": "#371ea3",
           "dash": "dot",
           "width": 1.5
          },
          "type": "line",
          "x0": 0,
          "x1": 1,
          "xref": "x5 domain",
          "y0": 140.15772681322863,
          "y1": 140.15772681322863,
          "yref": "y5"
         },
         {
          "layer": "below",
          "line": {
           "color": "#371ea3",
           "dash": "dot",
           "width": 1.5
          },
          "type": "line",
          "x0": 0,
          "x1": 1,
          "xref": "x6 domain",
          "y0": 140.15772681322863,
          "y1": 140.15772681322863,
          "yref": "y6"
         },
         {
          "layer": "below",
          "line": {
           "color": "#371ea3",
           "dash": "dot",
           "width": 1.5
          },
          "type": "line",
          "x0": 0,
          "x1": 1,
          "xref": "x7 domain",
          "y0": 140.15772681322863,
          "y1": 140.15772681322863,
          "yref": "y7"
         },
         {
          "layer": "below",
          "line": {
           "color": "#371ea3",
           "dash": "dot",
           "width": 1.5
          },
          "type": "line",
          "x0": 0,
          "x1": 1,
          "xref": "x8 domain",
          "y0": 140.15772681322863,
          "y1": 140.15772681322863,
          "yref": "y8"
         },
         {
          "layer": "below",
          "line": {
           "color": "#371ea3",
           "dash": "dot",
           "width": 1.5
          },
          "type": "line",
          "x0": 0,
          "x1": 1,
          "xref": "x domain",
          "y0": 140.15772681322863,
          "y1": 140.15772681322863,
          "yref": "y"
         },
         {
          "layer": "below",
          "line": {
           "color": "#371ea3",
           "dash": "dot",
           "width": 1.5
          },
          "type": "line",
          "x0": 0,
          "x1": 1,
          "xref": "x3 domain",
          "y0": 140.15772681322863,
          "y1": 140.15772681322863,
          "yref": "y3"
         },
         {
          "layer": "below",
          "line": {
           "color": "#371ea3",
           "dash": "dot",
           "width": 1.5
          },
          "type": "line",
          "x0": 0,
          "x1": 1,
          "xref": "x4 domain",
          "y0": 140.15772681322863,
          "y1": 140.15772681322863,
          "yref": "y4"
         },
         {
          "layer": "below",
          "line": {
           "color": "#371ea3",
           "dash": "dot",
           "width": 1.5
          },
          "type": "line",
          "x0": 0,
          "x1": 1,
          "xref": "x5 domain",
          "y0": 140.15772681322863,
          "y1": 140.15772681322863,
          "yref": "y5"
         },
         {
          "layer": "below",
          "line": {
           "color": "#371ea3",
           "dash": "dot",
           "width": 1.5
          },
          "type": "line",
          "x0": 0,
          "x1": 1,
          "xref": "x6 domain",
          "y0": 140.15772681322863,
          "y1": 140.15772681322863,
          "yref": "y6"
         },
         {
          "layer": "below",
          "line": {
           "color": "#371ea3",
           "dash": "dot",
           "width": 1.5
          },
          "type": "line",
          "x0": 0,
          "x1": 1,
          "xref": "x7 domain",
          "y0": 140.15772681322863,
          "y1": 140.15772681322863,
          "yref": "y7"
         },
         {
          "layer": "below",
          "line": {
           "color": "#371ea3",
           "dash": "dot",
           "width": 1.5
          },
          "type": "line",
          "x0": 0,
          "x1": 1,
          "xref": "x8 domain",
          "y0": 140.15772681322863,
          "y1": 140.15772681322863,
          "yref": "y8"
         },
         {
          "layer": "below",
          "line": {
           "color": "#371ea3",
           "dash": "dot",
           "width": 1.5
          },
          "type": "line",
          "x0": 0,
          "x1": 1,
          "xref": "x domain",
          "y0": 140.15772681322863,
          "y1": 140.15772681322863,
          "yref": "y"
         },
         {
          "layer": "below",
          "line": {
           "color": "#371ea3",
           "dash": "dot",
           "width": 1.5
          },
          "type": "line",
          "x0": 0,
          "x1": 1,
          "xref": "x3 domain",
          "y0": 140.15772681322863,
          "y1": 140.15772681322863,
          "yref": "y3"
         },
         {
          "layer": "below",
          "line": {
           "color": "#371ea3",
           "dash": "dot",
           "width": 1.5
          },
          "type": "line",
          "x0": 0,
          "x1": 1,
          "xref": "x4 domain",
          "y0": 140.15772681322863,
          "y1": 140.15772681322863,
          "yref": "y4"
         },
         {
          "layer": "below",
          "line": {
           "color": "#371ea3",
           "dash": "dot",
           "width": 1.5
          },
          "type": "line",
          "x0": 0,
          "x1": 1,
          "xref": "x5 domain",
          "y0": 140.15772681322863,
          "y1": 140.15772681322863,
          "yref": "y5"
         },
         {
          "layer": "below",
          "line": {
           "color": "#371ea3",
           "dash": "dot",
           "width": 1.5
          },
          "type": "line",
          "x0": 0,
          "x1": 1,
          "xref": "x6 domain",
          "y0": 140.15772681322863,
          "y1": 140.15772681322863,
          "yref": "y6"
         },
         {
          "layer": "below",
          "line": {
           "color": "#371ea3",
           "dash": "dot",
           "width": 1.5
          },
          "type": "line",
          "x0": 0,
          "x1": 1,
          "xref": "x7 domain",
          "y0": 140.15772681322863,
          "y1": 140.15772681322863,
          "yref": "y7"
         },
         {
          "layer": "below",
          "line": {
           "color": "#371ea3",
           "dash": "dot",
           "width": 1.5
          },
          "type": "line",
          "x0": 0,
          "x1": 1,
          "xref": "x8 domain",
          "y0": 140.15772681322863,
          "y1": 140.15772681322863,
          "yref": "y8"
         },
         {
          "layer": "below",
          "line": {
           "color": "#371ea3",
           "dash": "dot",
           "width": 1.5
          },
          "type": "line",
          "x0": 0,
          "x1": 1,
          "xref": "x domain",
          "y0": 140.15772681322863,
          "y1": 140.15772681322863,
          "yref": "y"
         },
         {
          "layer": "below",
          "line": {
           "color": "#371ea3",
           "dash": "dot",
           "width": 1.5
          },
          "type": "line",
          "x0": 0,
          "x1": 1,
          "xref": "x3 domain",
          "y0": 140.15772681322863,
          "y1": 140.15772681322863,
          "yref": "y3"
         },
         {
          "layer": "below",
          "line": {
           "color": "#371ea3",
           "dash": "dot",
           "width": 1.5
          },
          "type": "line",
          "x0": 0,
          "x1": 1,
          "xref": "x4 domain",
          "y0": 140.15772681322863,
          "y1": 140.15772681322863,
          "yref": "y4"
         },
         {
          "layer": "below",
          "line": {
           "color": "#371ea3",
           "dash": "dot",
           "width": 1.5
          },
          "type": "line",
          "x0": 0,
          "x1": 1,
          "xref": "x5 domain",
          "y0": 140.15772681322863,
          "y1": 140.15772681322863,
          "yref": "y5"
         },
         {
          "layer": "below",
          "line": {
           "color": "#371ea3",
           "dash": "dot",
           "width": 1.5
          },
          "type": "line",
          "x0": 0,
          "x1": 1,
          "xref": "x6 domain",
          "y0": 140.15772681322863,
          "y1": 140.15772681322863,
          "yref": "y6"
         },
         {
          "layer": "below",
          "line": {
           "color": "#371ea3",
           "dash": "dot",
           "width": 1.5
          },
          "type": "line",
          "x0": 0,
          "x1": 1,
          "xref": "x7 domain",
          "y0": 140.15772681322863,
          "y1": 140.15772681322863,
          "yref": "y7"
         },
         {
          "layer": "below",
          "line": {
           "color": "#371ea3",
           "dash": "dot",
           "width": 1.5
          },
          "type": "line",
          "x0": 0,
          "x1": 1,
          "xref": "x8 domain",
          "y0": 140.15772681322863,
          "y1": 140.15772681322863,
          "yref": "y8"
         },
         {
          "layer": "below",
          "line": {
           "color": "#371ea3",
           "dash": "dot",
           "width": 1.5
          },
          "type": "line",
          "x0": 0,
          "x1": 1,
          "xref": "x domain",
          "y0": 140.15772681322863,
          "y1": 140.15772681322863,
          "yref": "y"
         },
         {
          "layer": "below",
          "line": {
           "color": "#371ea3",
           "dash": "dot",
           "width": 1.5
          },
          "type": "line",
          "x0": 0,
          "x1": 1,
          "xref": "x3 domain",
          "y0": 140.15772681322863,
          "y1": 140.15772681322863,
          "yref": "y3"
         },
         {
          "layer": "below",
          "line": {
           "color": "#371ea3",
           "dash": "dot",
           "width": 1.5
          },
          "type": "line",
          "x0": 0,
          "x1": 1,
          "xref": "x4 domain",
          "y0": 140.15772681322863,
          "y1": 140.15772681322863,
          "yref": "y4"
         },
         {
          "layer": "below",
          "line": {
           "color": "#371ea3",
           "dash": "dot",
           "width": 1.5
          },
          "type": "line",
          "x0": 0,
          "x1": 1,
          "xref": "x5 domain",
          "y0": 140.15772681322863,
          "y1": 140.15772681322863,
          "yref": "y5"
         },
         {
          "layer": "below",
          "line": {
           "color": "#371ea3",
           "dash": "dot",
           "width": 1.5
          },
          "type": "line",
          "x0": 0,
          "x1": 1,
          "xref": "x6 domain",
          "y0": 140.15772681322863,
          "y1": 140.15772681322863,
          "yref": "y6"
         },
         {
          "layer": "below",
          "line": {
           "color": "#371ea3",
           "dash": "dot",
           "width": 1.5
          },
          "type": "line",
          "x0": 0,
          "x1": 1,
          "xref": "x7 domain",
          "y0": 140.15772681322863,
          "y1": 140.15772681322863,
          "yref": "y7"
         },
         {
          "layer": "below",
          "line": {
           "color": "#371ea3",
           "dash": "dot",
           "width": 1.5
          },
          "type": "line",
          "x0": 0,
          "x1": 1,
          "xref": "x8 domain",
          "y0": 140.15772681322863,
          "y1": 140.15772681322863,
          "yref": "y8"
         },
         {
          "layer": "below",
          "line": {
           "color": "#371ea3",
           "dash": "dot",
           "width": 1.5
          },
          "type": "line",
          "x0": 0,
          "x1": 1,
          "xref": "x domain",
          "y0": 140.15772681322863,
          "y1": 140.15772681322863,
          "yref": "y"
         },
         {
          "layer": "below",
          "line": {
           "color": "#371ea3",
           "dash": "dot",
           "width": 1.5
          },
          "type": "line",
          "x0": 0,
          "x1": 1,
          "xref": "x3 domain",
          "y0": 140.15772681322863,
          "y1": 140.15772681322863,
          "yref": "y3"
         },
         {
          "layer": "below",
          "line": {
           "color": "#371ea3",
           "dash": "dot",
           "width": 1.5
          },
          "type": "line",
          "x0": 0,
          "x1": 1,
          "xref": "x4 domain",
          "y0": 140.15772681322863,
          "y1": 140.15772681322863,
          "yref": "y4"
         },
         {
          "layer": "below",
          "line": {
           "color": "#371ea3",
           "dash": "dot",
           "width": 1.5
          },
          "type": "line",
          "x0": 0,
          "x1": 1,
          "xref": "x5 domain",
          "y0": 140.15772681322863,
          "y1": 140.15772681322863,
          "yref": "y5"
         },
         {
          "layer": "below",
          "line": {
           "color": "#371ea3",
           "dash": "dot",
           "width": 1.5
          },
          "type": "line",
          "x0": 0,
          "x1": 1,
          "xref": "x6 domain",
          "y0": 140.15772681322863,
          "y1": 140.15772681322863,
          "yref": "y6"
         },
         {
          "layer": "below",
          "line": {
           "color": "#371ea3",
           "dash": "dot",
           "width": 1.5
          },
          "type": "line",
          "x0": 0,
          "x1": 1,
          "xref": "x7 domain",
          "y0": 140.15772681322863,
          "y1": 140.15772681322863,
          "yref": "y7"
         },
         {
          "layer": "below",
          "line": {
           "color": "#371ea3",
           "dash": "dot",
           "width": 1.5
          },
          "type": "line",
          "x0": 0,
          "x1": 1,
          "xref": "x8 domain",
          "y0": 140.15772681322863,
          "y1": 140.15772681322863,
          "yref": "y8"
         }
        ],
        "template": {
         "data": {
          "scatter": [
           {
            "type": "scatter"
           }
          ]
         }
        },
        "title": {
         "font": {
          "size": 16
         },
         "text": "Aggregated Profiles",
         "x": 0.15
        },
        "xaxis": {
         "anchor": "y",
         "automargin": true,
         "domain": [
          0,
          0.475
         ],
         "fixedrange": true,
         "gridwidth": 2,
         "showticklabels": true,
         "tickcolor": "white",
         "ticklen": 10,
         "ticks": "outside",
         "title": {
          "text": ""
         },
         "type": "category"
        },
        "xaxis2": {
         "anchor": "y2",
         "automargin": true,
         "domain": [
          0.525,
          1
         ],
         "fixedrange": true,
         "gridwidth": 2,
         "showticklabels": true,
         "tickcolor": "white",
         "ticklen": 10,
         "ticks": "outside",
         "title": {
          "text": ""
         },
         "type": "category"
        },
        "xaxis3": {
         "anchor": "y3",
         "automargin": true,
         "domain": [
          0,
          0.475
         ],
         "fixedrange": true,
         "gridwidth": 2,
         "showticklabels": true,
         "tickcolor": "white",
         "ticklen": 10,
         "ticks": "outside",
         "title": {
          "text": ""
         },
         "type": "category"
        },
        "xaxis4": {
         "anchor": "y4",
         "automargin": true,
         "domain": [
          0.525,
          1
         ],
         "fixedrange": true,
         "gridwidth": 2,
         "showticklabels": true,
         "tickcolor": "white",
         "ticklen": 10,
         "ticks": "outside",
         "title": {
          "text": ""
         },
         "type": "category"
        },
        "xaxis5": {
         "anchor": "y5",
         "automargin": true,
         "domain": [
          0,
          0.475
         ],
         "fixedrange": true,
         "gridwidth": 2,
         "showticklabels": true,
         "tickcolor": "white",
         "ticklen": 10,
         "ticks": "outside",
         "title": {
          "text": ""
         },
         "type": "category"
        },
        "xaxis6": {
         "anchor": "y6",
         "automargin": true,
         "domain": [
          0.525,
          1
         ],
         "fixedrange": true,
         "gridwidth": 2,
         "showticklabels": true,
         "tickcolor": "white",
         "ticklen": 10,
         "ticks": "outside",
         "title": {
          "text": ""
         },
         "type": "category"
        },
        "xaxis7": {
         "anchor": "y7",
         "automargin": true,
         "domain": [
          0,
          0.475
         ],
         "fixedrange": true,
         "gridwidth": 2,
         "showticklabels": true,
         "tickcolor": "white",
         "ticklen": 10,
         "ticks": "outside",
         "title": {
          "text": ""
         },
         "type": "category"
        },
        "xaxis8": {
         "anchor": "y8",
         "automargin": true,
         "domain": [
          0.525,
          1
         ],
         "fixedrange": true,
         "gridwidth": 2,
         "showticklabels": true,
         "tickcolor": "white",
         "ticklen": 10,
         "ticks": "outside",
         "title": {
          "text": ""
         },
         "type": "category"
        },
        "yaxis": {
         "anchor": "x",
         "automargin": true,
         "domain": [
          0,
          0.19375
         ],
         "fixedrange": true,
         "gridwidth": 2,
         "range": [
          73.13970193882746,
          192.65584797487253
         ],
         "tickcolor": "white",
         "ticklen": 3,
         "ticks": "outside",
         "title": {
          "text": ""
         },
         "type": "linear",
         "zeroline": false
        },
        "yaxis2": {
         "anchor": "x2",
         "automargin": true,
         "domain": [
          0,
          0.19375
         ],
         "fixedrange": true,
         "gridwidth": 2,
         "matches": "y",
         "showticklabels": false,
         "tickcolor": "white",
         "ticklen": 3,
         "ticks": "outside",
         "title": {
          "text": ""
         },
         "type": "linear",
         "zeroline": false
        },
        "yaxis3": {
         "anchor": "x3",
         "automargin": true,
         "domain": [
          0.26875,
          0.4625
         ],
         "fixedrange": true,
         "gridwidth": 2,
         "matches": "y",
         "range": [
          73.13970193882746,
          192.65584797487253
         ],
         "tickcolor": "white",
         "ticklen": 3,
         "ticks": "outside",
         "title": {
          "text": ""
         },
         "type": "linear",
         "zeroline": false
        },
        "yaxis4": {
         "anchor": "x4",
         "automargin": true,
         "domain": [
          0.26875,
          0.4625
         ],
         "fixedrange": true,
         "gridwidth": 2,
         "matches": "y",
         "showticklabels": false,
         "tickcolor": "white",
         "ticklen": 3,
         "ticks": "outside",
         "title": {
          "text": ""
         },
         "type": "linear",
         "zeroline": false
        },
        "yaxis5": {
         "anchor": "x5",
         "automargin": true,
         "domain": [
          0.5375,
          0.73125
         ],
         "fixedrange": true,
         "gridwidth": 2,
         "matches": "y",
         "range": [
          73.13970193882746,
          192.65584797487253
         ],
         "tickcolor": "white",
         "ticklen": 3,
         "ticks": "outside",
         "title": {
          "text": ""
         },
         "type": "linear",
         "zeroline": false
        },
        "yaxis6": {
         "anchor": "x6",
         "automargin": true,
         "domain": [
          0.5375,
          0.73125
         ],
         "fixedrange": true,
         "gridwidth": 2,
         "matches": "y",
         "showticklabels": false,
         "tickcolor": "white",
         "ticklen": 3,
         "ticks": "outside",
         "title": {
          "text": ""
         },
         "type": "linear",
         "zeroline": false
        },
        "yaxis7": {
         "anchor": "x7",
         "automargin": true,
         "domain": [
          0.80625,
          1
         ],
         "fixedrange": true,
         "gridwidth": 2,
         "matches": "y",
         "range": [
          73.13970193882746,
          192.65584797487253
         ],
         "tickcolor": "white",
         "ticklen": 3,
         "ticks": "outside",
         "title": {
          "text": ""
         },
         "type": "linear",
         "zeroline": false
        },
        "yaxis8": {
         "anchor": "x8",
         "automargin": true,
         "domain": [
          0.80625,
          1
         ],
         "fixedrange": true,
         "gridwidth": 2,
         "matches": "y",
         "showticklabels": false,
         "tickcolor": "white",
         "ticklen": 3,
         "ticks": "outside",
         "title": {
          "text": ""
         },
         "type": "linear",
         "zeroline": false
        }
       }
      }
     },
     "metadata": {},
     "output_type": "display_data"
    }
   ],
   "source": [
    "# Plots for constrained LGBM\n",
    "\n",
    "pd_lgbm_constrained_cat.plot()"
   ]
  },
  {
   "cell_type": "code",
   "execution_count": null,
   "metadata": {},
   "outputs": [
    {
     "name": "stdout",
     "output_type": "stream",
     "text": [
      "<dalex._explainer.object.Explainer object at 0x28380dbb0>\n"
     ]
    },
    {
     "data": {
      "text/plain": [
       "<dalex._explainer.object.Explainer at 0x2a949ee40>"
      ]
     },
     "execution_count": 63,
     "metadata": {},
     "output_type": "execute_result"
    }
   ],
   "source": [
    "# EX 5.1\n",
    "\n",
    "best_constrained_lgbm_exp\n",
    "best_unconstrained_lgbm_exp"
   ]
  },
  {
   "cell_type": "code",
   "execution_count": 67,
   "metadata": {},
   "outputs": [],
   "source": [
    "# EX 5.2\n",
    "\n",
    "X_test_t_row1 = X_test_t[0:1]\n",
    "\n",
    "pp_best_constrained_lgbm_exp = best_constrained_lgbm_exp.predict_parts(new_observation=X_test_t_row1,\n",
    "                                                                       type=\"shap\",\n",
    "                                                                       label=\"Contribution of each feature to the constrained prediction of the 1st observation\")\n",
    "\n",
    "pp_best_unconstrained_lgbm_exp = best_unconstrained_lgbm_exp.predict_parts(new_observation=X_test_t_row1,\n",
    "                                                                           type=\"shap\",\n",
    "                                                                           label=\"Contribution of each feature to the unconstrained prediction of the 1st observation\")\n"
   ]
  },
  {
   "cell_type": "code",
   "execution_count": 66,
   "metadata": {},
   "outputs": [
    {
     "data": {
      "application/vnd.plotly.v1+json": {
       "config": {
        "displaylogo": false,
        "modeBarButtonsToRemove": [
         "sendDataToCloud",
         "lasso2d",
         "autoScale2d",
         "select2d",
         "zoom2d",
         "pan2d",
         "zoomIn2d",
         "zoomOut2d",
         "resetScale2d",
         "toggleSpikelines",
         "hoverCompareCartesian",
         "hoverClosestCartesian"
        ],
        "plotlyServerURL": "https://plot.ly",
        "staticPlot": false,
        "toImageButtonOptions": {
         "height": null,
         "width": null
        }
       },
       "data": [
        {
         "base": 134.50335425096,
         "hoverinfo": "text",
         "hoverlabel": {
          "bgcolor": "rgba(0,0,0,0.8)"
         },
         "hovertext": [
          "Average response: 134.503<br>Prediction: 103.394<br>DrivAge = 3.0<br>decreases average response <br>by 29.315",
          "Average response: 134.503<br>Prediction: 103.394<br>Density = 23.0<br>decreases average response <br>by 21.987",
          "Average response: 134.503<br>Prediction: 103.394<br>VehAge = 1.0<br>increases average response <br>by 8.856",
          "Average response: 134.503<br>Prediction: 103.394<br>VehPower = 6.0<br>increases average response <br>by 8.534",
          "Average response: 134.503<br>Prediction: 103.394<br>VehGas = Diesel<br>increases average response <br>by 7.272",
          "Average response: 134.503<br>Prediction: 103.394<br>VehBrand = B12<br>decreases average response <br>by 6.46",
          "Average response: 134.503<br>Prediction: 103.394<br>Area = A<br>increases average response <br>by 2.496",
          "Average response: 134.503<br>Prediction: 103.394<br>BonusMalus = 56.0<br>decreases average response <br>by 1.851",
          "Average response: 134.503<br>Prediction: 103.394<br>Region = R24<br>increases average response <br>by 1.346"
         ],
         "marker": {
          "color": [
           "#f05a71",
           "#f05a71",
           "#8bdcbe",
           "#8bdcbe",
           "#8bdcbe",
           "#f05a71",
           "#8bdcbe",
           "#f05a71",
           "#8bdcbe"
          ]
         },
         "orientation": "h",
         "showlegend": false,
         "text": [
          "-29.315",
          "-21.987",
          "+8.856",
          "+8.534",
          "+7.272",
          "-6.46",
          "+2.496",
          "-1.851",
          "+1.346"
         ],
         "textposition": "outside",
         "type": "bar",
         "x": [
          -29.315,
          -21.987,
          8.856,
          8.534,
          7.272,
          -6.46,
          2.496,
          -1.851,
          1.346
         ],
         "xaxis": "x",
         "y": [
          "DrivAge = 3.0",
          "Density = 23.0",
          "VehAge = 1.0",
          "VehPower = 6.0",
          "VehGas = Diesel",
          "VehBrand = B12",
          "Area = A",
          "BonusMalus = 56.0",
          "Region = R24"
         ],
         "yaxis": "y"
        }
       ],
       "layout": {
        "annotations": [
         {
          "font": {
           "size": 16
          },
          "showarrow": false,
          "text": "Row 1 Driver's Age",
          "x": 0.5,
          "xanchor": "center",
          "xref": "paper",
          "y": 1,
          "yanchor": "bottom",
          "yref": "paper"
         },
         {
          "font": {
           "size": 16
          },
          "showarrow": false,
          "text": "contribution",
          "x": 0.5,
          "xanchor": "center",
          "xref": "paper",
          "y": 0,
          "yanchor": "top",
          "yref": "paper",
          "yshift": -30
         }
        ],
        "font": {
         "color": "#371ea3"
        },
        "height": 333,
        "margin": {
         "b": 71,
         "r": 30,
         "t": 78
        },
        "shapes": [
         {
          "line": {
           "color": "#371ea3",
           "dash": "dot",
           "width": 1.5
          },
          "type": "line",
          "x0": 134.50335425096,
          "x1": 134.50335425096,
          "xref": "x",
          "y0": -1,
          "y1": 9,
          "yref": "y"
         }
        ],
        "template": {
         "data": {
          "scatter": [
           {
            "type": "scatter"
           }
          ]
         }
        },
        "title": {
         "text": "Shapley Values",
         "x": 0.15
        },
        "xaxis": {
         "anchor": "y",
         "automargin": true,
         "domain": [
          0,
          1
         ],
         "fixedrange": true,
         "gridwidth": 2,
         "range": [
          99.46270425096,
          149.08500425096
         ],
         "tickcolor": "white",
         "ticklen": 3,
         "ticks": "outside",
         "type": "linear",
         "zeroline": false
        },
        "yaxis": {
         "anchor": "x",
         "automargin": true,
         "autorange": "reversed",
         "domain": [
          0,
          1
         ],
         "fixedrange": true,
         "gridwidth": 2,
         "tickcolor": "white",
         "ticklen": 10,
         "ticks": "outside",
         "type": "category"
        }
       }
      }
     },
     "metadata": {},
     "output_type": "display_data"
    }
   ],
   "source": [
    "pp_best_constrained_lgbm_exp.plot()"
   ]
  },
  {
   "cell_type": "code",
   "execution_count": 68,
   "metadata": {},
   "outputs": [
    {
     "data": {
      "application/vnd.plotly.v1+json": {
       "config": {
        "displaylogo": false,
        "modeBarButtonsToRemove": [
         "sendDataToCloud",
         "lasso2d",
         "autoScale2d",
         "select2d",
         "zoom2d",
         "pan2d",
         "zoomIn2d",
         "zoomOut2d",
         "resetScale2d",
         "toggleSpikelines",
         "hoverCompareCartesian",
         "hoverClosestCartesian"
        ],
        "plotlyServerURL": "https://plot.ly",
        "staticPlot": false,
        "toImageButtonOptions": {
         "height": null,
         "width": null
        }
       },
       "data": [
        {
         "base": 129.74035595633546,
         "hoverinfo": "text",
         "hoverlabel": {
          "bgcolor": "rgba(0,0,0,0.8)"
         },
         "hovertext": [
          "Average response: 129.74<br>Prediction: 94.1<br>DrivAge = 3.0<br>decreases average response <br>by 24.306",
          "Average response: 129.74<br>Prediction: 94.1<br>Density = 23.0<br>decreases average response <br>by 20.88",
          "Average response: 129.74<br>Prediction: 94.1<br>VehAge = 1.0<br>increases average response <br>by 10.55",
          "Average response: 129.74<br>Prediction: 94.1<br>VehBrand = B12<br>decreases average response <br>by 8.995",
          "Average response: 129.74<br>Prediction: 94.1<br>VehGas = Diesel<br>increases average response <br>by 7.62",
          "Average response: 129.74<br>Prediction: 94.1<br>VehPower = 6.0<br>increases average response <br>by 5.45",
          "Average response: 129.74<br>Prediction: 94.1<br>Region = R24<br>decreases average response <br>by 4.027",
          "Average response: 129.74<br>Prediction: 94.1<br>Area = A<br>decreases average response <br>by 3.113",
          "Average response: 129.74<br>Prediction: 94.1<br>BonusMalus = 56.0<br>increases average response <br>by 2.061"
         ],
         "marker": {
          "color": [
           "#f05a71",
           "#f05a71",
           "#8bdcbe",
           "#f05a71",
           "#8bdcbe",
           "#8bdcbe",
           "#f05a71",
           "#f05a71",
           "#8bdcbe"
          ]
         },
         "orientation": "h",
         "showlegend": false,
         "text": [
          "-24.306",
          "-20.88",
          "+10.55",
          "-8.995",
          "+7.62",
          "+5.45",
          "-4.027",
          "-3.113",
          "+2.061"
         ],
         "textposition": "outside",
         "type": "bar",
         "x": [
          -24.306,
          -20.88,
          10.55,
          -8.995,
          7.62,
          5.45,
          -4.027,
          -3.113,
          2.061
         ],
         "xaxis": "x",
         "y": [
          "DrivAge = 3.0",
          "Density = 23.0",
          "VehAge = 1.0",
          "VehBrand = B12",
          "VehGas = Diesel",
          "VehPower = 6.0",
          "Region = R24",
          "Area = A",
          "BonusMalus = 56.0"
         ],
         "yaxis": "y"
        }
       ],
       "layout": {
        "annotations": [
         {
          "font": {
           "size": 16
          },
          "showarrow": false,
          "text": "Contribution of each feature to the unconstrained prediction of the 1st observation",
          "x": 0.5,
          "xanchor": "center",
          "xref": "paper",
          "y": 1,
          "yanchor": "bottom",
          "yref": "paper"
         },
         {
          "font": {
           "size": 16
          },
          "showarrow": false,
          "text": "contribution",
          "x": 0.5,
          "xanchor": "center",
          "xref": "paper",
          "y": 0,
          "yanchor": "top",
          "yref": "paper",
          "yshift": -30
         }
        ],
        "font": {
         "color": "#371ea3"
        },
        "height": 333,
        "margin": {
         "b": 71,
         "r": 30,
         "t": 78
        },
        "shapes": [
         {
          "line": {
           "color": "#371ea3",
           "dash": "dot",
           "width": 1.5
          },
          "type": "line",
          "x0": 129.74035595633546,
          "x1": 129.74035595633546,
          "xref": "x",
          "y0": -1,
          "y1": 9,
          "yref": "y"
         }
        ],
        "template": {
         "data": {
          "scatter": [
           {
            "type": "scatter"
           }
          ]
         }
        },
        "title": {
         "text": "Shapley Values",
         "x": 0.15
        },
        "xaxis": {
         "anchor": "y",
         "automargin": true,
         "domain": [
          0,
          1
         ],
         "fixedrange": true,
         "gridwidth": 2,
         "range": [
          100.20595595633546,
          145.51875595633547
         ],
         "tickcolor": "white",
         "ticklen": 3,
         "ticks": "outside",
         "type": "linear",
         "zeroline": false
        },
        "yaxis": {
         "anchor": "x",
         "automargin": true,
         "autorange": "reversed",
         "domain": [
          0,
          1
         ],
         "fixedrange": true,
         "gridwidth": 2,
         "tickcolor": "white",
         "ticklen": 10,
         "ticks": "outside",
         "type": "category"
        }
       }
      }
     },
     "metadata": {},
     "output_type": "display_data"
    }
   ],
   "source": [
    "pp_best_unconstrained_lgbm_exp.plot()"
   ]
  },
  {
   "cell_type": "markdown",
   "metadata": {},
   "source": [
    "The contribution of BonusMalus to the predicted value differs across our constrained and unconstrained model which we might expect given the monotonicity constraint imposed in the constrained model which makes the contribution at this relatively low BonusMalus level negative. The direction of the contribution of region and area also varies across the two models perhaps suggesting that their overall relationship to the dependent variable is weak and thus their values adjust readily to compensate for the change in the contribution of BonusMalus."
   ]
  }
 ],
 "metadata": {
  "kernelspec": {
   "display_name": "ps3_2",
   "language": "python",
   "name": "python3"
  },
  "language_info": {
   "codemirror_mode": {
    "name": "ipython",
    "version": 3
   },
   "file_extension": ".py",
   "mimetype": "text/x-python",
   "name": "python",
   "nbconvert_exporter": "python",
   "pygments_lexer": "ipython3",
   "version": "3.12.7"
  }
 },
 "nbformat": 4,
 "nbformat_minor": 2
}
